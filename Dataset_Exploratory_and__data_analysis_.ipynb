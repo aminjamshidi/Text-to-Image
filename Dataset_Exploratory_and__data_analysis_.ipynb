{
  "nbformat": 4,
  "nbformat_minor": 0,
  "metadata": {
    "colab": {
      "provenance": []
    },
    "kernelspec": {
      "name": "python3",
      "display_name": "Python 3"
    },
    "language_info": {
      "name": "python"
    }
  },
  "cells": [
    {
      "cell_type": "markdown",
      "source": [
        "#load dataset"
      ],
      "metadata": {
        "id": "NR7T2EgBhJ_n"
      }
    },
    {
      "cell_type": "code",
      "source": [
        "import pandas as pd"
      ],
      "metadata": {
        "id": "KYKNq-d8hUeu"
      },
      "execution_count": null,
      "outputs": []
    },
    {
      "cell_type": "code",
      "execution_count": null,
      "metadata": {
        "id": "Dm1CPPUpgJzy"
      },
      "outputs": [],
      "source": [
        "#read .txt file and convert it to dataframe\n",
        "file_path='/content/drive/MyDrive/booksummaries.txt'\n",
        "fields=['ID', 'Tag', 'Title', 'Author', 'Year', 'Genre', 'Description']\n",
        "data_frame = pd.read_csv(file_path, sep='\\t', header=None, names=fields)\n",
        "#cleaning data frame from missing value:\n",
        "data_frame_cleaned = data_frame.dropna(axis=1)"
      ]
    },
    {
      "cell_type": "code",
      "source": [],
      "metadata": {
        "id": "UsSlK84ThMPU"
      },
      "execution_count": null,
      "outputs": []
    }
  ]
}