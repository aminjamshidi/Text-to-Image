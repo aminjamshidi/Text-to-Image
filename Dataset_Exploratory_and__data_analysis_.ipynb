{
  "nbformat": 4,
  "nbformat_minor": 0,
  "metadata": {
    "colab": {
      "provenance": []
    },
    "kernelspec": {
      "name": "python3",
      "display_name": "Python 3"
    },
    "language_info": {
      "name": "python"
    }
  },
  "cells": [
    {
      "cell_type": "markdown",
      "source": [
        "#load dataset"
      ],
      "metadata": {
        "id": "NR7T2EgBhJ_n"
      }
    },
    {
      "cell_type": "code",
      "source": [
        "import pandas as pd"
      ],
      "metadata": {
        "id": "KYKNq-d8hUeu"
      },
      "execution_count": null,
      "outputs": []
    },
    {
      "cell_type": "code",
      "execution_count": null,
      "metadata": {
        "id": "Dm1CPPUpgJzy",
        "colab": {
          "base_uri": "https://localhost:8080/",
          "height": 206
        },
        "outputId": "9bcaee2e-65c0-4c9f-ff8a-5deae058e266"
      },
      "outputs": [
        {
          "output_type": "execute_result",
          "data": {
            "text/plain": [
              "     ID      Tag                                      Title           Author  \\\n",
              "0   620  /m/0hhy                                Animal Farm    George Orwell   \n",
              "1   843  /m/0k36                         A Clockwork Orange  Anthony Burgess   \n",
              "2   986  /m/0ldx                                 The Plague     Albert Camus   \n",
              "3  1756  /m/0sww  An Enquiry Concerning Human Understanding       David Hume   \n",
              "4  2080  /m/0wkt                       A Fire Upon the Deep     Vernor Vinge   \n",
              "\n",
              "         Year                                              Genre  \\\n",
              "0  1945-08-17  {\"/m/016lj8\": \"Roman \\u00e0 clef\", \"/m/06nbt\":...   \n",
              "1        1962  {\"/m/06n90\": \"Science Fiction\", \"/m/0l67h\": \"N...   \n",
              "2        1947  {\"/m/02m4t\": \"Existentialism\", \"/m/02xlf\": \"Fi...   \n",
              "3         NaN                                                NaN   \n",
              "4         NaN  {\"/m/03lrw\": \"Hard science fiction\", \"/m/06n90...   \n",
              "\n",
              "                                         Description  \n",
              "0   Old Major, the old boar on the Manor Farm, ca...  \n",
              "1   Alex, a teenager living in near-future Englan...  \n",
              "2   The text of The Plague is divided into five p...  \n",
              "3   The argument of the Enquiry proceeds by a ser...  \n",
              "4   The novel posits that space around the Milky ...  "
            ],
            "text/html": [
              "\n",
              "  <div id=\"df-38b381d0-1824-4f5b-adff-07155d4843f1\" class=\"colab-df-container\">\n",
              "    <div>\n",
              "<style scoped>\n",
              "    .dataframe tbody tr th:only-of-type {\n",
              "        vertical-align: middle;\n",
              "    }\n",
              "\n",
              "    .dataframe tbody tr th {\n",
              "        vertical-align: top;\n",
              "    }\n",
              "\n",
              "    .dataframe thead th {\n",
              "        text-align: right;\n",
              "    }\n",
              "</style>\n",
              "<table border=\"1\" class=\"dataframe\">\n",
              "  <thead>\n",
              "    <tr style=\"text-align: right;\">\n",
              "      <th></th>\n",
              "      <th>ID</th>\n",
              "      <th>Tag</th>\n",
              "      <th>Title</th>\n",
              "      <th>Author</th>\n",
              "      <th>Year</th>\n",
              "      <th>Genre</th>\n",
              "      <th>Description</th>\n",
              "    </tr>\n",
              "  </thead>\n",
              "  <tbody>\n",
              "    <tr>\n",
              "      <th>0</th>\n",
              "      <td>620</td>\n",
              "      <td>/m/0hhy</td>\n",
              "      <td>Animal Farm</td>\n",
              "      <td>George Orwell</td>\n",
              "      <td>1945-08-17</td>\n",
              "      <td>{\"/m/016lj8\": \"Roman \\u00e0 clef\", \"/m/06nbt\":...</td>\n",
              "      <td>Old Major, the old boar on the Manor Farm, ca...</td>\n",
              "    </tr>\n",
              "    <tr>\n",
              "      <th>1</th>\n",
              "      <td>843</td>\n",
              "      <td>/m/0k36</td>\n",
              "      <td>A Clockwork Orange</td>\n",
              "      <td>Anthony Burgess</td>\n",
              "      <td>1962</td>\n",
              "      <td>{\"/m/06n90\": \"Science Fiction\", \"/m/0l67h\": \"N...</td>\n",
              "      <td>Alex, a teenager living in near-future Englan...</td>\n",
              "    </tr>\n",
              "    <tr>\n",
              "      <th>2</th>\n",
              "      <td>986</td>\n",
              "      <td>/m/0ldx</td>\n",
              "      <td>The Plague</td>\n",
              "      <td>Albert Camus</td>\n",
              "      <td>1947</td>\n",
              "      <td>{\"/m/02m4t\": \"Existentialism\", \"/m/02xlf\": \"Fi...</td>\n",
              "      <td>The text of The Plague is divided into five p...</td>\n",
              "    </tr>\n",
              "    <tr>\n",
              "      <th>3</th>\n",
              "      <td>1756</td>\n",
              "      <td>/m/0sww</td>\n",
              "      <td>An Enquiry Concerning Human Understanding</td>\n",
              "      <td>David Hume</td>\n",
              "      <td>NaN</td>\n",
              "      <td>NaN</td>\n",
              "      <td>The argument of the Enquiry proceeds by a ser...</td>\n",
              "    </tr>\n",
              "    <tr>\n",
              "      <th>4</th>\n",
              "      <td>2080</td>\n",
              "      <td>/m/0wkt</td>\n",
              "      <td>A Fire Upon the Deep</td>\n",
              "      <td>Vernor Vinge</td>\n",
              "      <td>NaN</td>\n",
              "      <td>{\"/m/03lrw\": \"Hard science fiction\", \"/m/06n90...</td>\n",
              "      <td>The novel posits that space around the Milky ...</td>\n",
              "    </tr>\n",
              "  </tbody>\n",
              "</table>\n",
              "</div>\n",
              "    <div class=\"colab-df-buttons\">\n",
              "\n",
              "  <div class=\"colab-df-container\">\n",
              "    <button class=\"colab-df-convert\" onclick=\"convertToInteractive('df-38b381d0-1824-4f5b-adff-07155d4843f1')\"\n",
              "            title=\"Convert this dataframe to an interactive table.\"\n",
              "            style=\"display:none;\">\n",
              "\n",
              "  <svg xmlns=\"http://www.w3.org/2000/svg\" height=\"24px\" viewBox=\"0 -960 960 960\">\n",
              "    <path d=\"M120-120v-720h720v720H120Zm60-500h600v-160H180v160Zm220 220h160v-160H400v160Zm0 220h160v-160H400v160ZM180-400h160v-160H180v160Zm440 0h160v-160H620v160ZM180-180h160v-160H180v160Zm440 0h160v-160H620v160Z\"/>\n",
              "  </svg>\n",
              "    </button>\n",
              "\n",
              "  <style>\n",
              "    .colab-df-container {\n",
              "      display:flex;\n",
              "      gap: 12px;\n",
              "    }\n",
              "\n",
              "    .colab-df-convert {\n",
              "      background-color: #E8F0FE;\n",
              "      border: none;\n",
              "      border-radius: 50%;\n",
              "      cursor: pointer;\n",
              "      display: none;\n",
              "      fill: #1967D2;\n",
              "      height: 32px;\n",
              "      padding: 0 0 0 0;\n",
              "      width: 32px;\n",
              "    }\n",
              "\n",
              "    .colab-df-convert:hover {\n",
              "      background-color: #E2EBFA;\n",
              "      box-shadow: 0px 1px 2px rgba(60, 64, 67, 0.3), 0px 1px 3px 1px rgba(60, 64, 67, 0.15);\n",
              "      fill: #174EA6;\n",
              "    }\n",
              "\n",
              "    .colab-df-buttons div {\n",
              "      margin-bottom: 4px;\n",
              "    }\n",
              "\n",
              "    [theme=dark] .colab-df-convert {\n",
              "      background-color: #3B4455;\n",
              "      fill: #D2E3FC;\n",
              "    }\n",
              "\n",
              "    [theme=dark] .colab-df-convert:hover {\n",
              "      background-color: #434B5C;\n",
              "      box-shadow: 0px 1px 3px 1px rgba(0, 0, 0, 0.15);\n",
              "      filter: drop-shadow(0px 1px 2px rgba(0, 0, 0, 0.3));\n",
              "      fill: #FFFFFF;\n",
              "    }\n",
              "  </style>\n",
              "\n",
              "    <script>\n",
              "      const buttonEl =\n",
              "        document.querySelector('#df-38b381d0-1824-4f5b-adff-07155d4843f1 button.colab-df-convert');\n",
              "      buttonEl.style.display =\n",
              "        google.colab.kernel.accessAllowed ? 'block' : 'none';\n",
              "\n",
              "      async function convertToInteractive(key) {\n",
              "        const element = document.querySelector('#df-38b381d0-1824-4f5b-adff-07155d4843f1');\n",
              "        const dataTable =\n",
              "          await google.colab.kernel.invokeFunction('convertToInteractive',\n",
              "                                                    [key], {});\n",
              "        if (!dataTable) return;\n",
              "\n",
              "        const docLinkHtml = 'Like what you see? Visit the ' +\n",
              "          '<a target=\"_blank\" href=https://colab.research.google.com/notebooks/data_table.ipynb>data table notebook</a>'\n",
              "          + ' to learn more about interactive tables.';\n",
              "        element.innerHTML = '';\n",
              "        dataTable['output_type'] = 'display_data';\n",
              "        await google.colab.output.renderOutput(dataTable, element);\n",
              "        const docLink = document.createElement('div');\n",
              "        docLink.innerHTML = docLinkHtml;\n",
              "        element.appendChild(docLink);\n",
              "      }\n",
              "    </script>\n",
              "  </div>\n",
              "\n",
              "\n",
              "<div id=\"df-0dc93033-1620-4ffe-9ee8-86eea513b5fd\">\n",
              "  <button class=\"colab-df-quickchart\" onclick=\"quickchart('df-0dc93033-1620-4ffe-9ee8-86eea513b5fd')\"\n",
              "            title=\"Suggest charts\"\n",
              "            style=\"display:none;\">\n",
              "\n",
              "<svg xmlns=\"http://www.w3.org/2000/svg\" height=\"24px\"viewBox=\"0 0 24 24\"\n",
              "     width=\"24px\">\n",
              "    <g>\n",
              "        <path d=\"M19 3H5c-1.1 0-2 .9-2 2v14c0 1.1.9 2 2 2h14c1.1 0 2-.9 2-2V5c0-1.1-.9-2-2-2zM9 17H7v-7h2v7zm4 0h-2V7h2v10zm4 0h-2v-4h2v4z\"/>\n",
              "    </g>\n",
              "</svg>\n",
              "  </button>\n",
              "\n",
              "<style>\n",
              "  .colab-df-quickchart {\n",
              "      --bg-color: #E8F0FE;\n",
              "      --fill-color: #1967D2;\n",
              "      --hover-bg-color: #E2EBFA;\n",
              "      --hover-fill-color: #174EA6;\n",
              "      --disabled-fill-color: #AAA;\n",
              "      --disabled-bg-color: #DDD;\n",
              "  }\n",
              "\n",
              "  [theme=dark] .colab-df-quickchart {\n",
              "      --bg-color: #3B4455;\n",
              "      --fill-color: #D2E3FC;\n",
              "      --hover-bg-color: #434B5C;\n",
              "      --hover-fill-color: #FFFFFF;\n",
              "      --disabled-bg-color: #3B4455;\n",
              "      --disabled-fill-color: #666;\n",
              "  }\n",
              "\n",
              "  .colab-df-quickchart {\n",
              "    background-color: var(--bg-color);\n",
              "    border: none;\n",
              "    border-radius: 50%;\n",
              "    cursor: pointer;\n",
              "    display: none;\n",
              "    fill: var(--fill-color);\n",
              "    height: 32px;\n",
              "    padding: 0;\n",
              "    width: 32px;\n",
              "  }\n",
              "\n",
              "  .colab-df-quickchart:hover {\n",
              "    background-color: var(--hover-bg-color);\n",
              "    box-shadow: 0 1px 2px rgba(60, 64, 67, 0.3), 0 1px 3px 1px rgba(60, 64, 67, 0.15);\n",
              "    fill: var(--button-hover-fill-color);\n",
              "  }\n",
              "\n",
              "  .colab-df-quickchart-complete:disabled,\n",
              "  .colab-df-quickchart-complete:disabled:hover {\n",
              "    background-color: var(--disabled-bg-color);\n",
              "    fill: var(--disabled-fill-color);\n",
              "    box-shadow: none;\n",
              "  }\n",
              "\n",
              "  .colab-df-spinner {\n",
              "    border: 2px solid var(--fill-color);\n",
              "    border-color: transparent;\n",
              "    border-bottom-color: var(--fill-color);\n",
              "    animation:\n",
              "      spin 1s steps(1) infinite;\n",
              "  }\n",
              "\n",
              "  @keyframes spin {\n",
              "    0% {\n",
              "      border-color: transparent;\n",
              "      border-bottom-color: var(--fill-color);\n",
              "      border-left-color: var(--fill-color);\n",
              "    }\n",
              "    20% {\n",
              "      border-color: transparent;\n",
              "      border-left-color: var(--fill-color);\n",
              "      border-top-color: var(--fill-color);\n",
              "    }\n",
              "    30% {\n",
              "      border-color: transparent;\n",
              "      border-left-color: var(--fill-color);\n",
              "      border-top-color: var(--fill-color);\n",
              "      border-right-color: var(--fill-color);\n",
              "    }\n",
              "    40% {\n",
              "      border-color: transparent;\n",
              "      border-right-color: var(--fill-color);\n",
              "      border-top-color: var(--fill-color);\n",
              "    }\n",
              "    60% {\n",
              "      border-color: transparent;\n",
              "      border-right-color: var(--fill-color);\n",
              "    }\n",
              "    80% {\n",
              "      border-color: transparent;\n",
              "      border-right-color: var(--fill-color);\n",
              "      border-bottom-color: var(--fill-color);\n",
              "    }\n",
              "    90% {\n",
              "      border-color: transparent;\n",
              "      border-bottom-color: var(--fill-color);\n",
              "    }\n",
              "  }\n",
              "</style>\n",
              "\n",
              "  <script>\n",
              "    async function quickchart(key) {\n",
              "      const quickchartButtonEl =\n",
              "        document.querySelector('#' + key + ' button');\n",
              "      quickchartButtonEl.disabled = true;  // To prevent multiple clicks.\n",
              "      quickchartButtonEl.classList.add('colab-df-spinner');\n",
              "      try {\n",
              "        const charts = await google.colab.kernel.invokeFunction(\n",
              "            'suggestCharts', [key], {});\n",
              "      } catch (error) {\n",
              "        console.error('Error during call to suggestCharts:', error);\n",
              "      }\n",
              "      quickchartButtonEl.classList.remove('colab-df-spinner');\n",
              "      quickchartButtonEl.classList.add('colab-df-quickchart-complete');\n",
              "    }\n",
              "    (() => {\n",
              "      let quickchartButtonEl =\n",
              "        document.querySelector('#df-0dc93033-1620-4ffe-9ee8-86eea513b5fd button');\n",
              "      quickchartButtonEl.style.display =\n",
              "        google.colab.kernel.accessAllowed ? 'block' : 'none';\n",
              "    })();\n",
              "  </script>\n",
              "</div>\n",
              "    </div>\n",
              "  </div>\n"
            ],
            "application/vnd.google.colaboratory.intrinsic+json": {
              "type": "dataframe",
              "variable_name": "data_frame",
              "summary": "{\n  \"name\": \"data_frame\",\n  \"rows\": 16559,\n  \"fields\": [\n    {\n      \"column\": \"ID\",\n      \"properties\": {\n        \"dtype\": \"number\",\n        \"std\": 9537336,\n        \"min\": 620,\n        \"max\": 37159503,\n        \"num_unique_values\": 16559,\n        \"samples\": [\n          2011865,\n          3056014,\n          2903698\n        ],\n        \"semantic_type\": \"\",\n        \"description\": \"\"\n      }\n    },\n    {\n      \"column\": \"Tag\",\n      \"properties\": {\n        \"dtype\": \"string\",\n        \"num_unique_values\": 16559,\n        \"samples\": [\n          \"/m/06dymp\",\n          \"/m/08nl1p\",\n          \"/m/08bhlr\"\n        ],\n        \"semantic_type\": \"\",\n        \"description\": \"\"\n      }\n    },\n    {\n      \"column\": \"Title\",\n      \"properties\": {\n        \"dtype\": \"string\",\n        \"num_unique_values\": 16277,\n        \"samples\": [\n          \"Science and Health with Key to the Scriptures\",\n          \"My Life as a Traitor\",\n          \"The Dungeons of Torgar\"\n        ],\n        \"semantic_type\": \"\",\n        \"description\": \"\"\n      }\n    },\n    {\n      \"column\": \"Author\",\n      \"properties\": {\n        \"dtype\": \"category\",\n        \"num_unique_values\": 4714,\n        \"samples\": [\n          \"Quentin Fiore\",\n          \"Richard Baker\",\n          \"Kerry Greenwood\"\n        ],\n        \"semantic_type\": \"\",\n        \"description\": \"\"\n      }\n    },\n    {\n      \"column\": \"Year\",\n      \"properties\": {\n        \"dtype\": \"category\",\n        \"num_unique_values\": 2639,\n        \"samples\": [\n          \"1969-08-12\",\n          \"2006-01-03\",\n          \"2007-02-05\"\n        ],\n        \"semantic_type\": \"\",\n        \"description\": \"\"\n      }\n    },\n    {\n      \"column\": \"Genre\",\n      \"properties\": {\n        \"dtype\": \"category\",\n        \"num_unique_values\": 2154,\n        \"samples\": [\n          \"{\\\"/m/01jfsb\\\": \\\"Thriller\\\", \\\"/m/05hgj\\\": \\\"Novel\\\", \\\"/m/0dwly\\\": \\\"Children's literature\\\", \\\"/m/02xlf\\\": \\\"Fiction\\\", \\\"/m/0c3351\\\": \\\"Suspense\\\"}\",\n          \"{\\\"/m/05h0n\\\": \\\"Nature\\\", \\\"/m/06n90\\\": \\\"Science Fiction\\\", \\\"/m/014dfn\\\": \\\"Speculative fiction\\\", \\\"/m/02xlf\\\": \\\"Fiction\\\"}\",\n          \"{\\\"/m/02n4kr\\\": \\\"Mystery\\\", \\\"/m/06n90\\\": \\\"Science Fiction\\\", \\\"/m/014dfn\\\": \\\"Speculative fiction\\\", \\\"/m/05hgj\\\": \\\"Novel\\\"}\"\n        ],\n        \"semantic_type\": \"\",\n        \"description\": \"\"\n      }\n    },\n    {\n      \"column\": \"Description\",\n      \"properties\": {\n        \"dtype\": \"string\",\n        \"num_unique_values\": 16532,\n        \"samples\": [\n          \" The book focuses on the adult lives of two onetime teenage lovers, Ken and Sylvia, who were from different social strata. Ken was self-supporting, working as a lifeguard at a Maine island resort, while Sylvia's family stayed as guests of the owners, one summer between years at college. After their summer love affair, they married other people, but rediscover each other later in life. At that time, Sylvia has a son, Johnny, and Ken a daughter, Molly. While Ken and Sylvia renew their love affair, their children begin a romance. Ken becomes a millionaire through his work as a research chemist as his wife Helen spurns him at home, while Sylvia's husband Bart turns to alcohol as his family fortune disappears, and he turns their island home into an inn. After twenty years away, Ken decides to visit the island again, writing Bart to ask for lodging. Ken brings Molly and Helen to the island, and everyone tries to be cordial. But soon old feelings, and tensions, and longings arise in the adults, while the young Johnny and Molly in turn become enamored of each other. Ken and Sylvia fall in love once again. The couple are noticed by Todd Hasper, the steward of the island, who decides to inform Sylvia's husband Bart. Ken, aware of Sylvia's plight, invites her and her family to take over a motel job in Florida for Bart has asked for a divorce and the custody of their son John. The affair between Ken and Sylvia is again noticed, this time by a friend of Helen's. The two divorce, and their daughter Molly, like John, is sent to boarding school. During their tenure at their respective schools, John and Molly begin an avid correspondence. Helen and her mother Margaret are not pleased, as they find it inappropriate for a girl her age to be so attached to a boy. Their correspondence continues, with rendezvous during school breaks. Their romance culminates when they see each other again at Ken and Sylvia's beach house. The two acknowledge that they are in love with one another, and they consummate it shortly thereafter. Back at school, Molly learns from a doctor that she is pregnant, and John hitchhikes across the country to be with and support her. Ken and Sylvia give their guarded approval, feeling hypocritical to deny them their love. Bart, whose alcoholism has landed him in a veterans hospital, cannot attend the wedding, and while he disapproves, he urges John to take over the inn. Helen attends the wedding under sedation. The book ends with John and Molly spending their honeymoon on Pine Island, John's \\\"one good inheritance\\\", as Bart terms it in a letter.\",\n          \" The story begins on Pluto in the distant future. Its inhabitants, former collaborators of the Qax, humanity's erstwhile conquerors, are under attack from the new-formed Coalition, seeking revenge for humanity's enslavement. As such, the inhabitants send five generation ships out of the solar system in the hopes that they will be able to form colonies of their own that can survive the Coalition. Rusel, the protagonist, is admitted onto Mayflower II, one of the ships, at the last minute. Shortly after takeoff, it is revealed that the ship's intended destination is outside the galaxy, requiring a flight time of 50,000 subjective years, even with the effects of time dilation. The ship's captain selects a few individuals to receive medical treatment granting them immortality, allowing them to guide the ship through its millennia-long voyage. Over time, however, these individuals die through malfunctions or boredom, leaving Rusel as the only immortal on board, but he becomes increasingly dependent on life-support and gradually merges with the ship. Over time, the other inhabitants of the ship form several different societies, gradually becoming detached from their original humanity. Eventually, they form an almost unrecongisable tribal civilisation. Having forgotten that they are on a spaceship at all, they only maintain it through religious tradition. After 25,000 years have passed, the Mayflower is contacted by Pirius and Torec (protagonists of Exultant), former soldiers of the Coalition, which is revealed to have fallen. They offer to remove the inhabitants from the ship and care for them elsewhere. Rusel, now completely merged with the ship's systems, allows them to do so. Pirius and Torec then leave Rusel to continue into space without the burden of the crew, which he gladly accepts.\",\n          \" Like the sixth collection, Fables and Reflections, and the eighth, Worlds' End, Dream Country consists of short stories that do not have a common storyline running through them, though it has been argued that most Sandman stories are not entirely self-contained and are part of a larger story arc that encompasses the entire series. Dream Country is the shortest of the eleven Sandman collections, featuring just four issues (\\\"Calliope\\\", #17, and \\\"A Dream of a Thousand Cats\\\", #18, both pencilled by Kelley Jones and inked by Malcolm Jones III; \\\"A Midsummer Night's Dream\\\", #19, drawn by Charles Vess and coloured for the first time by computer colouring pioneer Steve Oliff; and \\\"Fa\\u00e7ade\\\", #20, penciled by Colleen Doran and inked by Malcolm Jones III). This is the story of a frustrated author, Richard Madoc, whose first book has been released to critical acclaim but who simply cannot write a page of the promised follow-up. He strikes a deal with an elder writer, Erasmus Fry, for Calliope, one of the Muses of Greek mythology, whom Fry had captured earlier in his life, in exchange for a bezoar. Fry kept her imprisoned and regularly raped her, and her presence provided the inspiration for his successful novels. Madoc also takes her captive and has great success in writing, but Calliope calls upon the triad of witches known by many names, such as the Furies, the Kindly Ones or the Gracious Ladies, for help. They direct her to Morpheus, who we are told was once her lover (this relationship is elaborated on later in the series), and who is currently similarly imprisoned. Upon his release, he comes to rescue Calliope, and visits a terrible punishment upon Madoc. He complains that without her, he will have no ideas, so Morpheus causes him to never stop having them, which drives him to madness. Though the story of \\\"Calliope\\\" was not criticized for unoriginality at the time of its release, its concept has apparently become a very popular one since; a list of overused story ideas at Strange Horizons included \\\"Creative person meets a muse (either one of the nine classical Muses or a more individual muse) and interacts with them, usually by keeping them captive.\\\" (See Neil Gaiman's post about Strange Horizon's list). Madoc's Book \\\"Her Wings\\\" appears in a few other stories by Neil Gaiman including The Last Temptation as a sort of inside joke. Rose Walker is later seen reading Fry's book \\\"Here Comes a Candle\\\". In the library of Dream, an unfinished book by Erasmus Fry, \\\"The Hand of Glory\\\" is seen in Season of Mists. One of Madoc's works, \\\"The Spirit Who Had Half Of Everything\\\", takes its name from an unused chapter title in an early draft of James Branch Cabell's Figures of Earth. This tale begins with a small, white cat being called by another cat to sneak away from her house one night. They speak of an event in a graveyard that they don't want to miss. When they arrive, they see that many cats are already there. A Siamese cat comes to tell her story. A long time ago, the Siamese cat relates, she met a Tom-cat, who became her lover. Eventually, she gave birth to several kittens. Her human owners were not pleased, and the male owner put the kittens in a bag bound to a rock, and threw them into pond. Traumatized by the callous murder of her kittens, the Siamese becomes disillusioned in human beings and ultimately rejects the life of a pampered pet. Her cause is strengthened when she has a dream that she has entered a boneyard in the Dreaming. In the dream a raven with no skin on its head informs her where she can find out exactly why the humans killed her offspring: a cave inhabited by the Dream Lord. At the entrance to the cave that the raven told her of, many fearsome animals tell her to leave. She responds by saying that she will only state her business to Dream. Inside, she finds Dream in the form of a cat. Dream presents her with a vision of an alternate reality where cats are huge and humans are merely their playthings, tiny servants which groom their bodies and which the cats can kill at their leisure. A man ruined that world by informing the humans that their dreams will shape the world. Enough humans listened to make the vision a reality. Upon waking, the cat undertakes a spiritual quest for justice. She preaches her vision to motley assortments of housecats around the world, hoping that if she can make enough believe in and dream of this reality, the world will change to conform to their dreams. The cat from the beginning of the story heads home. Her friends were slightly disappointed, though they admitted that what they heard was interesting. The white cat, however, was fully taken by the tale. She returns home and heads to sleep. Over breakfast, her owners remark on what a cute stance she's in: it looks as if she's hunting something, or someone. Although seemingly a complete diversion from the basic story of the Sandman, it in fact illustrates some of the core themes of the series: the idea that reality is shaped in the most literal sense by the dreams, beliefs, and expectations of humans (and, in this case, of other animals as well). The story also portrays the theme of change and its relation to an individual's nature. The humans found that they were unhappy with their role and were able to harness the power of dream to instigate a change of the nature of reality, whereas when cats found themselves in a similar situation their apathetic, independent, and fickle nature kept them from changing. This idea of the capacity for change reemerges throughout the book, most notably in the conclusion of The Kindly Ones. !-- This section is linked from Characters of The Sandman --> This is a core issue of the Sandman series, sometimes cited as the best in the series. It concerns the premiere of William Shakespeare's A Midsummer Night's Dream, which we are told was commissioned by Morpheus as part of a bargain in which Morpheus granted Shakespeare his extraordinary skill with writing. Performed on a hillside before an audience of bizarre creatures from Faerie - including the very characters who appear in the play, Titania, Auberon, and the hobgoblin Robin Goodfellow (Puck) amongst them - the Sandman's version of reality and Shakespeare's play are merged and interact with one another. Puck greatly enjoys the play and repeats the theme of the story that while the play does not directly reflect history or even some of the personalities of the characters it is still considered a true reflection of \\\"reality\\\". (In reality Puck is described as being a psychotic murderer and not a merry wanderer of the night.) Titania takes an interest in Shakespeare's son Hamnet, who plays a small role in the play. The issue received a World Fantasy Award for short fiction in 1991. Dream first meets Shakespeare in Sandman #13, &#34;Men of Good Fortune,&#34; and the final issue, #75, &#34;The Tempest,&#34; focuses on the second of the two plays commissioned by Morpheus. This is another odd issue, featuring one of the methods Gaiman played with in the first, and to a lesser extent in the second, collection: it takes one of the neglected characters from the DC Universe, this time Element Girl (Urania Blackwell, a female version of Metamorpho), and shows her in a completely unexpected situation. A reluctant superhero at best, she has now retired, and lives a meagre existence, rarely leaving her flat due to her self-loathing of her &#34;freakish&#34; appearance. She goes by her nickname &#34;Rainie&#34;. The plot revolves around a phone call she receives: an invitation to have dinner with an old friend, Della. She concocts a fake face to wear so her friend doesn&#39;t know of her &#34;skin disease&#34;. As Della explains a problem she&#39;s having, Rainie&#39;s &#34;face&#34; falls into the plate of spaghetti bolognese that she ordered, revealing her true face. She runs away, and to her apartment, where she wonders how she can kill herself, despite being invulnerable. Fortunately, Death, who was dealing with a woman who&#39;d slipped on a stepladder, enters her room, explaining that the door was open, and she had heard her crying. She tells her how she can talk to the sun god, Ra, and beg for a merciful death. An extraordinarily poignant piece dealing with identity and, subtly, the gap between the world portrayed in the more na\\u00efve of DC Comics&#39; superhero comics and the true reality of everyday life, it ends on a curiously happy note, with Death answering Rainie&#39;s telephone and informing the caller that &#34;she&#39;s gone away, I&#39;m afraid.&#34;\"\n        ],\n        \"semantic_type\": \"\",\n        \"description\": \"\"\n      }\n    }\n  ]\n}"
            }
          },
          "metadata": {},
          "execution_count": 57
        }
      ],
      "source": [
        "#read .txt file and convert it to dataframe\n",
        "file_path='/content/drive/MyDrive/booksummaries.txt'\n",
        "fields=['ID', 'Tag', 'Title', 'Author', 'Year', 'Genre', 'Description']\n",
        "data_frame = pd.read_csv(file_path, sep='\\t', header=None, names=fields)\n",
        "data_frame.head()"
      ]
    },
    {
      "cell_type": "markdown",
      "source": [
        "#missing data"
      ],
      "metadata": {
        "id": "xjbun8EFTjCp"
      }
    },
    {
      "cell_type": "code",
      "source": [
        "data_frame.isnull().sum()"
      ],
      "metadata": {
        "colab": {
          "base_uri": "https://localhost:8080/"
        },
        "id": "I1HL0_xPTnvb",
        "outputId": "7046339e-0186-43e6-8584-9796331fc347"
      },
      "execution_count": null,
      "outputs": [
        {
          "output_type": "execute_result",
          "data": {
            "text/plain": [
              "ID                0\n",
              "Tag               0\n",
              "Title             0\n",
              "Author         2382\n",
              "Year           5610\n",
              "Genre          3718\n",
              "Description       0\n",
              "dtype: int64"
            ]
          },
          "metadata": {},
          "execution_count": 5
        }
      ]
    },
    {
      "cell_type": "markdown",
      "source": [
        "we need only Description  and title for summarization task ,so drop all null colume"
      ],
      "metadata": {
        "id": "K3Q_tgMKUHKF"
      }
    },
    {
      "cell_type": "code",
      "source": [
        "#cleaning data frame from missing value:\n",
        "data_frame= data_frame.dropna(axis=1)"
      ],
      "metadata": {
        "id": "UsSlK84ThMPU"
      },
      "execution_count": null,
      "outputs": []
    },
    {
      "cell_type": "markdown",
      "source": [
        "#analyzing number of words and sentences"
      ],
      "metadata": {
        "id": "vGQpC9_eUr3H"
      }
    },
    {
      "cell_type": "markdown",
      "source": [
        "characters level"
      ],
      "metadata": {
        "id": "wWPiLBobV4ip"
      }
    },
    {
      "cell_type": "code",
      "source": [
        "data_frame['len_of_Description']=data_frame['Description'].apply(len)"
      ],
      "metadata": {
        "id": "01k7auaIVDkq"
      },
      "execution_count": null,
      "outputs": []
    },
    {
      "cell_type": "code",
      "source": [
        "print('min number of characters of Description',data_frame['len_of_Description'].min())\n",
        "print('max number of characters of Description',data_frame['len_of_Description'].max())\n",
        "print('mean number of characters of Description',data_frame['len_of_Description'].mean())\n",
        "print('std number of characters of Description',data_frame['len_of_Description'].std())"
      ],
      "metadata": {
        "colab": {
          "base_uri": "https://localhost:8080/"
        },
        "id": "-uBQAddKVQIK",
        "outputId": "cd8c7ed0-0653-4320-f6f7-dce6b6d18831"
      },
      "execution_count": null,
      "outputs": [
        {
          "output_type": "stream",
          "name": "stdout",
          "text": [
            "min number of characters of Description 11\n",
            "max number of characters of Description 58019\n",
            "mean number of characters of Description 2511.1089437767982\n",
            "std number of characters of Description 2903.074330081492\n"
          ]
        }
      ]
    },
    {
      "cell_type": "code",
      "source": [
        "data_frame['len_of_Description'].hist()"
      ],
      "metadata": {
        "colab": {
          "base_uri": "https://localhost:8080/",
          "height": 447
        },
        "id": "r9aTKdjMV1nb",
        "outputId": "3941c32e-a0f7-457e-f2e7-dc1be5fdf70d"
      },
      "execution_count": null,
      "outputs": [
        {
          "output_type": "execute_result",
          "data": {
            "text/plain": [
              "<Axes: >"
            ]
          },
          "metadata": {},
          "execution_count": 17
        },
        {
          "output_type": "display_data",
          "data": {
            "text/plain": [
              "<Figure size 640x480 with 1 Axes>"
            ],
            "image/png": "[encoded data removed]"
          },
          "metadata": {}
        }
      ]
    },
    {
      "cell_type": "code",
      "source": [
        "data_frame[data_frame['len_of_Description']<10000]['len_of_Description'].hist()"
      ],
      "metadata": {
        "colab": {
          "base_uri": "https://localhost:8080/",
          "height": 447
        },
        "id": "2I_P-pWdXgD_",
        "outputId": "1725718d-8da4-4d41-a01a-68b2545b16eb"
      },
      "execution_count": null,
      "outputs": [
        {
          "output_type": "execute_result",
          "data": {
            "text/plain": [
              "<Axes: >"
            ]
          },
          "metadata": {},
          "execution_count": 25
        },
        {
          "output_type": "display_data",
          "data": {
            "text/plain": [
              "<Figure size 640x480 with 1 Axes>"
            ],
            "image/png": "[encoded data removed]"
          },
          "metadata": {}
        }
      ]
    },
    {
      "cell_type": "code",
      "source": [
        "data_frame[data_frame['len_of_Description']<1000]['len_of_Description'].hist()"
      ],
      "metadata": {
        "colab": {
          "base_uri": "https://localhost:8080/",
          "height": 449
        },
        "id": "oip1neeFYHMw",
        "outputId": "245050e3-5f49-4308-f0d6-fc7ffaccaab9"
      },
      "execution_count": null,
      "outputs": [
        {
          "output_type": "execute_result",
          "data": {
            "text/plain": [
              "<Axes: >"
            ]
          },
          "metadata": {},
          "execution_count": 26
        },
        {
          "output_type": "display_data",
          "data": {
            "text/plain": [
              "<Figure size 640x480 with 1 Axes>"
            ],
            "image/png": "[encoded data removed]"
          },
          "metadata": {}
        }
      ]
    },
    {
      "cell_type": "code",
      "source": [
        "for i,Description  in enumerate(data_frame[data_frame['len_of_Description']<100]['Description']):\n",
        "  print(i,': \\n',Description)"
      ],
      "metadata": {
        "id": "IvpwpWsTYu5Q"
      },
      "execution_count": null,
      "outputs": []
    },
    {
      "cell_type": "code",
      "source": [
        "for i,Description  in enumerate(data_frame[(data_frame['len_of_Description'] > 100) & (data_frame['len_of_Description'] < 200)]['Description']):\n",
        "  print(i,': \\n',Description)"
      ],
      "metadata": {
        "id": "GLlnDp6DeLDU"
      },
      "execution_count": null,
      "outputs": []
    },
    {
      "cell_type": "markdown",
      "source": [
        "word level"
      ],
      "metadata": {
        "id": "bjPgdObOepzN"
      }
    },
    {
      "cell_type": "code",
      "source": [
        "import nltk\n",
        "nltk.download('punkt')\n",
        "import numpy as np\n",
        "from nltk.tokenize import word_tokenize, sent_tokenize"
      ],
      "metadata": {
        "colab": {
          "base_uri": "https://localhost:8080/"
        },
        "id": "DAwggf-bervO",
        "outputId": "bb1d674d-ecc5-4685-f5d2-0c0eb42e5208"
      },
      "execution_count": null,
      "outputs": [
        {
          "output_type": "stream",
          "name": "stderr",
          "text": [
            "[nltk_data] Downloading package punkt to /root/nltk_data...\n",
            "[nltk_data]   Unzipping tokenizers/punkt.zip.\n"
          ]
        }
      ]
    },
    {
      "cell_type": "code",
      "source": [
        "def word_tokenizer(data):\n",
        "  words = word_tokenize(data)\n",
        "  return words"
      ],
      "metadata": {
        "id": "ihdhXleEvEI7"
      },
      "execution_count": null,
      "outputs": []
    },
    {
      "cell_type": "code",
      "source": [
        "data_frame['word_of_Description']=data_frame['Description'].apply(word_tokenizer)"
      ],
      "metadata": {
        "id": "QtRgRoOavTcZ"
      },
      "execution_count": null,
      "outputs": []
    },
    {
      "cell_type": "code",
      "source": [
        "data_frame['word_numbers_of_Description']=data_frame['word_of_Description'].apply(len)"
      ],
      "metadata": {
        "id": "D5ikvllBv-Wn"
      },
      "execution_count": null,
      "outputs": []
    },
    {
      "cell_type": "code",
      "source": [
        "print('min number of characters of Description',data_frame['word_numbers_of_Description'].min())\n",
        "print('max number of characters of Description',data_frame['word_numbers_of_Description'].max())\n",
        "print('mean number of characters of Description',data_frame['word_numbers_of_Description'].mean())\n",
        "print('std number of characters of Description',data_frame['word_numbers_of_Description'].std())"
      ],
      "metadata": {
        "colab": {
          "base_uri": "https://localhost:8080/"
        },
        "id": "OQzw_vjTwN0M",
        "outputId": "6fe3ceb5-262d-4a0a-f433-24b5984e3258"
      },
      "execution_count": null,
      "outputs": [
        {
          "output_type": "stream",
          "name": "stdout",
          "text": [
            "min number of characters of Description 1\n",
            "max number of characters of Description 11810\n",
            "mean number of characters of Description 491.4608973971858\n",
            "std number of characters of Description 573.9554854596562\n"
          ]
        }
      ]
    },
    {
      "cell_type": "code",
      "source": [
        "data_frame['word_numbers_of_Description'].hist()"
      ],
      "metadata": {
        "colab": {
          "base_uri": "https://localhost:8080/",
          "height": 447
        },
        "id": "v-iC4n3TwXm9",
        "outputId": "cbd7bc27-0bc1-4404-8c76-fe7ba35658e3"
      },
      "execution_count": null,
      "outputs": [
        {
          "output_type": "execute_result",
          "data": {
            "text/plain": [
              "<Axes: >"
            ]
          },
          "metadata": {},
          "execution_count": 68
        },
        {
          "output_type": "display_data",
          "data": {
            "text/plain": [
              "<Figure size 640x480 with 1 Axes>"
            ],
            "image/png": "[encoded data removed]"
          },
          "metadata": {}
        }
      ]
    },
    {
      "cell_type": "code",
      "source": [
        "data_frame[data_frame['word_numbers_of_Description']<2000]['word_numbers_of_Description'].hist()"
      ],
      "metadata": {
        "colab": {
          "base_uri": "https://localhost:8080/",
          "height": 447
        },
        "id": "-pBr2ILswkao",
        "outputId": "55f41812-c6f8-4767-d0ab-9c858f57738d"
      },
      "execution_count": null,
      "outputs": [
        {
          "output_type": "execute_result",
          "data": {
            "text/plain": [
              "<Axes: >"
            ]
          },
          "metadata": {},
          "execution_count": 69
        },
        {
          "output_type": "display_data",
          "data": {
            "text/plain": [
              "<Figure size 640x480 with 1 Axes>"
            ],
            "image/png": "[encoded data removed]"
          },
          "metadata": {}
        }
      ]
    },
    {
      "cell_type": "code",
      "source": [
        "data_frame[data_frame['word_numbers_of_Description']<300]['word_numbers_of_Description'].hist()"
      ],
      "metadata": {
        "colab": {
          "base_uri": "https://localhost:8080/",
          "height": 451
        },
        "id": "XaiI0pDdw1QN",
        "outputId": "417cd3f1-afb7-4c00-c557-9d544c1c20d2"
      },
      "execution_count": null,
      "outputs": [
        {
          "output_type": "execute_result",
          "data": {
            "text/plain": [
              "<Axes: >"
            ]
          },
          "metadata": {},
          "execution_count": 70
        },
        {
          "output_type": "display_data",
          "data": {
            "text/plain": [
              "<Figure size 640x480 with 1 Axes>"
            ],
            "image/png": "[encoded data removed]"
          },
          "metadata": {}
        }
      ]
    },
    {
      "cell_type": "code",
      "source": [
        "for i,Description  in enumerate(data_frame[data_frame['word_numbers_of_Description']<30]['Description']):\n",
        "  print(i,': \\n',Description)"
      ],
      "metadata": {
        "id": "HF4V02hQw-XO"
      },
      "execution_count": null,
      "outputs": []
    },
    {
      "cell_type": "markdown",
      "source": [
        "sentence level"
      ],
      "metadata": {
        "id": "rBnGNSO-xTck"
      }
    },
    {
      "cell_type": "code",
      "source": [
        "def sentence_tokenizer(data):\n",
        "  sentences = sent_tokenize(data)\n",
        "  return sentences"
      ],
      "metadata": {
        "id": "J4AvHxzaxVfV"
      },
      "execution_count": null,
      "outputs": []
    },
    {
      "cell_type": "code",
      "source": [
        "data_frame['sentences_of_Description']=data_frame['Description'].apply(sentence_tokenizer)"
      ],
      "metadata": {
        "id": "qwiY9gGDxise"
      },
      "execution_count": null,
      "outputs": []
    },
    {
      "cell_type": "code",
      "source": [
        "data_frame['sentences_number_of_Description']=data_frame['sentences_of_Description'].apply(len)"
      ],
      "metadata": {
        "id": "inE603MRxvJW"
      },
      "execution_count": null,
      "outputs": []
    },
    {
      "cell_type": "code",
      "source": [
        "print('min number of characters of Description',data_frame['sentences_number_of_Description'].min())\n",
        "print('max number of characters of Description',data_frame['sentences_number_of_Description'].max())\n",
        "print('mean number of characters of Description',data_frame['sentences_number_of_Description'].mean())\n",
        "print('std number of characters of Description',data_frame['sentences_number_of_Description'].std())"
      ],
      "metadata": {
        "colab": {
          "base_uri": "https://localhost:8080/"
        },
        "id": "bX2QtyGjxvLj",
        "outputId": "0cc83292-708b-4ce3-ed6e-60266d6cca17"
      },
      "execution_count": null,
      "outputs": [
        {
          "output_type": "stream",
          "name": "stdout",
          "text": [
            "min number of characters of Description 1\n",
            "max number of characters of Description 511\n",
            "mean number of characters of Description 19.95633794311251\n",
            "std number of characters of Description 24.697382650144473\n"
          ]
        }
      ]
    },
    {
      "cell_type": "code",
      "source": [
        "data_frame['sentences_number_of_Description'].hist()"
      ],
      "metadata": {
        "colab": {
          "base_uri": "https://localhost:8080/",
          "height": 447
        },
        "id": "2jBwOlmnxvOJ",
        "outputId": "5229ce20-0c12-477b-c0a1-2024bea56e88"
      },
      "execution_count": null,
      "outputs": [
        {
          "output_type": "execute_result",
          "data": {
            "text/plain": [
              "<Axes: >"
            ]
          },
          "metadata": {},
          "execution_count": 77
        },
        {
          "output_type": "display_data",
          "data": {
            "text/plain": [
              "<Figure size 640x480 with 1 Axes>"
            ],
            "image/png": "[encoded data removed]"
          },
          "metadata": {}
        }
      ]
    },
    {
      "cell_type": "code",
      "source": [
        "data_frame[data_frame['sentences_number_of_Description']<100]['sentences_number_of_Description'].hist()"
      ],
      "metadata": {
        "colab": {
          "base_uri": "https://localhost:8080/",
          "height": 447
        },
        "id": "WEV7dG2ixvRW",
        "outputId": "55781ddf-4e18-45fa-ec44-cae00f193c1f"
      },
      "execution_count": null,
      "outputs": [
        {
          "output_type": "execute_result",
          "data": {
            "text/plain": [
              "<Axes: >"
            ]
          },
          "metadata": {},
          "execution_count": 78
        },
        {
          "output_type": "display_data",
          "data": {
            "text/plain": [
              "<Figure size 640x480 with 1 Axes>"
            ],
            "image/png": "[encoded data removed]"
          },
          "metadata": {}
        }
      ]
    },
    {
      "cell_type": "code",
      "source": [
        "data_frame[data_frame['sentences_number_of_Description']<20]['sentences_number_of_Description'].hist()"
      ],
      "metadata": {
        "colab": {
          "base_uri": "https://localhost:8080/",
          "height": 447
        },
        "id": "Lh3ZLR6jyN-2",
        "outputId": "6d75d974-5f86-4a5e-fb99-c7819186b585"
      },
      "execution_count": null,
      "outputs": [
        {
          "output_type": "execute_result",
          "data": {
            "text/plain": [
              "<Axes: >"
            ]
          },
          "metadata": {},
          "execution_count": 79
        },
        {
          "output_type": "display_data",
          "data": {
            "text/plain": [
              "<Figure size 640x480 with 1 Axes>"
            ],
            "image/png": "[encoded data removed]"
          },
          "metadata": {}
        }
      ]
    },
    {
      "cell_type": "code",
      "source": [
        "for i,Description  in enumerate(data_frame[data_frame['sentences_number_of_Description']<2]['Description']):\n",
        "  print(i,': \\n',Description)"
      ],
      "metadata": {
        "id": "m-2XaoezyZ-u"
      },
      "execution_count": null,
      "outputs": []
    },
    {
      "cell_type": "markdown",
      "source": [
        "**conclusion:**\n",
        "according to the data of numbers of characters,words and sentences in each description ,I found some description is missed and vague and some of them is very short and consiste of one or twe sentences and I ignore them for summarizing,and the best param for removing outlier data is number of characters in each description and I find the threshold is about 250"
      ],
      "metadata": {
        "id": "ggSXK6N8y7xg"
      }
    },
    {
      "cell_type": "code",
      "source": [
        "data_frame=data_frame[data_frame['len_of_Description']>250]"
      ],
      "metadata": {
        "id": "7GpKYEJF2bJK"
      },
      "execution_count": null,
      "outputs": []
    },
    {
      "cell_type": "markdown",
      "source": [
        "#clean& prepare data for EDA"
      ],
      "metadata": {
        "id": "ZCiY7zJ80j5z"
      }
    },
    {
      "cell_type": "markdown",
      "source": [
        "expand contractions('s---> is)"
      ],
      "metadata": {
        "id": "OAGdW8Jy2OTm"
      }
    },
    {
      "cell_type": "code",
      "source": [
        "import re"
      ],
      "metadata": {
        "id": "vr9D26NR2pFX"
      },
      "execution_count": null,
      "outputs": []
    },
    {
      "cell_type": "code",
      "source": [
        "# dictionary of English contractions\n",
        "contractions_dict = { \"ain't\": \"are not\",\"'s\":\" is\",\"aren't\": \"are not\",\n",
        "                     \"can't\": \"cannot\",\"can't've\": \"cannot have\",\n",
        "                     \"'cause\": \"because\",\"could've\": \"could have\",\"couldn't\": \"could not\",\n",
        "                     \"couldn't've\": \"could not have\", \"didn't\": \"did not\",\"doesn't\": \"does not\",\n",
        "                     \"don't\": \"do not\",\"hadn't\": \"had not\",\"hadn't've\": \"had not have\",\n",
        "                     \"hasn't\": \"has not\",\"haven't\": \"have not\",\"he'd\": \"he would\",\n",
        "                     \"he'd've\": \"he would have\",\"he'll\": \"he will\", \"he'll've\": \"he will have\",\n",
        "                     \"how'd\": \"how did\",\"how'd'y\": \"how do you\",\"how'll\": \"how will\",\n",
        "                     \"I'd\": \"I would\", \"I'd've\": \"I would have\",\"I'll\": \"I will\",\n",
        "                     \"I'll've\": \"I will have\",\"I'm\": \"I am\",\"I've\": \"I have\", \"isn't\": \"is not\",\n",
        "                     \"it'd\": \"it would\",\"it'd've\": \"it would have\",\"it'll\": \"it will\",\n",
        "                     \"it'll've\": \"it will have\", \"let's\": \"let us\",\"ma'am\": \"madam\",\n",
        "                     \"mayn't\": \"may not\",\"might've\": \"might have\",\"mightn't\": \"might not\",\n",
        "                     \"mightn't've\": \"might not have\",\"must've\": \"must have\",\"mustn't\": \"must not\",\n",
        "                     \"mustn't've\": \"must not have\", \"needn't\": \"need not\",\n",
        "                     \"needn't've\": \"need not have\",\"o'clock\": \"of the clock\",\"oughtn't\": \"ought not\",\n",
        "                     \"oughtn't've\": \"ought not have\",\"shan't\": \"shall not\",\"sha'n't\": \"shall not\",\n",
        "                     \"shan't've\": \"shall not have\",\"she'd\": \"she would\",\"she'd've\": \"she would have\",\n",
        "                     \"she'll\": \"she will\", \"she'll've\": \"she will have\",\"should've\": \"should have\",\n",
        "                     \"shouldn't\": \"should not\", \"shouldn't've\": \"should not have\",\"so've\": \"so have\",\n",
        "                     \"that'd\": \"that would\",\"that'd've\": \"that would have\", \"there'd\": \"there would\",\n",
        "                     \"there'd've\": \"there would have\", \"they'd\": \"they would\",\n",
        "                     \"they'd've\": \"they would have\",\"they'll\": \"they will\",\n",
        "                     \"they'll've\": \"they will have\", \"they're\": \"they are\",\"they've\": \"they have\",\n",
        "                     \"to've\": \"to have\",\"wasn't\": \"was not\",\"we'd\": \"we would\",\n",
        "                     \"we'd've\": \"we would have\",\"we'll\": \"we will\",\"we'll've\": \"we will have\",\n",
        "                     \"we're\": \"we are\",\"we've\": \"we have\", \"weren't\": \"were not\",\"what'll\": \"what will\",\n",
        "                     \"what'll've\": \"what will have\",\"what're\": \"what are\", \"what've\": \"what have\",\n",
        "                     \"when've\": \"when have\",\"where'd\": \"where did\", \"where've\": \"where have\",\n",
        "                     \"who'll\": \"who will\",\"who'll've\": \"who will have\",\"who've\": \"who have\",\n",
        "                     \"why've\": \"why have\",\"will've\": \"will have\",\"won't\": \"will not\",\n",
        "                     \"won't've\": \"will not have\", \"would've\": \"would have\",\"wouldn't\": \"would not\",\n",
        "                     \"wouldn't've\": \"would not have\",\"y'all\": \"you all\", \"y'all'd\": \"you all would\",\n",
        "                     \"y'all'd've\": \"you all would have\",\"y'all're\": \"you all are\",\n",
        "                     \"y'all've\": \"you all have\", \"you'd\": \"you would\",\"you'd've\": \"you would have\",\n",
        "                     \"you'll\": \"you will\",\"you'll've\": \"you will have\", \"you're\": \"you are\",\n",
        "                     \"you've\": \"you have\"}\n",
        "\n",
        "# Regular expression for finding contractions\n",
        "contractions_re=re.compile('(%s)' % '|'.join(contractions_dict.keys()))\n",
        "# Function for expanding contractions\n",
        "def expand_contractions(text,contractions_dict=contractions_dict):\n",
        "  def replace(match):\n",
        "    return contractions_dict[match.group(0)]\n",
        "  return contractions_re.sub(replace, text)"
      ],
      "metadata": {
        "id": "5riAjws1y9lx"
      },
      "execution_count": null,
      "outputs": []
    },
    {
      "cell_type": "code",
      "source": [
        "data_frame['clean_Description']=data_frame['Description'].apply(lambda x:expand_contractions(x))"
      ],
      "metadata": {
        "id": "zP-S2zR926fA"
      },
      "execution_count": null,
      "outputs": []
    },
    {
      "cell_type": "markdown",
      "source": [
        "lowe caseing description"
      ],
      "metadata": {
        "id": "j8cj3UqD5Id1"
      }
    },
    {
      "cell_type": "code",
      "source": [
        "data_frame['clean_Description']=data_frame['clean_Description'].apply(lambda x: x.lower())"
      ],
      "metadata": {
        "id": "MDJz5fAo5O6k"
      },
      "execution_count": null,
      "outputs": []
    },
    {
      "cell_type": "markdown",
      "source": [
        "removeing digits and words containing digits"
      ],
      "metadata": {
        "id": "yzkVQtCa5fhD"
      }
    },
    {
      "cell_type": "code",
      "source": [
        "data_frame['clean_Description']=data_frame['clean_Description'].apply(lambda x: re.sub('\\w*\\d\\w*','', x))"
      ],
      "metadata": {
        "id": "7J6pb5p45e1g"
      },
      "execution_count": null,
      "outputs": []
    },
    {
      "cell_type": "markdown",
      "source": [
        "removeing punctuations"
      ],
      "metadata": {
        "id": "CE2wM_XN4s5e"
      }
    },
    {
      "cell_type": "code",
      "source": [
        "import string"
      ],
      "metadata": {
        "id": "AYmJWPht43Px"
      },
      "execution_count": null,
      "outputs": []
    },
    {
      "cell_type": "code",
      "source": [
        "data_frame['clean_Description']=data_frame['clean_Description'].apply(lambda x: re.sub('[%s]' % re.escape(string.punctuation), '', x))"
      ],
      "metadata": {
        "id": "6xcuHfBB4TNT"
      },
      "execution_count": null,
      "outputs": []
    },
    {
      "cell_type": "markdown",
      "source": [
        "removeing stopwords & lemmatization of words"
      ],
      "metadata": {
        "id": "hG0G0m1x5tuQ"
      }
    },
    {
      "cell_type": "code",
      "source": [
        "import spacy\n",
        "nlp = spacy.load('en_core_web_sm',disable=['parser', 'ner'])"
      ],
      "metadata": {
        "id": "1EWI1-Hs4TTi"
      },
      "execution_count": null,
      "outputs": []
    },
    {
      "cell_type": "code",
      "source": [
        "# Lemmatization with stopwords removal\n",
        "data_frame['lemmatized_clean_Description']=data_frame['clean_Description'].apply(lambda x: ' '.join([token.lemma_ for token in list(nlp(x)) if (token.is_stop==False)]))"
      ],
      "metadata": {
        "id": "eNeufqSnHNAt"
      },
      "execution_count": null,
      "outputs": []
    }
  ]
}