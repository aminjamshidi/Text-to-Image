{
  "nbformat": 4,
  "nbformat_minor": 0,
  "metadata": {
    "colab": {
      "provenance": [],
      "collapsed_sections": [
        "GlRF59OMq2X8",
        "NKKFAVSGrZcF",
        "y-CZ9GZvHPV0",
        "ewrZBubGOYxX",
        "hzAHj879R95J",
        "pgIRcbNHSb1w",
        "M1GQ68MtTKWV",
        "ygPFokAt3HgG",
        "k5i6Yym19Iul",
        "SGu_9JbwGyyy",
        "Na6VlSwjIU7W"
      ]
    },
    "kernelspec": {
      "name": "python3",
      "display_name": "Python 3"
    },
    "language_info": {
      "name": "python"
    },
    "widgets": {
      "application/vnd.jupyter.widget-state+json": {
        "7056865b66a44f8e913709096ef2c101": {
          "model_module": "@jupyter-widgets/controls",
          "model_name": "HBoxModel",
          "model_module_version": "1.5.0",
          "state": {
            "_dom_classes": [],
            "_model_module": "@jupyter-widgets/controls",
            "_model_module_version": "1.5.0",
            "_model_name": "HBoxModel",
            "_view_count": null,
            "_view_module": "@jupyter-widgets/controls",
            "_view_module_version": "1.5.0",
            "_view_name": "HBoxView",
            "box_style": "",
            "children": [
              "IPY_MODEL_3eedd714029c4fd8b3155c3eaddbc098",
              "IPY_MODEL_a86df9bf40cd4541827b2c04fee9d85e",
              "IPY_MODEL_27c5f6ffa92246c29b718adf5406b6f3"
            ],
            "layout": "IPY_MODEL_d9b46e7f38f345d0a63ee805567f5822"
          }
        },
        "3eedd714029c4fd8b3155c3eaddbc098": {
          "model_module": "@jupyter-widgets/controls",
          "model_name": "HTMLModel",
          "model_module_version": "1.5.0",
          "state": {
            "_dom_classes": [],
            "_model_module": "@jupyter-widgets/controls",
            "_model_module_version": "1.5.0",
            "_model_name": "HTMLModel",
            "_view_count": null,
            "_view_module": "@jupyter-widgets/controls",
            "_view_module_version": "1.5.0",
            "_view_name": "HTMLView",
            "description": "",
            "description_tooltip": null,
            "layout": "IPY_MODEL_6fb6d3a2a9024042bdb24e6968c642a1",
            "placeholder": "​",
            "style": "IPY_MODEL_549b1dfe75b44464af17d64185e75ead",
            "value": "tokenizer_config.json: 100%"
          }
        },
        "a86df9bf40cd4541827b2c04fee9d85e": {
          "model_module": "@jupyter-widgets/controls",
          "model_name": "FloatProgressModel",
          "model_module_version": "1.5.0",
          "state": {
            "_dom_classes": [],
            "_model_module": "@jupyter-widgets/controls",
            "_model_module_version": "1.5.0",
            "_model_name": "FloatProgressModel",
            "_view_count": null,
            "_view_module": "@jupyter-widgets/controls",
            "_view_module_version": "1.5.0",
            "_view_name": "ProgressView",
            "bar_style": "success",
            "description": "",
            "description_tooltip": null,
            "layout": "IPY_MODEL_4f66d77f6e8e417f8e5c4df1b72509dd",
            "max": 87,
            "min": 0,
            "orientation": "horizontal",
            "style": "IPY_MODEL_77b5fcecd5b1444fb9c32f6ca60d555d",
            "value": 87
          }
        },
        "27c5f6ffa92246c29b718adf5406b6f3": {
          "model_module": "@jupyter-widgets/controls",
          "model_name": "HTMLModel",
          "model_module_version": "1.5.0",
          "state": {
            "_dom_classes": [],
            "_model_module": "@jupyter-widgets/controls",
            "_model_module_version": "1.5.0",
            "_model_name": "HTMLModel",
            "_view_count": null,
            "_view_module": "@jupyter-widgets/controls",
            "_view_module_version": "1.5.0",
            "_view_name": "HTMLView",
            "description": "",
            "description_tooltip": null,
            "layout": "IPY_MODEL_2674daa129c045a5b08fea36155c6e89",
            "placeholder": "​",
            "style": "IPY_MODEL_b61d3144b0f6429f8081f83d9e21dd54",
            "value": " 87.0/87.0 [00:00&lt;00:00, 1.48kB/s]"
          }
        },
        "d9b46e7f38f345d0a63ee805567f5822": {
          "model_module": "@jupyter-widgets/base",
          "model_name": "LayoutModel",
          "model_module_version": "1.2.0",
          "state": {
            "_model_module": "@jupyter-widgets/base",
            "_model_module_version": "1.2.0",
            "_model_name": "LayoutModel",
            "_view_count": null,
            "_view_module": "@jupyter-widgets/base",
            "_view_module_version": "1.2.0",
            "_view_name": "LayoutView",
            "align_content": null,
            "align_items": null,
            "align_self": null,
            "border": null,
            "bottom": null,
            "display": null,
            "flex": null,
            "flex_flow": null,
            "grid_area": null,
            "grid_auto_columns": null,
            "grid_auto_flow": null,
            "grid_auto_rows": null,
            "grid_column": null,
            "grid_gap": null,
            "grid_row": null,
            "grid_template_areas": null,
            "grid_template_columns": null,
            "grid_template_rows": null,
            "height": null,
            "justify_content": null,
            "justify_items": null,
            "left": null,
            "margin": null,
            "max_height": null,
            "max_width": null,
            "min_height": null,
            "min_width": null,
            "object_fit": null,
            "object_position": null,
            "order": null,
            "overflow": null,
            "overflow_x": null,
            "overflow_y": null,
            "padding": null,
            "right": null,
            "top": null,
            "visibility": null,
            "width": null
          }
        },
        "6fb6d3a2a9024042bdb24e6968c642a1": {
          "model_module": "@jupyter-widgets/base",
          "model_name": "LayoutModel",
          "model_module_version": "1.2.0",
          "state": {
            "_model_module": "@jupyter-widgets/base",
            "_model_module_version": "1.2.0",
            "_model_name": "LayoutModel",
            "_view_count": null,
            "_view_module": "@jupyter-widgets/base",
            "_view_module_version": "1.2.0",
            "_view_name": "LayoutView",
            "align_content": null,
            "align_items": null,
            "align_self": null,
            "border": null,
            "bottom": null,
            "display": null,
            "flex": null,
            "flex_flow": null,
            "grid_area": null,
            "grid_auto_columns": null,
            "grid_auto_flow": null,
            "grid_auto_rows": null,
            "grid_column": null,
            "grid_gap": null,
            "grid_row": null,
            "grid_template_areas": null,
            "grid_template_columns": null,
            "grid_template_rows": null,
            "height": null,
            "justify_content": null,
            "justify_items": null,
            "left": null,
            "margin": null,
            "max_height": null,
            "max_width": null,
            "min_height": null,
            "min_width": null,
            "object_fit": null,
            "object_position": null,
            "order": null,
            "overflow": null,
            "overflow_x": null,
            "overflow_y": null,
            "padding": null,
            "right": null,
            "top": null,
            "visibility": null,
            "width": null
          }
        },
        "549b1dfe75b44464af17d64185e75ead": {
          "model_module": "@jupyter-widgets/controls",
          "model_name": "DescriptionStyleModel",
          "model_module_version": "1.5.0",
          "state": {
            "_model_module": "@jupyter-widgets/controls",
            "_model_module_version": "1.5.0",
            "_model_name": "DescriptionStyleModel",
            "_view_count": null,
            "_view_module": "@jupyter-widgets/base",
            "_view_module_version": "1.2.0",
            "_view_name": "StyleView",
            "description_width": ""
          }
        },
        "4f66d77f6e8e417f8e5c4df1b72509dd": {
          "model_module": "@jupyter-widgets/base",
          "model_name": "LayoutModel",
          "model_module_version": "1.2.0",
          "state": {
            "_model_module": "@jupyter-widgets/base",
            "_model_module_version": "1.2.0",
            "_model_name": "LayoutModel",
            "_view_count": null,
            "_view_module": "@jupyter-widgets/base",
            "_view_module_version": "1.2.0",
            "_view_name": "LayoutView",
            "align_content": null,
            "align_items": null,
            "align_self": null,
            "border": null,
            "bottom": null,
            "display": null,
            "flex": null,
            "flex_flow": null,
            "grid_area": null,
            "grid_auto_columns": null,
            "grid_auto_flow": null,
            "grid_auto_rows": null,
            "grid_column": null,
            "grid_gap": null,
            "grid_row": null,
            "grid_template_areas": null,
            "grid_template_columns": null,
            "grid_template_rows": null,
            "height": null,
            "justify_content": null,
            "justify_items": null,
            "left": null,
            "margin": null,
            "max_height": null,
            "max_width": null,
            "min_height": null,
            "min_width": null,
            "object_fit": null,
            "object_position": null,
            "order": null,
            "overflow": null,
            "overflow_x": null,
            "overflow_y": null,
            "padding": null,
            "right": null,
            "top": null,
            "visibility": null,
            "width": null
          }
        },
        "77b5fcecd5b1444fb9c32f6ca60d555d": {
          "model_module": "@jupyter-widgets/controls",
          "model_name": "ProgressStyleModel",
          "model_module_version": "1.5.0",
          "state": {
            "_model_module": "@jupyter-widgets/controls",
            "_model_module_version": "1.5.0",
            "_model_name": "ProgressStyleModel",
            "_view_count": null,
            "_view_module": "@jupyter-widgets/base",
            "_view_module_version": "1.2.0",
            "_view_name": "StyleView",
            "bar_color": null,
            "description_width": ""
          }
        },
        "2674daa129c045a5b08fea36155c6e89": {
          "model_module": "@jupyter-widgets/base",
          "model_name": "LayoutModel",
          "model_module_version": "1.2.0",
          "state": {
            "_model_module": "@jupyter-widgets/base",
            "_model_module_version": "1.2.0",
            "_model_name": "LayoutModel",
            "_view_count": null,
            "_view_module": "@jupyter-widgets/base",
            "_view_module_version": "1.2.0",
            "_view_name": "LayoutView",
            "align_content": null,
            "align_items": null,
            "align_self": null,
            "border": null,
            "bottom": null,
            "display": null,
            "flex": null,
            "flex_flow": null,
            "grid_area": null,
            "grid_auto_columns": null,
            "grid_auto_flow": null,
            "grid_auto_rows": null,
            "grid_column": null,
            "grid_gap": null,
            "grid_row": null,
            "grid_template_areas": null,
            "grid_template_columns": null,
            "grid_template_rows": null,
            "height": null,
            "justify_content": null,
            "justify_items": null,
            "left": null,
            "margin": null,
            "max_height": null,
            "max_width": null,
            "min_height": null,
            "min_width": null,
            "object_fit": null,
            "object_position": null,
            "order": null,
            "overflow": null,
            "overflow_x": null,
            "overflow_y": null,
            "padding": null,
            "right": null,
            "top": null,
            "visibility": null,
            "width": null
          }
        },
        "b61d3144b0f6429f8081f83d9e21dd54": {
          "model_module": "@jupyter-widgets/controls",
          "model_name": "DescriptionStyleModel",
          "model_module_version": "1.5.0",
          "state": {
            "_model_module": "@jupyter-widgets/controls",
            "_model_module_version": "1.5.0",
            "_model_name": "DescriptionStyleModel",
            "_view_count": null,
            "_view_module": "@jupyter-widgets/base",
            "_view_module_version": "1.2.0",
            "_view_name": "StyleView",
            "description_width": ""
          }
        },
        "ab617a7807c443419cf62988ee048bcc": {
          "model_module": "@jupyter-widgets/controls",
          "model_name": "HBoxModel",
          "model_module_version": "1.5.0",
          "state": {
            "_dom_classes": [],
            "_model_module": "@jupyter-widgets/controls",
            "_model_module_version": "1.5.0",
            "_model_name": "HBoxModel",
            "_view_count": null,
            "_view_module": "@jupyter-widgets/controls",
            "_view_module_version": "1.5.0",
            "_view_name": "HBoxView",
            "box_style": "",
            "children": [
              "IPY_MODEL_4d219a5e91a7436dafe54e15bd603b1a",
              "IPY_MODEL_bcf4262113e742168527847e1b3a9800",
              "IPY_MODEL_973cfaf1122946af93ca325f0a0b5c08"
            ],
            "layout": "IPY_MODEL_671b6abc608c403093ebaf573f5429ca"
          }
        },
        "4d219a5e91a7436dafe54e15bd603b1a": {
          "model_module": "@jupyter-widgets/controls",
          "model_name": "HTMLModel",
          "model_module_version": "1.5.0",
          "state": {
            "_dom_classes": [],
            "_model_module": "@jupyter-widgets/controls",
            "_model_module_version": "1.5.0",
            "_model_name": "HTMLModel",
            "_view_count": null,
            "_view_module": "@jupyter-widgets/controls",
            "_view_module_version": "1.5.0",
            "_view_name": "HTMLView",
            "description": "",
            "description_tooltip": null,
            "layout": "IPY_MODEL_57757c9b8a724fe6a7113a3137073523",
            "placeholder": "​",
            "style": "IPY_MODEL_ad1e10a3675f458295a22c0e72e43fad",
            "value": "spiece.model: 100%"
          }
        },
        "bcf4262113e742168527847e1b3a9800": {
          "model_module": "@jupyter-widgets/controls",
          "model_name": "FloatProgressModel",
          "model_module_version": "1.5.0",
          "state": {
            "_dom_classes": [],
            "_model_module": "@jupyter-widgets/controls",
            "_model_module_version": "1.5.0",
            "_model_name": "FloatProgressModel",
            "_view_count": null,
            "_view_module": "@jupyter-widgets/controls",
            "_view_module_version": "1.5.0",
            "_view_name": "ProgressView",
            "bar_style": "success",
            "description": "",
            "description_tooltip": null,
            "layout": "IPY_MODEL_f2aa3e909fed494eb6b28bf89221209d",
            "max": 1912529,
            "min": 0,
            "orientation": "horizontal",
            "style": "IPY_MODEL_a3dfa38d2dd54280a7abe362bd2e0322",
            "value": 1912529
          }
        },
        "973cfaf1122946af93ca325f0a0b5c08": {
          "model_module": "@jupyter-widgets/controls",
          "model_name": "HTMLModel",
          "model_module_version": "1.5.0",
          "state": {
            "_dom_classes": [],
            "_model_module": "@jupyter-widgets/controls",
            "_model_module_version": "1.5.0",
            "_model_name": "HTMLModel",
            "_view_count": null,
            "_view_module": "@jupyter-widgets/controls",
            "_view_module_version": "1.5.0",
            "_view_name": "HTMLView",
            "description": "",
            "description_tooltip": null,
            "layout": "IPY_MODEL_8d1c178d358d4369ac46a7f0a650b676",
            "placeholder": "​",
            "style": "IPY_MODEL_f96e6d99631040f598baea6549b86752",
            "value": " 1.91M/1.91M [00:00&lt;00:00, 11.3MB/s]"
          }
        },
        "671b6abc608c403093ebaf573f5429ca": {
          "model_module": "@jupyter-widgets/base",
          "model_name": "LayoutModel",
          "model_module_version": "1.2.0",
          "state": {
            "_model_module": "@jupyter-widgets/base",
            "_model_module_version": "1.2.0",
            "_model_name": "LayoutModel",
            "_view_count": null,
            "_view_module": "@jupyter-widgets/base",
            "_view_module_version": "1.2.0",
            "_view_name": "LayoutView",
            "align_content": null,
            "align_items": null,
            "align_self": null,
            "border": null,
            "bottom": null,
            "display": null,
            "flex": null,
            "flex_flow": null,
            "grid_area": null,
            "grid_auto_columns": null,
            "grid_auto_flow": null,
            "grid_auto_rows": null,
            "grid_column": null,
            "grid_gap": null,
            "grid_row": null,
            "grid_template_areas": null,
            "grid_template_columns": null,
            "grid_template_rows": null,
            "height": null,
            "justify_content": null,
            "justify_items": null,
            "left": null,
            "margin": null,
            "max_height": null,
            "max_width": null,
            "min_height": null,
            "min_width": null,
            "object_fit": null,
            "object_position": null,
            "order": null,
            "overflow": null,
            "overflow_x": null,
            "overflow_y": null,
            "padding": null,
            "right": null,
            "top": null,
            "visibility": null,
            "width": null
          }
        },
        "57757c9b8a724fe6a7113a3137073523": {
          "model_module": "@jupyter-widgets/base",
          "model_name": "LayoutModel",
          "model_module_version": "1.2.0",
          "state": {
            "_model_module": "@jupyter-widgets/base",
            "_model_module_version": "1.2.0",
            "_model_name": "LayoutModel",
            "_view_count": null,
            "_view_module": "@jupyter-widgets/base",
            "_view_module_version": "1.2.0",
            "_view_name": "LayoutView",
            "align_content": null,
            "align_items": null,
            "align_self": null,
            "border": null,
            "bottom": null,
            "display": null,
            "flex": null,
            "flex_flow": null,
            "grid_area": null,
            "grid_auto_columns": null,
            "grid_auto_flow": null,
            "grid_auto_rows": null,
            "grid_column": null,
            "grid_gap": null,
            "grid_row": null,
            "grid_template_areas": null,
            "grid_template_columns": null,
            "grid_template_rows": null,
            "height": null,
            "justify_content": null,
            "justify_items": null,
            "left": null,
            "margin": null,
            "max_height": null,
            "max_width": null,
            "min_height": null,
            "min_width": null,
            "object_fit": null,
            "object_position": null,
            "order": null,
            "overflow": null,
            "overflow_x": null,
            "overflow_y": null,
            "padding": null,
            "right": null,
            "top": null,
            "visibility": null,
            "width": null
          }
        },
        "ad1e10a3675f458295a22c0e72e43fad": {
          "model_module": "@jupyter-widgets/controls",
          "model_name": "DescriptionStyleModel",
          "model_module_version": "1.5.0",
          "state": {
            "_model_module": "@jupyter-widgets/controls",
            "_model_module_version": "1.5.0",
            "_model_name": "DescriptionStyleModel",
            "_view_count": null,
            "_view_module": "@jupyter-widgets/base",
            "_view_module_version": "1.2.0",
            "_view_name": "StyleView",
            "description_width": ""
          }
        },
        "f2aa3e909fed494eb6b28bf89221209d": {
          "model_module": "@jupyter-widgets/base",
          "model_name": "LayoutModel",
          "model_module_version": "1.2.0",
          "state": {
            "_model_module": "@jupyter-widgets/base",
            "_model_module_version": "1.2.0",
            "_model_name": "LayoutModel",
            "_view_count": null,
            "_view_module": "@jupyter-widgets/base",
            "_view_module_version": "1.2.0",
            "_view_name": "LayoutView",
            "align_content": null,
            "align_items": null,
            "align_self": null,
            "border": null,
            "bottom": null,
            "display": null,
            "flex": null,
            "flex_flow": null,
            "grid_area": null,
            "grid_auto_columns": null,
            "grid_auto_flow": null,
            "grid_auto_rows": null,
            "grid_column": null,
            "grid_gap": null,
            "grid_row": null,
            "grid_template_areas": null,
            "grid_template_columns": null,
            "grid_template_rows": null,
            "height": null,
            "justify_content": null,
            "justify_items": null,
            "left": null,
            "margin": null,
            "max_height": null,
            "max_width": null,
            "min_height": null,
            "min_width": null,
            "object_fit": null,
            "object_position": null,
            "order": null,
            "overflow": null,
            "overflow_x": null,
            "overflow_y": null,
            "padding": null,
            "right": null,
            "top": null,
            "visibility": null,
            "width": null
          }
        },
        "a3dfa38d2dd54280a7abe362bd2e0322": {
          "model_module": "@jupyter-widgets/controls",
          "model_name": "ProgressStyleModel",
          "model_module_version": "1.5.0",
          "state": {
            "_model_module": "@jupyter-widgets/controls",
            "_model_module_version": "1.5.0",
            "_model_name": "ProgressStyleModel",
            "_view_count": null,
            "_view_module": "@jupyter-widgets/base",
            "_view_module_version": "1.2.0",
            "_view_name": "StyleView",
            "bar_color": null,
            "description_width": ""
          }
        },
        "8d1c178d358d4369ac46a7f0a650b676": {
          "model_module": "@jupyter-widgets/base",
          "model_name": "LayoutModel",
          "model_module_version": "1.2.0",
          "state": {
            "_model_module": "@jupyter-widgets/base",
            "_model_module_version": "1.2.0",
            "_model_name": "LayoutModel",
            "_view_count": null,
            "_view_module": "@jupyter-widgets/base",
            "_view_module_version": "1.2.0",
            "_view_name": "LayoutView",
            "align_content": null,
            "align_items": null,
            "align_self": null,
            "border": null,
            "bottom": null,
            "display": null,
            "flex": null,
            "flex_flow": null,
            "grid_area": null,
            "grid_auto_columns": null,
            "grid_auto_flow": null,
            "grid_auto_rows": null,
            "grid_column": null,
            "grid_gap": null,
            "grid_row": null,
            "grid_template_areas": null,
            "grid_template_columns": null,
            "grid_template_rows": null,
            "height": null,
            "justify_content": null,
            "justify_items": null,
            "left": null,
            "margin": null,
            "max_height": null,
            "max_width": null,
            "min_height": null,
            "min_width": null,
            "object_fit": null,
            "object_position": null,
            "order": null,
            "overflow": null,
            "overflow_x": null,
            "overflow_y": null,
            "padding": null,
            "right": null,
            "top": null,
            "visibility": null,
            "width": null
          }
        },
        "f96e6d99631040f598baea6549b86752": {
          "model_module": "@jupyter-widgets/controls",
          "model_name": "DescriptionStyleModel",
          "model_module_version": "1.5.0",
          "state": {
            "_model_module": "@jupyter-widgets/controls",
            "_model_module_version": "1.5.0",
            "_model_name": "DescriptionStyleModel",
            "_view_count": null,
            "_view_module": "@jupyter-widgets/base",
            "_view_module_version": "1.2.0",
            "_view_name": "StyleView",
            "description_width": ""
          }
        },
        "ba4b0f41b2584ef49d3e5c577fd9d851": {
          "model_module": "@jupyter-widgets/controls",
          "model_name": "HBoxModel",
          "model_module_version": "1.5.0",
          "state": {
            "_dom_classes": [],
            "_model_module": "@jupyter-widgets/controls",
            "_model_module_version": "1.5.0",
            "_model_name": "HBoxModel",
            "_view_count": null,
            "_view_module": "@jupyter-widgets/controls",
            "_view_module_version": "1.5.0",
            "_view_name": "HBoxView",
            "box_style": "",
            "children": [
              "IPY_MODEL_796ea37dc41c4dcaba390c76cbc14d37",
              "IPY_MODEL_50e4b1ea72b2494d971ffbaedbafcac9",
              "IPY_MODEL_155c9abd7d3541e9a92fc8dd1fb474c2"
            ],
            "layout": "IPY_MODEL_7dfd066351fb44d2934e063b474b9a98"
          }
        },
        "796ea37dc41c4dcaba390c76cbc14d37": {
          "model_module": "@jupyter-widgets/controls",
          "model_name": "HTMLModel",
          "model_module_version": "1.5.0",
          "state": {
            "_dom_classes": [],
            "_model_module": "@jupyter-widgets/controls",
            "_model_module_version": "1.5.0",
            "_model_name": "HTMLModel",
            "_view_count": null,
            "_view_module": "@jupyter-widgets/controls",
            "_view_module_version": "1.5.0",
            "_view_name": "HTMLView",
            "description": "",
            "description_tooltip": null,
            "layout": "IPY_MODEL_166f240a82f8402787e94b6965b6e1c9",
            "placeholder": "​",
            "style": "IPY_MODEL_b7bad49d1ede4a5ab82f002d1feea82c",
            "value": "special_tokens_map.json: 100%"
          }
        },
        "50e4b1ea72b2494d971ffbaedbafcac9": {
          "model_module": "@jupyter-widgets/controls",
          "model_name": "FloatProgressModel",
          "model_module_version": "1.5.0",
          "state": {
            "_dom_classes": [],
            "_model_module": "@jupyter-widgets/controls",
            "_model_module_version": "1.5.0",
            "_model_name": "FloatProgressModel",
            "_view_count": null,
            "_view_module": "@jupyter-widgets/controls",
            "_view_module_version": "1.5.0",
            "_view_name": "ProgressView",
            "bar_style": "success",
            "description": "",
            "description_tooltip": null,
            "layout": "IPY_MODEL_5b986eb50c644347b871a0442118a825",
            "max": 65,
            "min": 0,
            "orientation": "horizontal",
            "style": "IPY_MODEL_b39f608629fc4e11a4ce5490a0cc36cd",
            "value": 65
          }
        },
        "155c9abd7d3541e9a92fc8dd1fb474c2": {
          "model_module": "@jupyter-widgets/controls",
          "model_name": "HTMLModel",
          "model_module_version": "1.5.0",
          "state": {
            "_dom_classes": [],
            "_model_module": "@jupyter-widgets/controls",
            "_model_module_version": "1.5.0",
            "_model_name": "HTMLModel",
            "_view_count": null,
            "_view_module": "@jupyter-widgets/controls",
            "_view_module_version": "1.5.0",
            "_view_name": "HTMLView",
            "description": "",
            "description_tooltip": null,
            "layout": "IPY_MODEL_52f3db2daa44425c98a2a35edeb61978",
            "placeholder": "​",
            "style": "IPY_MODEL_ca6b2255b37f49aa93cb701d19aecf34",
            "value": " 65.0/65.0 [00:00&lt;00:00, 890B/s]"
          }
        },
        "7dfd066351fb44d2934e063b474b9a98": {
          "model_module": "@jupyter-widgets/base",
          "model_name": "LayoutModel",
          "model_module_version": "1.2.0",
          "state": {
            "_model_module": "@jupyter-widgets/base",
            "_model_module_version": "1.2.0",
            "_model_name": "LayoutModel",
            "_view_count": null,
            "_view_module": "@jupyter-widgets/base",
            "_view_module_version": "1.2.0",
            "_view_name": "LayoutView",
            "align_content": null,
            "align_items": null,
            "align_self": null,
            "border": null,
            "bottom": null,
            "display": null,
            "flex": null,
            "flex_flow": null,
            "grid_area": null,
            "grid_auto_columns": null,
            "grid_auto_flow": null,
            "grid_auto_rows": null,
            "grid_column": null,
            "grid_gap": null,
            "grid_row": null,
            "grid_template_areas": null,
            "grid_template_columns": null,
            "grid_template_rows": null,
            "height": null,
            "justify_content": null,
            "justify_items": null,
            "left": null,
            "margin": null,
            "max_height": null,
            "max_width": null,
            "min_height": null,
            "min_width": null,
            "object_fit": null,
            "object_position": null,
            "order": null,
            "overflow": null,
            "overflow_x": null,
            "overflow_y": null,
            "padding": null,
            "right": null,
            "top": null,
            "visibility": null,
            "width": null
          }
        },
        "166f240a82f8402787e94b6965b6e1c9": {
          "model_module": "@jupyter-widgets/base",
          "model_name": "LayoutModel",
          "model_module_version": "1.2.0",
          "state": {
            "_model_module": "@jupyter-widgets/base",
            "_model_module_version": "1.2.0",
            "_model_name": "LayoutModel",
            "_view_count": null,
            "_view_module": "@jupyter-widgets/base",
            "_view_module_version": "1.2.0",
            "_view_name": "LayoutView",
            "align_content": null,
            "align_items": null,
            "align_self": null,
            "border": null,
            "bottom": null,
            "display": null,
            "flex": null,
            "flex_flow": null,
            "grid_area": null,
            "grid_auto_columns": null,
            "grid_auto_flow": null,
            "grid_auto_rows": null,
            "grid_column": null,
            "grid_gap": null,
            "grid_row": null,
            "grid_template_areas": null,
            "grid_template_columns": null,
            "grid_template_rows": null,
            "height": null,
            "justify_content": null,
            "justify_items": null,
            "left": null,
            "margin": null,
            "max_height": null,
            "max_width": null,
            "min_height": null,
            "min_width": null,
            "object_fit": null,
            "object_position": null,
            "order": null,
            "overflow": null,
            "overflow_x": null,
            "overflow_y": null,
            "padding": null,
            "right": null,
            "top": null,
            "visibility": null,
            "width": null
          }
        },
        "b7bad49d1ede4a5ab82f002d1feea82c": {
          "model_module": "@jupyter-widgets/controls",
          "model_name": "DescriptionStyleModel",
          "model_module_version": "1.5.0",
          "state": {
            "_model_module": "@jupyter-widgets/controls",
            "_model_module_version": "1.5.0",
            "_model_name": "DescriptionStyleModel",
            "_view_count": null,
            "_view_module": "@jupyter-widgets/base",
            "_view_module_version": "1.2.0",
            "_view_name": "StyleView",
            "description_width": ""
          }
        },
        "5b986eb50c644347b871a0442118a825": {
          "model_module": "@jupyter-widgets/base",
          "model_name": "LayoutModel",
          "model_module_version": "1.2.0",
          "state": {
            "_model_module": "@jupyter-widgets/base",
            "_model_module_version": "1.2.0",
            "_model_name": "LayoutModel",
            "_view_count": null,
            "_view_module": "@jupyter-widgets/base",
            "_view_module_version": "1.2.0",
            "_view_name": "LayoutView",
            "align_content": null,
            "align_items": null,
            "align_self": null,
            "border": null,
            "bottom": null,
            "display": null,
            "flex": null,
            "flex_flow": null,
            "grid_area": null,
            "grid_auto_columns": null,
            "grid_auto_flow": null,
            "grid_auto_rows": null,
            "grid_column": null,
            "grid_gap": null,
            "grid_row": null,
            "grid_template_areas": null,
            "grid_template_columns": null,
            "grid_template_rows": null,
            "height": null,
            "justify_content": null,
            "justify_items": null,
            "left": null,
            "margin": null,
            "max_height": null,
            "max_width": null,
            "min_height": null,
            "min_width": null,
            "object_fit": null,
            "object_position": null,
            "order": null,
            "overflow": null,
            "overflow_x": null,
            "overflow_y": null,
            "padding": null,
            "right": null,
            "top": null,
            "visibility": null,
            "width": null
          }
        },
        "b39f608629fc4e11a4ce5490a0cc36cd": {
          "model_module": "@jupyter-widgets/controls",
          "model_name": "ProgressStyleModel",
          "model_module_version": "1.5.0",
          "state": {
            "_model_module": "@jupyter-widgets/controls",
            "_model_module_version": "1.5.0",
            "_model_name": "ProgressStyleModel",
            "_view_count": null,
            "_view_module": "@jupyter-widgets/base",
            "_view_module_version": "1.2.0",
            "_view_name": "StyleView",
            "bar_color": null,
            "description_width": ""
          }
        },
        "52f3db2daa44425c98a2a35edeb61978": {
          "model_module": "@jupyter-widgets/base",
          "model_name": "LayoutModel",
          "model_module_version": "1.2.0",
          "state": {
            "_model_module": "@jupyter-widgets/base",
            "_model_module_version": "1.2.0",
            "_model_name": "LayoutModel",
            "_view_count": null,
            "_view_module": "@jupyter-widgets/base",
            "_view_module_version": "1.2.0",
            "_view_name": "LayoutView",
            "align_content": null,
            "align_items": null,
            "align_self": null,
            "border": null,
            "bottom": null,
            "display": null,
            "flex": null,
            "flex_flow": null,
            "grid_area": null,
            "grid_auto_columns": null,
            "grid_auto_flow": null,
            "grid_auto_rows": null,
            "grid_column": null,
            "grid_gap": null,
            "grid_row": null,
            "grid_template_areas": null,
            "grid_template_columns": null,
            "grid_template_rows": null,
            "height": null,
            "justify_content": null,
            "justify_items": null,
            "left": null,
            "margin": null,
            "max_height": null,
            "max_width": null,
            "min_height": null,
            "min_width": null,
            "object_fit": null,
            "object_position": null,
            "order": null,
            "overflow": null,
            "overflow_x": null,
            "overflow_y": null,
            "padding": null,
            "right": null,
            "top": null,
            "visibility": null,
            "width": null
          }
        },
        "ca6b2255b37f49aa93cb701d19aecf34": {
          "model_module": "@jupyter-widgets/controls",
          "model_name": "DescriptionStyleModel",
          "model_module_version": "1.5.0",
          "state": {
            "_model_module": "@jupyter-widgets/controls",
            "_model_module_version": "1.5.0",
            "_model_name": "DescriptionStyleModel",
            "_view_count": null,
            "_view_module": "@jupyter-widgets/base",
            "_view_module_version": "1.2.0",
            "_view_name": "StyleView",
            "description_width": ""
          }
        },
        "d3f4d50f37004229bcf93309ef1a34bb": {
          "model_module": "@jupyter-widgets/controls",
          "model_name": "HBoxModel",
          "model_module_version": "1.5.0",
          "state": {
            "_dom_classes": [],
            "_model_module": "@jupyter-widgets/controls",
            "_model_module_version": "1.5.0",
            "_model_name": "HBoxModel",
            "_view_count": null,
            "_view_module": "@jupyter-widgets/controls",
            "_view_module_version": "1.5.0",
            "_view_name": "HBoxView",
            "box_style": "",
            "children": [
              "IPY_MODEL_87012ee10ce8439eb44a0077f033708f",
              "IPY_MODEL_02732a36281a4c57af7b1e488affd0e1",
              "IPY_MODEL_0319b8dce045491e9957063de6c709c6"
            ],
            "layout": "IPY_MODEL_1f8c7147d3f648679fae01ceff50208a"
          }
        },
        "87012ee10ce8439eb44a0077f033708f": {
          "model_module": "@jupyter-widgets/controls",
          "model_name": "HTMLModel",
          "model_module_version": "1.5.0",
          "state": {
            "_dom_classes": [],
            "_model_module": "@jupyter-widgets/controls",
            "_model_module_version": "1.5.0",
            "_model_name": "HTMLModel",
            "_view_count": null,
            "_view_module": "@jupyter-widgets/controls",
            "_view_module_version": "1.5.0",
            "_view_name": "HTMLView",
            "description": "",
            "description_tooltip": null,
            "layout": "IPY_MODEL_4d2e92ffc55143fea5e9a90969f55c9a",
            "placeholder": "​",
            "style": "IPY_MODEL_48e5e075e4924a43951f641b4b730693",
            "value": "tokenizer.json: 100%"
          }
        },
        "02732a36281a4c57af7b1e488affd0e1": {
          "model_module": "@jupyter-widgets/controls",
          "model_name": "FloatProgressModel",
          "model_module_version": "1.5.0",
          "state": {
            "_dom_classes": [],
            "_model_module": "@jupyter-widgets/controls",
            "_model_module_version": "1.5.0",
            "_model_name": "FloatProgressModel",
            "_view_count": null,
            "_view_module": "@jupyter-widgets/controls",
            "_view_module_version": "1.5.0",
            "_view_name": "ProgressView",
            "bar_style": "success",
            "description": "",
            "description_tooltip": null,
            "layout": "IPY_MODEL_f9ad26c7a43e42cc8b069ff01a832610",
            "max": 3520083,
            "min": 0,
            "orientation": "horizontal",
            "style": "IPY_MODEL_30d03038acd74a55bb98be2362bde30b",
            "value": 3520083
          }
        },
        "0319b8dce045491e9957063de6c709c6": {
          "model_module": "@jupyter-widgets/controls",
          "model_name": "HTMLModel",
          "model_module_version": "1.5.0",
          "state": {
            "_dom_classes": [],
            "_model_module": "@jupyter-widgets/controls",
            "_model_module_version": "1.5.0",
            "_model_name": "HTMLModel",
            "_view_count": null,
            "_view_module": "@jupyter-widgets/controls",
            "_view_module_version": "1.5.0",
            "_view_name": "HTMLView",
            "description": "",
            "description_tooltip": null,
            "layout": "IPY_MODEL_1233b0b6f9b249509d9ccd0a21fb8a73",
            "placeholder": "​",
            "style": "IPY_MODEL_38424d80c2dc461989ff9573e79ba6d2",
            "value": " 3.52M/3.52M [00:00&lt;00:00, 23.9MB/s]"
          }
        },
        "1f8c7147d3f648679fae01ceff50208a": {
          "model_module": "@jupyter-widgets/base",
          "model_name": "LayoutModel",
          "model_module_version": "1.2.0",
          "state": {
            "_model_module": "@jupyter-widgets/base",
            "_model_module_version": "1.2.0",
            "_model_name": "LayoutModel",
            "_view_count": null,
            "_view_module": "@jupyter-widgets/base",
            "_view_module_version": "1.2.0",
            "_view_name": "LayoutView",
            "align_content": null,
            "align_items": null,
            "align_self": null,
            "border": null,
            "bottom": null,
            "display": null,
            "flex": null,
            "flex_flow": null,
            "grid_area": null,
            "grid_auto_columns": null,
            "grid_auto_flow": null,
            "grid_auto_rows": null,
            "grid_column": null,
            "grid_gap": null,
            "grid_row": null,
            "grid_template_areas": null,
            "grid_template_columns": null,
            "grid_template_rows": null,
            "height": null,
            "justify_content": null,
            "justify_items": null,
            "left": null,
            "margin": null,
            "max_height": null,
            "max_width": null,
            "min_height": null,
            "min_width": null,
            "object_fit": null,
            "object_position": null,
            "order": null,
            "overflow": null,
            "overflow_x": null,
            "overflow_y": null,
            "padding": null,
            "right": null,
            "top": null,
            "visibility": null,
            "width": null
          }
        },
        "4d2e92ffc55143fea5e9a90969f55c9a": {
          "model_module": "@jupyter-widgets/base",
          "model_name": "LayoutModel",
          "model_module_version": "1.2.0",
          "state": {
            "_model_module": "@jupyter-widgets/base",
            "_model_module_version": "1.2.0",
            "_model_name": "LayoutModel",
            "_view_count": null,
            "_view_module": "@jupyter-widgets/base",
            "_view_module_version": "1.2.0",
            "_view_name": "LayoutView",
            "align_content": null,
            "align_items": null,
            "align_self": null,
            "border": null,
            "bottom": null,
            "display": null,
            "flex": null,
            "flex_flow": null,
            "grid_area": null,
            "grid_auto_columns": null,
            "grid_auto_flow": null,
            "grid_auto_rows": null,
            "grid_column": null,
            "grid_gap": null,
            "grid_row": null,
            "grid_template_areas": null,
            "grid_template_columns": null,
            "grid_template_rows": null,
            "height": null,
            "justify_content": null,
            "justify_items": null,
            "left": null,
            "margin": null,
            "max_height": null,
            "max_width": null,
            "min_height": null,
            "min_width": null,
            "object_fit": null,
            "object_position": null,
            "order": null,
            "overflow": null,
            "overflow_x": null,
            "overflow_y": null,
            "padding": null,
            "right": null,
            "top": null,
            "visibility": null,
            "width": null
          }
        },
        "48e5e075e4924a43951f641b4b730693": {
          "model_module": "@jupyter-widgets/controls",
          "model_name": "DescriptionStyleModel",
          "model_module_version": "1.5.0",
          "state": {
            "_model_module": "@jupyter-widgets/controls",
            "_model_module_version": "1.5.0",
            "_model_name": "DescriptionStyleModel",
            "_view_count": null,
            "_view_module": "@jupyter-widgets/base",
            "_view_module_version": "1.2.0",
            "_view_name": "StyleView",
            "description_width": ""
          }
        },
        "f9ad26c7a43e42cc8b069ff01a832610": {
          "model_module": "@jupyter-widgets/base",
          "model_name": "LayoutModel",
          "model_module_version": "1.2.0",
          "state": {
            "_model_module": "@jupyter-widgets/base",
            "_model_module_version": "1.2.0",
            "_model_name": "LayoutModel",
            "_view_count": null,
            "_view_module": "@jupyter-widgets/base",
            "_view_module_version": "1.2.0",
            "_view_name": "LayoutView",
            "align_content": null,
            "align_items": null,
            "align_self": null,
            "border": null,
            "bottom": null,
            "display": null,
            "flex": null,
            "flex_flow": null,
            "grid_area": null,
            "grid_auto_columns": null,
            "grid_auto_flow": null,
            "grid_auto_rows": null,
            "grid_column": null,
            "grid_gap": null,
            "grid_row": null,
            "grid_template_areas": null,
            "grid_template_columns": null,
            "grid_template_rows": null,
            "height": null,
            "justify_content": null,
            "justify_items": null,
            "left": null,
            "margin": null,
            "max_height": null,
            "max_width": null,
            "min_height": null,
            "min_width": null,
            "object_fit": null,
            "object_position": null,
            "order": null,
            "overflow": null,
            "overflow_x": null,
            "overflow_y": null,
            "padding": null,
            "right": null,
            "top": null,
            "visibility": null,
            "width": null
          }
        },
        "30d03038acd74a55bb98be2362bde30b": {
          "model_module": "@jupyter-widgets/controls",
          "model_name": "ProgressStyleModel",
          "model_module_version": "1.5.0",
          "state": {
            "_model_module": "@jupyter-widgets/controls",
            "_model_module_version": "1.5.0",
            "_model_name": "ProgressStyleModel",
            "_view_count": null,
            "_view_module": "@jupyter-widgets/base",
            "_view_module_version": "1.2.0",
            "_view_name": "StyleView",
            "bar_color": null,
            "description_width": ""
          }
        },
        "1233b0b6f9b249509d9ccd0a21fb8a73": {
          "model_module": "@jupyter-widgets/base",
          "model_name": "LayoutModel",
          "model_module_version": "1.2.0",
          "state": {
            "_model_module": "@jupyter-widgets/base",
            "_model_module_version": "1.2.0",
            "_model_name": "LayoutModel",
            "_view_count": null,
            "_view_module": "@jupyter-widgets/base",
            "_view_module_version": "1.2.0",
            "_view_name": "LayoutView",
            "align_content": null,
            "align_items": null,
            "align_self": null,
            "border": null,
            "bottom": null,
            "display": null,
            "flex": null,
            "flex_flow": null,
            "grid_area": null,
            "grid_auto_columns": null,
            "grid_auto_flow": null,
            "grid_auto_rows": null,
            "grid_column": null,
            "grid_gap": null,
            "grid_row": null,
            "grid_template_areas": null,
            "grid_template_columns": null,
            "grid_template_rows": null,
            "height": null,
            "justify_content": null,
            "justify_items": null,
            "left": null,
            "margin": null,
            "max_height": null,
            "max_width": null,
            "min_height": null,
            "min_width": null,
            "object_fit": null,
            "object_position": null,
            "order": null,
            "overflow": null,
            "overflow_x": null,
            "overflow_y": null,
            "padding": null,
            "right": null,
            "top": null,
            "visibility": null,
            "width": null
          }
        },
        "38424d80c2dc461989ff9573e79ba6d2": {
          "model_module": "@jupyter-widgets/controls",
          "model_name": "DescriptionStyleModel",
          "model_module_version": "1.5.0",
          "state": {
            "_model_module": "@jupyter-widgets/controls",
            "_model_module_version": "1.5.0",
            "_model_name": "DescriptionStyleModel",
            "_view_count": null,
            "_view_module": "@jupyter-widgets/base",
            "_view_module_version": "1.2.0",
            "_view_name": "StyleView",
            "description_width": ""
          }
        },
        "abc25230ebe34e1b9fbe2f8fd45d2b72": {
          "model_module": "@jupyter-widgets/controls",
          "model_name": "HBoxModel",
          "model_module_version": "1.5.0",
          "state": {
            "_dom_classes": [],
            "_model_module": "@jupyter-widgets/controls",
            "_model_module_version": "1.5.0",
            "_model_name": "HBoxModel",
            "_view_count": null,
            "_view_module": "@jupyter-widgets/controls",
            "_view_module_version": "1.5.0",
            "_view_name": "HBoxView",
            "box_style": "",
            "children": [
              "IPY_MODEL_3ff828b99dc54c968f87d202c07a3aab",
              "IPY_MODEL_99f504c2dba7440eb61e70e4a78fbe34",
              "IPY_MODEL_50d386b6a9b24ac3af995a9fa416c46d"
            ],
            "layout": "IPY_MODEL_cb73dece947a4bb3acab6a2ae1060153"
          }
        },
        "3ff828b99dc54c968f87d202c07a3aab": {
          "model_module": "@jupyter-widgets/controls",
          "model_name": "HTMLModel",
          "model_module_version": "1.5.0",
          "state": {
            "_dom_classes": [],
            "_model_module": "@jupyter-widgets/controls",
            "_model_module_version": "1.5.0",
            "_model_name": "HTMLModel",
            "_view_count": null,
            "_view_module": "@jupyter-widgets/controls",
            "_view_module_version": "1.5.0",
            "_view_name": "HTMLView",
            "description": "",
            "description_tooltip": null,
            "layout": "IPY_MODEL_0994150b29bd453d9db7603e89447c79",
            "placeholder": "​",
            "style": "IPY_MODEL_d01629e4a1a345ba8dd41d1a0c04a23e",
            "value": "config.json: 100%"
          }
        },
        "99f504c2dba7440eb61e70e4a78fbe34": {
          "model_module": "@jupyter-widgets/controls",
          "model_name": "FloatProgressModel",
          "model_module_version": "1.5.0",
          "state": {
            "_dom_classes": [],
            "_model_module": "@jupyter-widgets/controls",
            "_model_module_version": "1.5.0",
            "_model_name": "FloatProgressModel",
            "_view_count": null,
            "_view_module": "@jupyter-widgets/controls",
            "_view_module_version": "1.5.0",
            "_view_name": "ProgressView",
            "bar_style": "success",
            "description": "",
            "description_tooltip": null,
            "layout": "IPY_MODEL_37589ab9482a487080c04e1769e8b2de",
            "max": 1392,
            "min": 0,
            "orientation": "horizontal",
            "style": "IPY_MODEL_80382ce6ef0c4e10bda2ce849ec97d1e",
            "value": 1392
          }
        },
        "50d386b6a9b24ac3af995a9fa416c46d": {
          "model_module": "@jupyter-widgets/controls",
          "model_name": "HTMLModel",
          "model_module_version": "1.5.0",
          "state": {
            "_dom_classes": [],
            "_model_module": "@jupyter-widgets/controls",
            "_model_module_version": "1.5.0",
            "_model_name": "HTMLModel",
            "_view_count": null,
            "_view_module": "@jupyter-widgets/controls",
            "_view_module_version": "1.5.0",
            "_view_name": "HTMLView",
            "description": "",
            "description_tooltip": null,
            "layout": "IPY_MODEL_a0456f452cf34d61905189f555f2edeb",
            "placeholder": "​",
            "style": "IPY_MODEL_0c1aaaa872d94685bc75e980952b71f4",
            "value": " 1.39k/1.39k [00:00&lt;00:00, 11.1kB/s]"
          }
        },
        "cb73dece947a4bb3acab6a2ae1060153": {
          "model_module": "@jupyter-widgets/base",
          "model_name": "LayoutModel",
          "model_module_version": "1.2.0",
          "state": {
            "_model_module": "@jupyter-widgets/base",
            "_model_module_version": "1.2.0",
            "_model_name": "LayoutModel",
            "_view_count": null,
            "_view_module": "@jupyter-widgets/base",
            "_view_module_version": "1.2.0",
            "_view_name": "LayoutView",
            "align_content": null,
            "align_items": null,
            "align_self": null,
            "border": null,
            "bottom": null,
            "display": null,
            "flex": null,
            "flex_flow": null,
            "grid_area": null,
            "grid_auto_columns": null,
            "grid_auto_flow": null,
            "grid_auto_rows": null,
            "grid_column": null,
            "grid_gap": null,
            "grid_row": null,
            "grid_template_areas": null,
            "grid_template_columns": null,
            "grid_template_rows": null,
            "height": null,
            "justify_content": null,
            "justify_items": null,
            "left": null,
            "margin": null,
            "max_height": null,
            "max_width": null,
            "min_height": null,
            "min_width": null,
            "object_fit": null,
            "object_position": null,
            "order": null,
            "overflow": null,
            "overflow_x": null,
            "overflow_y": null,
            "padding": null,
            "right": null,
            "top": null,
            "visibility": null,
            "width": null
          }
        },
        "0994150b29bd453d9db7603e89447c79": {
          "model_module": "@jupyter-widgets/base",
          "model_name": "LayoutModel",
          "model_module_version": "1.2.0",
          "state": {
            "_model_module": "@jupyter-widgets/base",
            "_model_module_version": "1.2.0",
            "_model_name": "LayoutModel",
            "_view_count": null,
            "_view_module": "@jupyter-widgets/base",
            "_view_module_version": "1.2.0",
            "_view_name": "LayoutView",
            "align_content": null,
            "align_items": null,
            "align_self": null,
            "border": null,
            "bottom": null,
            "display": null,
            "flex": null,
            "flex_flow": null,
            "grid_area": null,
            "grid_auto_columns": null,
            "grid_auto_flow": null,
            "grid_auto_rows": null,
            "grid_column": null,
            "grid_gap": null,
            "grid_row": null,
            "grid_template_areas": null,
            "grid_template_columns": null,
            "grid_template_rows": null,
            "height": null,
            "justify_content": null,
            "justify_items": null,
            "left": null,
            "margin": null,
            "max_height": null,
            "max_width": null,
            "min_height": null,
            "min_width": null,
            "object_fit": null,
            "object_position": null,
            "order": null,
            "overflow": null,
            "overflow_x": null,
            "overflow_y": null,
            "padding": null,
            "right": null,
            "top": null,
            "visibility": null,
            "width": null
          }
        },
        "d01629e4a1a345ba8dd41d1a0c04a23e": {
          "model_module": "@jupyter-widgets/controls",
          "model_name": "DescriptionStyleModel",
          "model_module_version": "1.5.0",
          "state": {
            "_model_module": "@jupyter-widgets/controls",
            "_model_module_version": "1.5.0",
            "_model_name": "DescriptionStyleModel",
            "_view_count": null,
            "_view_module": "@jupyter-widgets/base",
            "_view_module_version": "1.2.0",
            "_view_name": "StyleView",
            "description_width": ""
          }
        },
        "37589ab9482a487080c04e1769e8b2de": {
          "model_module": "@jupyter-widgets/base",
          "model_name": "LayoutModel",
          "model_module_version": "1.2.0",
          "state": {
            "_model_module": "@jupyter-widgets/base",
            "_model_module_version": "1.2.0",
            "_model_name": "LayoutModel",
            "_view_count": null,
            "_view_module": "@jupyter-widgets/base",
            "_view_module_version": "1.2.0",
            "_view_name": "LayoutView",
            "align_content": null,
            "align_items": null,
            "align_self": null,
            "border": null,
            "bottom": null,
            "display": null,
            "flex": null,
            "flex_flow": null,
            "grid_area": null,
            "grid_auto_columns": null,
            "grid_auto_flow": null,
            "grid_auto_rows": null,
            "grid_column": null,
            "grid_gap": null,
            "grid_row": null,
            "grid_template_areas": null,
            "grid_template_columns": null,
            "grid_template_rows": null,
            "height": null,
            "justify_content": null,
            "justify_items": null,
            "left": null,
            "margin": null,
            "max_height": null,
            "max_width": null,
            "min_height": null,
            "min_width": null,
            "object_fit": null,
            "object_position": null,
            "order": null,
            "overflow": null,
            "overflow_x": null,
            "overflow_y": null,
            "padding": null,
            "right": null,
            "top": null,
            "visibility": null,
            "width": null
          }
        },
        "80382ce6ef0c4e10bda2ce849ec97d1e": {
          "model_module": "@jupyter-widgets/controls",
          "model_name": "ProgressStyleModel",
          "model_module_version": "1.5.0",
          "state": {
            "_model_module": "@jupyter-widgets/controls",
            "_model_module_version": "1.5.0",
            "_model_name": "ProgressStyleModel",
            "_view_count": null,
            "_view_module": "@jupyter-widgets/base",
            "_view_module_version": "1.2.0",
            "_view_name": "StyleView",
            "bar_color": null,
            "description_width": ""
          }
        },
        "a0456f452cf34d61905189f555f2edeb": {
          "model_module": "@jupyter-widgets/base",
          "model_name": "LayoutModel",
          "model_module_version": "1.2.0",
          "state": {
            "_model_module": "@jupyter-widgets/base",
            "_model_module_version": "1.2.0",
            "_model_name": "LayoutModel",
            "_view_count": null,
            "_view_module": "@jupyter-widgets/base",
            "_view_module_version": "1.2.0",
            "_view_name": "LayoutView",
            "align_content": null,
            "align_items": null,
            "align_self": null,
            "border": null,
            "bottom": null,
            "display": null,
            "flex": null,
            "flex_flow": null,
            "grid_area": null,
            "grid_auto_columns": null,
            "grid_auto_flow": null,
            "grid_auto_rows": null,
            "grid_column": null,
            "grid_gap": null,
            "grid_row": null,
            "grid_template_areas": null,
            "grid_template_columns": null,
            "grid_template_rows": null,
            "height": null,
            "justify_content": null,
            "justify_items": null,
            "left": null,
            "margin": null,
            "max_height": null,
            "max_width": null,
            "min_height": null,
            "min_width": null,
            "object_fit": null,
            "object_position": null,
            "order": null,
            "overflow": null,
            "overflow_x": null,
            "overflow_y": null,
            "padding": null,
            "right": null,
            "top": null,
            "visibility": null,
            "width": null
          }
        },
        "0c1aaaa872d94685bc75e980952b71f4": {
          "model_module": "@jupyter-widgets/controls",
          "model_name": "DescriptionStyleModel",
          "model_module_version": "1.5.0",
          "state": {
            "_model_module": "@jupyter-widgets/controls",
            "_model_module_version": "1.5.0",
            "_model_name": "DescriptionStyleModel",
            "_view_count": null,
            "_view_module": "@jupyter-widgets/base",
            "_view_module_version": "1.2.0",
            "_view_name": "StyleView",
            "description_width": ""
          }
        },
        "b538da93778e41f4a2ab9cb3e5607d69": {
          "model_module": "@jupyter-widgets/controls",
          "model_name": "HBoxModel",
          "model_module_version": "1.5.0",
          "state": {
            "_dom_classes": [],
            "_model_module": "@jupyter-widgets/controls",
            "_model_module_version": "1.5.0",
            "_model_name": "HBoxModel",
            "_view_count": null,
            "_view_module": "@jupyter-widgets/controls",
            "_view_module_version": "1.5.0",
            "_view_name": "HBoxView",
            "box_style": "",
            "children": [
              "IPY_MODEL_3ffcb8ad2004467d84d2df859b30851b",
              "IPY_MODEL_93be6615aee44da78fddab74a9c2d7c1",
              "IPY_MODEL_824647714fcd44d88446fc2fc0360025"
            ],
            "layout": "IPY_MODEL_2b5241aab997408ea8a25281d3af8379"
          }
        },
        "3ffcb8ad2004467d84d2df859b30851b": {
          "model_module": "@jupyter-widgets/controls",
          "model_name": "HTMLModel",
          "model_module_version": "1.5.0",
          "state": {
            "_dom_classes": [],
            "_model_module": "@jupyter-widgets/controls",
            "_model_module_version": "1.5.0",
            "_model_name": "HTMLModel",
            "_view_count": null,
            "_view_module": "@jupyter-widgets/controls",
            "_view_module_version": "1.5.0",
            "_view_name": "HTMLView",
            "description": "",
            "description_tooltip": null,
            "layout": "IPY_MODEL_dbe516c005464cf6b1cdec06aae862f5",
            "placeholder": "​",
            "style": "IPY_MODEL_291c07865ef8420e847b8795b451b2c2",
            "value": "pytorch_model.bin: 100%"
          }
        },
        "93be6615aee44da78fddab74a9c2d7c1": {
          "model_module": "@jupyter-widgets/controls",
          "model_name": "FloatProgressModel",
          "model_module_version": "1.5.0",
          "state": {
            "_dom_classes": [],
            "_model_module": "@jupyter-widgets/controls",
            "_model_module_version": "1.5.0",
            "_model_name": "FloatProgressModel",
            "_view_count": null,
            "_view_module": "@jupyter-widgets/controls",
            "_view_module_version": "1.5.0",
            "_view_name": "ProgressView",
            "bar_style": "success",
            "description": "",
            "description_tooltip": null,
            "layout": "IPY_MODEL_76fde55e8dca4cc1af91a438e160c28c",
            "max": 2275329241,
            "min": 0,
            "orientation": "horizontal",
            "style": "IPY_MODEL_8b0f47909d2b4d6dae209aae88fcada4",
            "value": 2275329241
          }
        },
        "824647714fcd44d88446fc2fc0360025": {
          "model_module": "@jupyter-widgets/controls",
          "model_name": "HTMLModel",
          "model_module_version": "1.5.0",
          "state": {
            "_dom_classes": [],
            "_model_module": "@jupyter-widgets/controls",
            "_model_module_version": "1.5.0",
            "_model_name": "HTMLModel",
            "_view_count": null,
            "_view_module": "@jupyter-widgets/controls",
            "_view_module_version": "1.5.0",
            "_view_name": "HTMLView",
            "description": "",
            "description_tooltip": null,
            "layout": "IPY_MODEL_affb8d79ce244590b9316a541182ff3d",
            "placeholder": "​",
            "style": "IPY_MODEL_9bf91a0d78c0414c974fd8290d5e8ba8",
            "value": " 2.28G/2.28G [00:25&lt;00:00, 104MB/s]"
          }
        },
        "2b5241aab997408ea8a25281d3af8379": {
          "model_module": "@jupyter-widgets/base",
          "model_name": "LayoutModel",
          "model_module_version": "1.2.0",
          "state": {
            "_model_module": "@jupyter-widgets/base",
            "_model_module_version": "1.2.0",
            "_model_name": "LayoutModel",
            "_view_count": null,
            "_view_module": "@jupyter-widgets/base",
            "_view_module_version": "1.2.0",
            "_view_name": "LayoutView",
            "align_content": null,
            "align_items": null,
            "align_self": null,
            "border": null,
            "bottom": null,
            "display": null,
            "flex": null,
            "flex_flow": null,
            "grid_area": null,
            "grid_auto_columns": null,
            "grid_auto_flow": null,
            "grid_auto_rows": null,
            "grid_column": null,
            "grid_gap": null,
            "grid_row": null,
            "grid_template_areas": null,
            "grid_template_columns": null,
            "grid_template_rows": null,
            "height": null,
            "justify_content": null,
            "justify_items": null,
            "left": null,
            "margin": null,
            "max_height": null,
            "max_width": null,
            "min_height": null,
            "min_width": null,
            "object_fit": null,
            "object_position": null,
            "order": null,
            "overflow": null,
            "overflow_x": null,
            "overflow_y": null,
            "padding": null,
            "right": null,
            "top": null,
            "visibility": null,
            "width": null
          }
        },
        "dbe516c005464cf6b1cdec06aae862f5": {
          "model_module": "@jupyter-widgets/base",
          "model_name": "LayoutModel",
          "model_module_version": "1.2.0",
          "state": {
            "_model_module": "@jupyter-widgets/base",
            "_model_module_version": "1.2.0",
            "_model_name": "LayoutModel",
            "_view_count": null,
            "_view_module": "@jupyter-widgets/base",
            "_view_module_version": "1.2.0",
            "_view_name": "LayoutView",
            "align_content": null,
            "align_items": null,
            "align_self": null,
            "border": null,
            "bottom": null,
            "display": null,
            "flex": null,
            "flex_flow": null,
            "grid_area": null,
            "grid_auto_columns": null,
            "grid_auto_flow": null,
            "grid_auto_rows": null,
            "grid_column": null,
            "grid_gap": null,
            "grid_row": null,
            "grid_template_areas": null,
            "grid_template_columns": null,
            "grid_template_rows": null,
            "height": null,
            "justify_content": null,
            "justify_items": null,
            "left": null,
            "margin": null,
            "max_height": null,
            "max_width": null,
            "min_height": null,
            "min_width": null,
            "object_fit": null,
            "object_position": null,
            "order": null,
            "overflow": null,
            "overflow_x": null,
            "overflow_y": null,
            "padding": null,
            "right": null,
            "top": null,
            "visibility": null,
            "width": null
          }
        },
        "291c07865ef8420e847b8795b451b2c2": {
          "model_module": "@jupyter-widgets/controls",
          "model_name": "DescriptionStyleModel",
          "model_module_version": "1.5.0",
          "state": {
            "_model_module": "@jupyter-widgets/controls",
            "_model_module_version": "1.5.0",
            "_model_name": "DescriptionStyleModel",
            "_view_count": null,
            "_view_module": "@jupyter-widgets/base",
            "_view_module_version": "1.2.0",
            "_view_name": "StyleView",
            "description_width": ""
          }
        },
        "76fde55e8dca4cc1af91a438e160c28c": {
          "model_module": "@jupyter-widgets/base",
          "model_name": "LayoutModel",
          "model_module_version": "1.2.0",
          "state": {
            "_model_module": "@jupyter-widgets/base",
            "_model_module_version": "1.2.0",
            "_model_name": "LayoutModel",
            "_view_count": null,
            "_view_module": "@jupyter-widgets/base",
            "_view_module_version": "1.2.0",
            "_view_name": "LayoutView",
            "align_content": null,
            "align_items": null,
            "align_self": null,
            "border": null,
            "bottom": null,
            "display": null,
            "flex": null,
            "flex_flow": null,
            "grid_area": null,
            "grid_auto_columns": null,
            "grid_auto_flow": null,
            "grid_auto_rows": null,
            "grid_column": null,
            "grid_gap": null,
            "grid_row": null,
            "grid_template_areas": null,
            "grid_template_columns": null,
            "grid_template_rows": null,
            "height": null,
            "justify_content": null,
            "justify_items": null,
            "left": null,
            "margin": null,
            "max_height": null,
            "max_width": null,
            "min_height": null,
            "min_width": null,
            "object_fit": null,
            "object_position": null,
            "order": null,
            "overflow": null,
            "overflow_x": null,
            "overflow_y": null,
            "padding": null,
            "right": null,
            "top": null,
            "visibility": null,
            "width": null
          }
        },
        "8b0f47909d2b4d6dae209aae88fcada4": {
          "model_module": "@jupyter-widgets/controls",
          "model_name": "ProgressStyleModel",
          "model_module_version": "1.5.0",
          "state": {
            "_model_module": "@jupyter-widgets/controls",
            "_model_module_version": "1.5.0",
            "_model_name": "ProgressStyleModel",
            "_view_count": null,
            "_view_module": "@jupyter-widgets/base",
            "_view_module_version": "1.2.0",
            "_view_name": "StyleView",
            "bar_color": null,
            "description_width": ""
          }
        },
        "affb8d79ce244590b9316a541182ff3d": {
          "model_module": "@jupyter-widgets/base",
          "model_name": "LayoutModel",
          "model_module_version": "1.2.0",
          "state": {
            "_model_module": "@jupyter-widgets/base",
            "_model_module_version": "1.2.0",
            "_model_name": "LayoutModel",
            "_view_count": null,
            "_view_module": "@jupyter-widgets/base",
            "_view_module_version": "1.2.0",
            "_view_name": "LayoutView",
            "align_content": null,
            "align_items": null,
            "align_self": null,
            "border": null,
            "bottom": null,
            "display": null,
            "flex": null,
            "flex_flow": null,
            "grid_area": null,
            "grid_auto_columns": null,
            "grid_auto_flow": null,
            "grid_auto_rows": null,
            "grid_column": null,
            "grid_gap": null,
            "grid_row": null,
            "grid_template_areas": null,
            "grid_template_columns": null,
            "grid_template_rows": null,
            "height": null,
            "justify_content": null,
            "justify_items": null,
            "left": null,
            "margin": null,
            "max_height": null,
            "max_width": null,
            "min_height": null,
            "min_width": null,
            "object_fit": null,
            "object_position": null,
            "order": null,
            "overflow": null,
            "overflow_x": null,
            "overflow_y": null,
            "padding": null,
            "right": null,
            "top": null,
            "visibility": null,
            "width": null
          }
        },
        "9bf91a0d78c0414c974fd8290d5e8ba8": {
          "model_module": "@jupyter-widgets/controls",
          "model_name": "DescriptionStyleModel",
          "model_module_version": "1.5.0",
          "state": {
            "_model_module": "@jupyter-widgets/controls",
            "_model_module_version": "1.5.0",
            "_model_name": "DescriptionStyleModel",
            "_view_count": null,
            "_view_module": "@jupyter-widgets/base",
            "_view_module_version": "1.2.0",
            "_view_name": "StyleView",
            "description_width": ""
          }
        },
        "55c3002f8d4846cb9b64ebf2aafc1880": {
          "model_module": "@jupyter-widgets/controls",
          "model_name": "HBoxModel",
          "model_module_version": "1.5.0",
          "state": {
            "_dom_classes": [],
            "_model_module": "@jupyter-widgets/controls",
            "_model_module_version": "1.5.0",
            "_model_name": "HBoxModel",
            "_view_count": null,
            "_view_module": "@jupyter-widgets/controls",
            "_view_module_version": "1.5.0",
            "_view_name": "HBoxView",
            "box_style": "",
            "children": [
              "IPY_MODEL_f703539aefc34f9c98429d09d5f5df35",
              "IPY_MODEL_42016dbd71f14a59a4136013d8fb6c53",
              "IPY_MODEL_f374b76f86d647aba2a564c3df10a2d0"
            ],
            "layout": "IPY_MODEL_f26e2160edf84f389a15be9f9ba7ad9f"
          }
        },
        "f703539aefc34f9c98429d09d5f5df35": {
          "model_module": "@jupyter-widgets/controls",
          "model_name": "HTMLModel",
          "model_module_version": "1.5.0",
          "state": {
            "_dom_classes": [],
            "_model_module": "@jupyter-widgets/controls",
            "_model_module_version": "1.5.0",
            "_model_name": "HTMLModel",
            "_view_count": null,
            "_view_module": "@jupyter-widgets/controls",
            "_view_module_version": "1.5.0",
            "_view_name": "HTMLView",
            "description": "",
            "description_tooltip": null,
            "layout": "IPY_MODEL_a3c90e7261204a5cade5b082d190ecc6",
            "placeholder": "​",
            "style": "IPY_MODEL_427560518ae740688f616109f1f2a97b",
            "value": "generation_config.json: 100%"
          }
        },
        "42016dbd71f14a59a4136013d8fb6c53": {
          "model_module": "@jupyter-widgets/controls",
          "model_name": "FloatProgressModel",
          "model_module_version": "1.5.0",
          "state": {
            "_dom_classes": [],
            "_model_module": "@jupyter-widgets/controls",
            "_model_module_version": "1.5.0",
            "_model_name": "FloatProgressModel",
            "_view_count": null,
            "_view_module": "@jupyter-widgets/controls",
            "_view_module_version": "1.5.0",
            "_view_name": "ProgressView",
            "bar_style": "success",
            "description": "",
            "description_tooltip": null,
            "layout": "IPY_MODEL_3cbbe06bfbdd44fdbe53f671aa5659e0",
            "max": 259,
            "min": 0,
            "orientation": "horizontal",
            "style": "IPY_MODEL_519b755f125948f7a4f4ecc1d9c2a083",
            "value": 259
          }
        },
        "f374b76f86d647aba2a564c3df10a2d0": {
          "model_module": "@jupyter-widgets/controls",
          "model_name": "HTMLModel",
          "model_module_version": "1.5.0",
          "state": {
            "_dom_classes": [],
            "_model_module": "@jupyter-widgets/controls",
            "_model_module_version": "1.5.0",
            "_model_name": "HTMLModel",
            "_view_count": null,
            "_view_module": "@jupyter-widgets/controls",
            "_view_module_version": "1.5.0",
            "_view_name": "HTMLView",
            "description": "",
            "description_tooltip": null,
            "layout": "IPY_MODEL_701578fc124a4825a4d4e7293a5b3861",
            "placeholder": "​",
            "style": "IPY_MODEL_940013b3d8c74971b2acedbb58b113e0",
            "value": " 259/259 [00:00&lt;00:00, 9.94kB/s]"
          }
        },
        "f26e2160edf84f389a15be9f9ba7ad9f": {
          "model_module": "@jupyter-widgets/base",
          "model_name": "LayoutModel",
          "model_module_version": "1.2.0",
          "state": {
            "_model_module": "@jupyter-widgets/base",
            "_model_module_version": "1.2.0",
            "_model_name": "LayoutModel",
            "_view_count": null,
            "_view_module": "@jupyter-widgets/base",
            "_view_module_version": "1.2.0",
            "_view_name": "LayoutView",
            "align_content": null,
            "align_items": null,
            "align_self": null,
            "border": null,
            "bottom": null,
            "display": null,
            "flex": null,
            "flex_flow": null,
            "grid_area": null,
            "grid_auto_columns": null,
            "grid_auto_flow": null,
            "grid_auto_rows": null,
            "grid_column": null,
            "grid_gap": null,
            "grid_row": null,
            "grid_template_areas": null,
            "grid_template_columns": null,
            "grid_template_rows": null,
            "height": null,
            "justify_content": null,
            "justify_items": null,
            "left": null,
            "margin": null,
            "max_height": null,
            "max_width": null,
            "min_height": null,
            "min_width": null,
            "object_fit": null,
            "object_position": null,
            "order": null,
            "overflow": null,
            "overflow_x": null,
            "overflow_y": null,
            "padding": null,
            "right": null,
            "top": null,
            "visibility": null,
            "width": null
          }
        },
        "a3c90e7261204a5cade5b082d190ecc6": {
          "model_module": "@jupyter-widgets/base",
          "model_name": "LayoutModel",
          "model_module_version": "1.2.0",
          "state": {
            "_model_module": "@jupyter-widgets/base",
            "_model_module_version": "1.2.0",
            "_model_name": "LayoutModel",
            "_view_count": null,
            "_view_module": "@jupyter-widgets/base",
            "_view_module_version": "1.2.0",
            "_view_name": "LayoutView",
            "align_content": null,
            "align_items": null,
            "align_self": null,
            "border": null,
            "bottom": null,
            "display": null,
            "flex": null,
            "flex_flow": null,
            "grid_area": null,
            "grid_auto_columns": null,
            "grid_auto_flow": null,
            "grid_auto_rows": null,
            "grid_column": null,
            "grid_gap": null,
            "grid_row": null,
            "grid_template_areas": null,
            "grid_template_columns": null,
            "grid_template_rows": null,
            "height": null,
            "justify_content": null,
            "justify_items": null,
            "left": null,
            "margin": null,
            "max_height": null,
            "max_width": null,
            "min_height": null,
            "min_width": null,
            "object_fit": null,
            "object_position": null,
            "order": null,
            "overflow": null,
            "overflow_x": null,
            "overflow_y": null,
            "padding": null,
            "right": null,
            "top": null,
            "visibility": null,
            "width": null
          }
        },
        "427560518ae740688f616109f1f2a97b": {
          "model_module": "@jupyter-widgets/controls",
          "model_name": "DescriptionStyleModel",
          "model_module_version": "1.5.0",
          "state": {
            "_model_module": "@jupyter-widgets/controls",
            "_model_module_version": "1.5.0",
            "_model_name": "DescriptionStyleModel",
            "_view_count": null,
            "_view_module": "@jupyter-widgets/base",
            "_view_module_version": "1.2.0",
            "_view_name": "StyleView",
            "description_width": ""
          }
        },
        "3cbbe06bfbdd44fdbe53f671aa5659e0": {
          "model_module": "@jupyter-widgets/base",
          "model_name": "LayoutModel",
          "model_module_version": "1.2.0",
          "state": {
            "_model_module": "@jupyter-widgets/base",
            "_model_module_version": "1.2.0",
            "_model_name": "LayoutModel",
            "_view_count": null,
            "_view_module": "@jupyter-widgets/base",
            "_view_module_version": "1.2.0",
            "_view_name": "LayoutView",
            "align_content": null,
            "align_items": null,
            "align_self": null,
            "border": null,
            "bottom": null,
            "display": null,
            "flex": null,
            "flex_flow": null,
            "grid_area": null,
            "grid_auto_columns": null,
            "grid_auto_flow": null,
            "grid_auto_rows": null,
            "grid_column": null,
            "grid_gap": null,
            "grid_row": null,
            "grid_template_areas": null,
            "grid_template_columns": null,
            "grid_template_rows": null,
            "height": null,
            "justify_content": null,
            "justify_items": null,
            "left": null,
            "margin": null,
            "max_height": null,
            "max_width": null,
            "min_height": null,
            "min_width": null,
            "object_fit": null,
            "object_position": null,
            "order": null,
            "overflow": null,
            "overflow_x": null,
            "overflow_y": null,
            "padding": null,
            "right": null,
            "top": null,
            "visibility": null,
            "width": null
          }
        },
        "519b755f125948f7a4f4ecc1d9c2a083": {
          "model_module": "@jupyter-widgets/controls",
          "model_name": "ProgressStyleModel",
          "model_module_version": "1.5.0",
          "state": {
            "_model_module": "@jupyter-widgets/controls",
            "_model_module_version": "1.5.0",
            "_model_name": "ProgressStyleModel",
            "_view_count": null,
            "_view_module": "@jupyter-widgets/base",
            "_view_module_version": "1.2.0",
            "_view_name": "StyleView",
            "bar_color": null,
            "description_width": ""
          }
        },
        "701578fc124a4825a4d4e7293a5b3861": {
          "model_module": "@jupyter-widgets/base",
          "model_name": "LayoutModel",
          "model_module_version": "1.2.0",
          "state": {
            "_model_module": "@jupyter-widgets/base",
            "_model_module_version": "1.2.0",
            "_model_name": "LayoutModel",
            "_view_count": null,
            "_view_module": "@jupyter-widgets/base",
            "_view_module_version": "1.2.0",
            "_view_name": "LayoutView",
            "align_content": null,
            "align_items": null,
            "align_self": null,
            "border": null,
            "bottom": null,
            "display": null,
            "flex": null,
            "flex_flow": null,
            "grid_area": null,
            "grid_auto_columns": null,
            "grid_auto_flow": null,
            "grid_auto_rows": null,
            "grid_column": null,
            "grid_gap": null,
            "grid_row": null,
            "grid_template_areas": null,
            "grid_template_columns": null,
            "grid_template_rows": null,
            "height": null,
            "justify_content": null,
            "justify_items": null,
            "left": null,
            "margin": null,
            "max_height": null,
            "max_width": null,
            "min_height": null,
            "min_width": null,
            "object_fit": null,
            "object_position": null,
            "order": null,
            "overflow": null,
            "overflow_x": null,
            "overflow_y": null,
            "padding": null,
            "right": null,
            "top": null,
            "visibility": null,
            "width": null
          }
        },
        "940013b3d8c74971b2acedbb58b113e0": {
          "model_module": "@jupyter-widgets/controls",
          "model_name": "DescriptionStyleModel",
          "model_module_version": "1.5.0",
          "state": {
            "_model_module": "@jupyter-widgets/controls",
            "_model_module_version": "1.5.0",
            "_model_name": "DescriptionStyleModel",
            "_view_count": null,
            "_view_module": "@jupyter-widgets/base",
            "_view_module_version": "1.2.0",
            "_view_name": "StyleView",
            "description_width": ""
          }
        }
      }
    }
  },
  "cells": [
    {
      "cell_type": "markdown",
      "source": [
        "#transformers model and huggingface"
      ],
      "metadata": {
        "id": "GlRF59OMq2X8"
      }
    },
    {
      "cell_type": "code",
      "execution_count": null,
      "metadata": {
        "id": "wIufrrfehp3V"
      },
      "outputs": [],
      "source": [
        "from transformers import BartTokenizer, BartForConditionalGeneration"
      ]
    },
    {
      "cell_type": "code",
      "source": [
        "# Load model and tokenizer\n",
        "model = BartForConditionalGeneration.from_pretrained('facebook/bart-large-cnn')\n",
        "tokenizer = BartTokenizer.from_pretrained('facebook/bart-large-cnn')\n"
      ],
      "metadata": {
        "id": "-AfUSZtZO6YK"
      },
      "execution_count": null,
      "outputs": []
    },
    {
      "cell_type": "code",
      "source": [
        "model.to('cuda')"
      ],
      "metadata": {
        "id": "mGsUk0vpuPxq"
      },
      "execution_count": null,
      "outputs": []
    },
    {
      "cell_type": "code",
      "source": [
        "from torch.utils.data import Dataset, DataLoader\n",
        "import pandas as pd\n",
        "import math\n",
        "\n",
        "class TextSummarizationDataset(Dataset):\n",
        "    def __init__(self, dataframe):\n",
        "        self.dataframe = dataframe\n",
        "\n",
        "    def __len__(self):\n",
        "        return len(self.dataframe)\n",
        "\n",
        "    def __getitem__(self, idx):\n",
        "        row = self.dataframe.iloc[idx]\n",
        "        text = \"summarize: \" + row['Description']\n",
        "        title = row['Title']\n",
        "        return text, title\n",
        "\n",
        "\n",
        "\n",
        "def create_data_loader(data_frame, batch_size=256):\n",
        "    dataset = TextSummarizationDataset(data_frame)\n",
        "    return DataLoader(dataset, batch_size=batch_size, shuffle=True)\n"
      ],
      "metadata": {
        "id": "QDyF758YN6_k"
      },
      "execution_count": null,
      "outputs": []
    },
    {
      "cell_type": "code",
      "source": [
        "data_loader = create_data_loader(data_frame_cleaned, 512)\n",
        "\n",
        "for texts, titles in data_loader:\n",
        "    # Compute the lengths for each description in the batch\n",
        "    lengths = [len(text.split()) for text in texts]\n",
        "    max_len = max(lengths)\n",
        "    min_len = max(min(lengths), 500)  # Ensure min_len is at least 500\n",
        "\n",
        "    # Encode the text\n",
        "    inputs = tokenizer(texts, return_tensors=\"pt\", max_length=max_len, padding=\"longest\", truncation=True)\n",
        "    input_x = inputs['input_ids'].cuda()\n",
        "\n",
        "    # Generate summaries\n",
        "    summary_ids = model.generate(input_x, max_length=max_len, min_length=min_len, length_penalty=2.0, num_beams=4, early_stopping=True)\n",
        "    summaries = [tokenizer.decode(g, skip_special_tokens=True) for g in summary_ids]\n",
        "\n",
        "    # Save the output\n",
        "    output_dict['name'].extend(titles)\n",
        "    output_dict['summary'].extend(summaries)\n",
        "\n",
        "    # Save all at once or incrementally\n",
        "    temp_output = pd.DataFrame(output_dict)\n",
        "  temp_output.to_csv(output_path, mode='a', header=not os.path.exists(output_path))  # Append mode\n",
        "\n"
      ],
      "metadata": {
        "colab": {
          "base_uri": "https://localhost:8080/"
        },
        "id": "Vxhw7C8E0GyL",
        "outputId": "6078535b-458d-42f1-b984-c0e0a98db5ad"
      },
      "execution_count": null,
      "outputs": [
        {
          "output_type": "stream",
          "name": "stdout",
          "text": [
            "torch.Size([512, 5353])\n"
          ]
        }
      ]
    },
    {
      "cell_type": "code",
      "source": [
        "def add_summarize(text):\n",
        "  text=str(\"summarize: \" + text)\n",
        "  return text\n",
        "\n",
        "batch_size=4\n",
        "data_numbers=len(data_frame_cleaned)\n",
        "process_num=math.ceil(data_numbers/batch_size)\n",
        "\n",
        "\n",
        "output_path='/content/drive/MyDrive/output_path.csv'\n",
        "output_dict={'name':[],'summary':[]}\n",
        "\n",
        "\n",
        "for i in range(process_num):\n",
        "  #put data in a batch\n",
        "  texts=list(data_frame_cleaned.iloc[batch_size*i:(i+1)*batch_size]['Description'].apply(add_summarize))\n",
        "\n",
        "  #set min length of summary\n",
        "  maxs=max(list(data_frame_cleaned.iloc[batch_size*i:(i+1)*batch_size]['len_of_Description']))\n",
        "  mins=min(list(data_frame_cleaned.iloc[batch_size*i:(i+1)*batch_size]['len_of_Description']))\n",
        "  min_len=min(500,int(0.5*mins))\n",
        "\n",
        "\n",
        "  # Encode the text and generate summary\n",
        "  inputs = tokenizer(texts, return_tensors=\"pt\", max_length=maxs, padding=\"longest\", truncation=True)\n",
        "  #inputs = {k: v.cuda() for k, v in inputs.items()}\n",
        "\n",
        "\n",
        "\n",
        "\n",
        "  # # Generate summaries\n",
        "  summary_ids = model.generate(**inputs, max_length=maxs, min_length=min_len, length_penalty=2.0, num_beams=4, early_stopping=True)\n",
        "  summaries = [tokenizer.decode(g, skip_special_tokens=True) for g in summary_ids]\n",
        "\n",
        "  #save the output\n",
        "  output_dict['name'].extend(list(data_frame_cleaned.iloc[batch_size*i:(i+1)*batch_size]['Title']))\n",
        "  output_dict['summary'].extend(summaries)\n",
        "  temp_output=pd.DataFrame(output_dict)\n",
        "  temp_output.to_csv(output_path)\n",
        "\n",
        "\n"
      ],
      "metadata": {
        "id": "uB84MhyddK_B"
      },
      "execution_count": null,
      "outputs": []
    },
    {
      "cell_type": "code",
      "source": [
        "import pandas as pd\n",
        "#read .txt file and convert it to dataframe\n",
        "file_path='/content/drive/MyDrive/booksummaries.txt'\n",
        "fields=['ID', 'Tag', 'Title', 'Author', 'Year', 'Genre', 'Description']\n",
        "data_frame = pd.read_csv(file_path, sep='\\t', header=None, names=fields)\n",
        "#cleaning data frame from missing value:\n",
        "data_frame_cleaned = data_frame.dropna(axis=1)\n",
        "#remove some Description that has small number of characters and their Description is missing\n",
        "data_frame_cleaned['len_of_Description']=data_frame_cleaned['Description'].apply(len)\n",
        "data_frame_cleaned=data_frame_cleaned[data_frame_cleaned['len_of_Description']>100]\n",
        "data_frame_cleaned=data_frame_cleaned.sort_values(by=['len_of_Description'], ascending=True)"
      ],
      "metadata": {
        "id": "d3elZvV-uwP1"
      },
      "execution_count": null,
      "outputs": []
    },
    {
      "cell_type": "code",
      "source": [
        "inputs=inputs.cuda()\n",
        "inputs.is_cuda"
      ],
      "metadata": {
        "id": "cREZ-W0T_a1t"
      },
      "execution_count": null,
      "outputs": []
    },
    {
      "cell_type": "code",
      "source": [
        "summary_ids = model.generate(inputs.cuda(), max_length=1024, min_length=min_len, length_penalty=2.0, num_beams=4, early_stopping=True)\n",
        "summary = tokenizer.decode(summary_ids[0], skip_special_tokens=True)\n",
        "\n",
        "print(summary)"
      ],
      "metadata": {
        "id": "A5cx0xjZwprI"
      },
      "execution_count": null,
      "outputs": []
    },
    {
      "cell_type": "markdown",
      "source": [
        "#preprocess"
      ],
      "metadata": {
        "id": "NKKFAVSGrZcF"
      }
    },
    {
      "cell_type": "code",
      "source": [
        "!pip install langdetect"
      ],
      "metadata": {
        "id": "G0PBJ7WNqMfm"
      },
      "execution_count": null,
      "outputs": []
    },
    {
      "cell_type": "code",
      "source": [
        "from langdetect import detect, DetectorFactory\n",
        "import nltk\n",
        "from nltk.tokenize import sent_tokenize, word_tokenize\n",
        "nltk.download('punkt')\n",
        "import langdetect"
      ],
      "metadata": {
        "colab": {
          "base_uri": "https://localhost:8080/"
        },
        "id": "7LoQbFYgqIXb",
        "outputId": "387a2e7e-6455-4e93-b9be-8a80b6b933d8"
      },
      "execution_count": null,
      "outputs": [
        {
          "output_type": "stream",
          "name": "stderr",
          "text": [
            "[nltk_data] Downloading package punkt to /root/nltk_data...\n",
            "[nltk_data]   Package punkt is already up-to-date!\n"
          ]
        }
      ]
    },
    {
      "cell_type": "code",
      "source": [
        "# Set seed to make results reproducible\n",
        "DetectorFactory.seed = 0\n",
        "\n",
        "def detect_language(text):\n",
        "    try:\n",
        "        return langdetect.detect(text)\n",
        "    except langdetect.lang_detect_exception.LangDetectException:\n",
        "        return None\n",
        "\n",
        "def find_non_english_sentences(text):\n",
        "    sentences = sent_tokenize(text)\n",
        "    non_english_sentences = [sentence for sentence in sentences if detect_language(sentence) != 'en']\n",
        "    return non_english_sentences\n",
        "\n",
        "\n",
        "\n",
        "\n",
        "def find_non_english_words(text):\n",
        "    words = word_tokenize(text)\n",
        "    non_english_words = [word for word in words if detect_language(word) != 'en' and len(word) > 1]\n",
        "    return non_english_words\n",
        "\n",
        "\n",
        "# Example Usage\n",
        "sample_text = data_frame_cleaned.iloc[16514]['Description']\n",
        "non_english_sentences = find_non_english_sentences(sample_text)\n",
        "non_english_words = find_non_english_words(sample_text)\n",
        "\n",
        "print(\"Non-English Sentences found:\", non_english_sentences)\n",
        "print(\"Non-English Words found:\", non_english_words)\n",
        "\n"
      ],
      "metadata": {
        "id": "j23AytJRo_3A"
      },
      "execution_count": null,
      "outputs": []
    },
    {
      "cell_type": "code",
      "source": [
        "!pip install spacy-langdetect"
      ],
      "metadata": {
        "id": "DLt52JDocw1G"
      },
      "execution_count": null,
      "outputs": []
    },
    {
      "cell_type": "code",
      "source": [
        "import re\n",
        "import nltk\n",
        "import string\n",
        "\n",
        "def preprocess_text(text):\n",
        "\n",
        "  #url\n",
        "  url_pattern = r'https?://\\S+|www\\.\\S+'\n",
        "  text = re.sub(url_pattern, '', text)\n",
        "  #special char\n",
        "  text=re.sub(r'[^\\w\\s]','',text)\n",
        "\n",
        "  return text"
      ],
      "metadata": {
        "id": "Sq7T0NG73vxc"
      },
      "execution_count": null,
      "outputs": []
    },
    {
      "cell_type": "code",
      "source": [
        "temp=data_frame_cleaned[data_frame_cleaned['Description'].apply(lambda x: bool(re.search(r'[^\\x00-\\x7F]+', x)))]"
      ],
      "metadata": {
        "id": "Oe__T1bl_fzR"
      },
      "execution_count": null,
      "outputs": []
    },
    {
      "cell_type": "markdown",
      "source": [
        "#text2image"
      ],
      "metadata": {
        "id": "fraLrTDEri87"
      }
    },
    {
      "cell_type": "code",
      "source": [
        "import cv2\n",
        "import math\n",
        "import nltk\n",
        "import numpy as np\n",
        "nltk.download('punkt')\n",
        "from nltk.tokenize import word_tokenize, sent_tokenize\n",
        "import  matplotlib.pyplot as plt"
      ],
      "metadata": {
        "colab": {
          "base_uri": "https://localhost:8080/"
        },
        "id": "PSw7G6_h1Pce",
        "outputId": "7022b39a-10d4-40ee-fcff-8f9e6ce0e217"
      },
      "execution_count": null,
      "outputs": [
        {
          "output_type": "stream",
          "name": "stderr",
          "text": [
            "[nltk_data] Downloading package punkt to /root/nltk_data...\n",
            "[nltk_data]   Package punkt is already up-to-date!\n"
          ]
        }
      ]
    },
    {
      "cell_type": "code",
      "source": [
        "def text2image(text='',word_per_line=20,pixel_per_word=200,h_padding=100,v_padding=150,img_path=''):\n",
        "\n",
        "    words=word_tokenize(data)\n",
        "    number_of_line=math.ceil(len(words)/word_per_line)\n",
        "\n",
        "    raw_image=np.ones(((v_padding*(number_of_line+1),(pixel_per_word*word_per_line)+(1*h_padding))))*255\n",
        "\n",
        "    font = cv2.FONT_HERSHEY_SIMPLEX\n",
        "    fontScale = 2\n",
        "    color = 0\n",
        "    thickness = 2\n",
        "\n",
        "    for i in range(number_of_line):\n",
        "      temp_text=words[i*word_per_line]\n",
        "      for x in words[(i*word_per_line)+1:(i+1)*word_per_line]:\n",
        "         temp_text+=(' '+x)\n",
        "      raw_image= cv2.putText(raw_image, temp_text, (h_padding,v_padding*(i+1)), font,fontScale, color, thickness, cv2.LINE_AA)\n",
        "\n",
        "    cv2.imwrite(img_path,raw_image)\n",
        "\n"
      ],
      "metadata": {
        "id": "OY43EvY3UVSy"
      },
      "execution_count": null,
      "outputs": []
    },
    {
      "cell_type": "code",
      "source": [
        " text2image(text=data,word_per_line=20,pixel_per_word=200,h_padding=100,v_padding=100,img_path='/content/img.png')"
      ],
      "metadata": {
        "id": "M-twdkiNavfD"
      },
      "execution_count": null,
      "outputs": []
    },
    {
      "cell_type": "markdown",
      "source": [
        "#EXTRACTIVE APPROACHES"
      ],
      "metadata": {
        "id": "y-CZ9GZvHPV0"
      }
    },
    {
      "cell_type": "code",
      "source": [
        "import pandas as pd\n",
        "#read .txt file and convert it to dataframe\n",
        "file_path='/content/drive/MyDrive/booksummaries.txt'\n",
        "fields=['ID', 'Tag', 'Title', 'Author', 'Year', 'Genre', 'Description']\n",
        "data_frame = pd.read_csv(file_path, sep='\\t', header=None, names=fields)\n",
        "#cleaning data frame from missing value:\n",
        "data_frame_cleaned = data_frame.dropna(axis=1)\n",
        "#remove some Description that has small number of characters and their Description is missing\n",
        "data_frame_cleaned['len_of_Description']=data_frame_cleaned['Description'].apply(len)\n",
        "data_frame_cleaned=data_frame_cleaned[data_frame_cleaned['len_of_Description']>250]\n",
        "#sort Description baseed on len_of_Description parameter\n",
        "#data_frame_cleaned=data_frame_cleaned.sort_values(by=['len_of_Description'], ascending=True)"
      ],
      "metadata": {
        "id": "UhU5M-jSHRuF",
        "colab": {
          "base_uri": "https://localhost:8080/"
        },
        "outputId": "928193f1-3633-4a0f-ded3-97aa2499c88e"
      },
      "execution_count": null,
      "outputs": [
        {
          "output_type": "stream",
          "name": "stderr",
          "text": [
            "<ipython-input-1-bcd71ae77517>:9: SettingWithCopyWarning: \n",
            "A value is trying to be set on a copy of a slice from a DataFrame.\n",
            "Try using .loc[row_indexer,col_indexer] = value instead\n",
            "\n",
            "See the caveats in the documentation: https://pandas.pydata.org/pandas-docs/stable/user_guide/indexing.html#returning-a-view-versus-a-copy\n",
            "  data_frame_cleaned['len_of_Description']=data_frame_cleaned['Description'].apply(len)\n"
          ]
        }
      ]
    },
    {
      "cell_type": "code",
      "source": [
        "data_frame_cleaned.head()"
      ],
      "metadata": {
        "id": "Tk-MSDuyHwKV",
        "colab": {
          "base_uri": "https://localhost:8080/",
          "height": 206
        },
        "outputId": "9025e935-2f57-4145-cab1-3807266cd76f"
      },
      "execution_count": null,
      "outputs": [
        {
          "output_type": "execute_result",
          "data": {
            "text/plain": [
              "     ID      Tag                                      Title  \\\n",
              "0   620  /m/0hhy                                Animal Farm   \n",
              "1   843  /m/0k36                         A Clockwork Orange   \n",
              "2   986  /m/0ldx                                 The Plague   \n",
              "3  1756  /m/0sww  An Enquiry Concerning Human Understanding   \n",
              "4  2080  /m/0wkt                       A Fire Upon the Deep   \n",
              "\n",
              "                                         Description  len_of_Description  \n",
              "0   Old Major, the old boar on the Manor Farm, ca...                5812  \n",
              "1   Alex, a teenager living in near-future Englan...                6121  \n",
              "2   The text of The Plague is divided into five p...                6642  \n",
              "3   The argument of the Enquiry proceeds by a ser...               17134  \n",
              "4   The novel posits that space around the Milky ...                4493  "
            ],
            "text/html": [
              "\n",
              "  <div id=\"df-2e7fe0c6-5f13-42de-9379-878546749f73\" class=\"colab-df-container\">\n",
              "    <div>\n",
              "<style scoped>\n",
              "    .dataframe tbody tr th:only-of-type {\n",
              "        vertical-align: middle;\n",
              "    }\n",
              "\n",
              "    .dataframe tbody tr th {\n",
              "        vertical-align: top;\n",
              "    }\n",
              "\n",
              "    .dataframe thead th {\n",
              "        text-align: right;\n",
              "    }\n",
              "</style>\n",
              "<table border=\"1\" class=\"dataframe\">\n",
              "  <thead>\n",
              "    <tr style=\"text-align: right;\">\n",
              "      <th></th>\n",
              "      <th>ID</th>\n",
              "      <th>Tag</th>\n",
              "      <th>Title</th>\n",
              "      <th>Description</th>\n",
              "      <th>len_of_Description</th>\n",
              "    </tr>\n",
              "  </thead>\n",
              "  <tbody>\n",
              "    <tr>\n",
              "      <th>0</th>\n",
              "      <td>620</td>\n",
              "      <td>/m/0hhy</td>\n",
              "      <td>Animal Farm</td>\n",
              "      <td>Old Major, the old boar on the Manor Farm, ca...</td>\n",
              "      <td>5812</td>\n",
              "    </tr>\n",
              "    <tr>\n",
              "      <th>1</th>\n",
              "      <td>843</td>\n",
              "      <td>/m/0k36</td>\n",
              "      <td>A Clockwork Orange</td>\n",
              "      <td>Alex, a teenager living in near-future Englan...</td>\n",
              "      <td>6121</td>\n",
              "    </tr>\n",
              "    <tr>\n",
              "      <th>2</th>\n",
              "      <td>986</td>\n",
              "      <td>/m/0ldx</td>\n",
              "      <td>The Plague</td>\n",
              "      <td>The text of The Plague is divided into five p...</td>\n",
              "      <td>6642</td>\n",
              "    </tr>\n",
              "    <tr>\n",
              "      <th>3</th>\n",
              "      <td>1756</td>\n",
              "      <td>/m/0sww</td>\n",
              "      <td>An Enquiry Concerning Human Understanding</td>\n",
              "      <td>The argument of the Enquiry proceeds by a ser...</td>\n",
              "      <td>17134</td>\n",
              "    </tr>\n",
              "    <tr>\n",
              "      <th>4</th>\n",
              "      <td>2080</td>\n",
              "      <td>/m/0wkt</td>\n",
              "      <td>A Fire Upon the Deep</td>\n",
              "      <td>The novel posits that space around the Milky ...</td>\n",
              "      <td>4493</td>\n",
              "    </tr>\n",
              "  </tbody>\n",
              "</table>\n",
              "</div>\n",
              "    <div class=\"colab-df-buttons\">\n",
              "\n",
              "  <div class=\"colab-df-container\">\n",
              "    <button class=\"colab-df-convert\" onclick=\"convertToInteractive('df-2e7fe0c6-5f13-42de-9379-878546749f73')\"\n",
              "            title=\"Convert this dataframe to an interactive table.\"\n",
              "            style=\"display:none;\">\n",
              "\n",
              "  <svg xmlns=\"http://www.w3.org/2000/svg\" height=\"24px\" viewBox=\"0 -960 960 960\">\n",
              "    <path d=\"M120-120v-720h720v720H120Zm60-500h600v-160H180v160Zm220 220h160v-160H400v160Zm0 220h160v-160H400v160ZM180-400h160v-160H180v160Zm440 0h160v-160H620v160ZM180-180h160v-160H180v160Zm440 0h160v-160H620v160Z\"/>\n",
              "  </svg>\n",
              "    </button>\n",
              "\n",
              "  <style>\n",
              "    .colab-df-container {\n",
              "      display:flex;\n",
              "      gap: 12px;\n",
              "    }\n",
              "\n",
              "    .colab-df-convert {\n",
              "      background-color: #E8F0FE;\n",
              "      border: none;\n",
              "      border-radius: 50%;\n",
              "      cursor: pointer;\n",
              "      display: none;\n",
              "      fill: #1967D2;\n",
              "      height: 32px;\n",
              "      padding: 0 0 0 0;\n",
              "      width: 32px;\n",
              "    }\n",
              "\n",
              "    .colab-df-convert:hover {\n",
              "      background-color: #E2EBFA;\n",
              "      box-shadow: 0px 1px 2px rgba(60, 64, 67, 0.3), 0px 1px 3px 1px rgba(60, 64, 67, 0.15);\n",
              "      fill: #174EA6;\n",
              "    }\n",
              "\n",
              "    .colab-df-buttons div {\n",
              "      margin-bottom: 4px;\n",
              "    }\n",
              "\n",
              "    [theme=dark] .colab-df-convert {\n",
              "      background-color: #3B4455;\n",
              "      fill: #D2E3FC;\n",
              "    }\n",
              "\n",
              "    [theme=dark] .colab-df-convert:hover {\n",
              "      background-color: #434B5C;\n",
              "      box-shadow: 0px 1px 3px 1px rgba(0, 0, 0, 0.15);\n",
              "      filter: drop-shadow(0px 1px 2px rgba(0, 0, 0, 0.3));\n",
              "      fill: #FFFFFF;\n",
              "    }\n",
              "  </style>\n",
              "\n",
              "    <script>\n",
              "      const buttonEl =\n",
              "        document.querySelector('#df-2e7fe0c6-5f13-42de-9379-878546749f73 button.colab-df-convert');\n",
              "      buttonEl.style.display =\n",
              "        google.colab.kernel.accessAllowed ? 'block' : 'none';\n",
              "\n",
              "      async function convertToInteractive(key) {\n",
              "        const element = document.querySelector('#df-2e7fe0c6-5f13-42de-9379-878546749f73');\n",
              "        const dataTable =\n",
              "          await google.colab.kernel.invokeFunction('convertToInteractive',\n",
              "                                                    [key], {});\n",
              "        if (!dataTable) return;\n",
              "\n",
              "        const docLinkHtml = 'Like what you see? Visit the ' +\n",
              "          '<a target=\"_blank\" href=https://colab.research.google.com/notebooks/data_table.ipynb>data table notebook</a>'\n",
              "          + ' to learn more about interactive tables.';\n",
              "        element.innerHTML = '';\n",
              "        dataTable['output_type'] = 'display_data';\n",
              "        await google.colab.output.renderOutput(dataTable, element);\n",
              "        const docLink = document.createElement('div');\n",
              "        docLink.innerHTML = docLinkHtml;\n",
              "        element.appendChild(docLink);\n",
              "      }\n",
              "    </script>\n",
              "  </div>\n",
              "\n",
              "\n",
              "<div id=\"df-153d6363-c69f-477a-896e-b78394ee4cbe\">\n",
              "  <button class=\"colab-df-quickchart\" onclick=\"quickchart('df-153d6363-c69f-477a-896e-b78394ee4cbe')\"\n",
              "            title=\"Suggest charts\"\n",
              "            style=\"display:none;\">\n",
              "\n",
              "<svg xmlns=\"http://www.w3.org/2000/svg\" height=\"24px\"viewBox=\"0 0 24 24\"\n",
              "     width=\"24px\">\n",
              "    <g>\n",
              "        <path d=\"M19 3H5c-1.1 0-2 .9-2 2v14c0 1.1.9 2 2 2h14c1.1 0 2-.9 2-2V5c0-1.1-.9-2-2-2zM9 17H7v-7h2v7zm4 0h-2V7h2v10zm4 0h-2v-4h2v4z\"/>\n",
              "    </g>\n",
              "</svg>\n",
              "  </button>\n",
              "\n",
              "<style>\n",
              "  .colab-df-quickchart {\n",
              "      --bg-color: #E8F0FE;\n",
              "      --fill-color: #1967D2;\n",
              "      --hover-bg-color: #E2EBFA;\n",
              "      --hover-fill-color: #174EA6;\n",
              "      --disabled-fill-color: #AAA;\n",
              "      --disabled-bg-color: #DDD;\n",
              "  }\n",
              "\n",
              "  [theme=dark] .colab-df-quickchart {\n",
              "      --bg-color: #3B4455;\n",
              "      --fill-color: #D2E3FC;\n",
              "      --hover-bg-color: #434B5C;\n",
              "      --hover-fill-color: #FFFFFF;\n",
              "      --disabled-bg-color: #3B4455;\n",
              "      --disabled-fill-color: #666;\n",
              "  }\n",
              "\n",
              "  .colab-df-quickchart {\n",
              "    background-color: var(--bg-color);\n",
              "    border: none;\n",
              "    border-radius: 50%;\n",
              "    cursor: pointer;\n",
              "    display: none;\n",
              "    fill: var(--fill-color);\n",
              "    height: 32px;\n",
              "    padding: 0;\n",
              "    width: 32px;\n",
              "  }\n",
              "\n",
              "  .colab-df-quickchart:hover {\n",
              "    background-color: var(--hover-bg-color);\n",
              "    box-shadow: 0 1px 2px rgba(60, 64, 67, 0.3), 0 1px 3px 1px rgba(60, 64, 67, 0.15);\n",
              "    fill: var(--button-hover-fill-color);\n",
              "  }\n",
              "\n",
              "  .colab-df-quickchart-complete:disabled,\n",
              "  .colab-df-quickchart-complete:disabled:hover {\n",
              "    background-color: var(--disabled-bg-color);\n",
              "    fill: var(--disabled-fill-color);\n",
              "    box-shadow: none;\n",
              "  }\n",
              "\n",
              "  .colab-df-spinner {\n",
              "    border: 2px solid var(--fill-color);\n",
              "    border-color: transparent;\n",
              "    border-bottom-color: var(--fill-color);\n",
              "    animation:\n",
              "      spin 1s steps(1) infinite;\n",
              "  }\n",
              "\n",
              "  @keyframes spin {\n",
              "    0% {\n",
              "      border-color: transparent;\n",
              "      border-bottom-color: var(--fill-color);\n",
              "      border-left-color: var(--fill-color);\n",
              "    }\n",
              "    20% {\n",
              "      border-color: transparent;\n",
              "      border-left-color: var(--fill-color);\n",
              "      border-top-color: var(--fill-color);\n",
              "    }\n",
              "    30% {\n",
              "      border-color: transparent;\n",
              "      border-left-color: var(--fill-color);\n",
              "      border-top-color: var(--fill-color);\n",
              "      border-right-color: var(--fill-color);\n",
              "    }\n",
              "    40% {\n",
              "      border-color: transparent;\n",
              "      border-right-color: var(--fill-color);\n",
              "      border-top-color: var(--fill-color);\n",
              "    }\n",
              "    60% {\n",
              "      border-color: transparent;\n",
              "      border-right-color: var(--fill-color);\n",
              "    }\n",
              "    80% {\n",
              "      border-color: transparent;\n",
              "      border-right-color: var(--fill-color);\n",
              "      border-bottom-color: var(--fill-color);\n",
              "    }\n",
              "    90% {\n",
              "      border-color: transparent;\n",
              "      border-bottom-color: var(--fill-color);\n",
              "    }\n",
              "  }\n",
              "</style>\n",
              "\n",
              "  <script>\n",
              "    async function quickchart(key) {\n",
              "      const quickchartButtonEl =\n",
              "        document.querySelector('#' + key + ' button');\n",
              "      quickchartButtonEl.disabled = true;  // To prevent multiple clicks.\n",
              "      quickchartButtonEl.classList.add('colab-df-spinner');\n",
              "      try {\n",
              "        const charts = await google.colab.kernel.invokeFunction(\n",
              "            'suggestCharts', [key], {});\n",
              "      } catch (error) {\n",
              "        console.error('Error during call to suggestCharts:', error);\n",
              "      }\n",
              "      quickchartButtonEl.classList.remove('colab-df-spinner');\n",
              "      quickchartButtonEl.classList.add('colab-df-quickchart-complete');\n",
              "    }\n",
              "    (() => {\n",
              "      let quickchartButtonEl =\n",
              "        document.querySelector('#df-153d6363-c69f-477a-896e-b78394ee4cbe button');\n",
              "      quickchartButtonEl.style.display =\n",
              "        google.colab.kernel.accessAllowed ? 'block' : 'none';\n",
              "    })();\n",
              "  </script>\n",
              "</div>\n",
              "    </div>\n",
              "  </div>\n"
            ],
            "application/vnd.google.colaboratory.intrinsic+json": {
              "type": "dataframe",
              "variable_name": "data_frame_cleaned",
              "summary": "{\n  \"name\": \"data_frame_cleaned\",\n  \"rows\": 15761,\n  \"fields\": [\n    {\n      \"column\": \"ID\",\n      \"properties\": {\n        \"dtype\": \"number\",\n        \"std\": 9541209,\n        \"min\": 620,\n        \"max\": 37159503,\n        \"num_unique_values\": 15761,\n        \"samples\": [\n          2916601,\n          5426648,\n          20684325\n        ],\n        \"semantic_type\": \"\",\n        \"description\": \"\"\n      }\n    },\n    {\n      \"column\": \"Tag\",\n      \"properties\": {\n        \"dtype\": \"string\",\n        \"num_unique_values\": 15761,\n        \"samples\": [\n          \"/m/08cdf8\",\n          \"/m/0dld10\",\n          \"/m/051y196\"\n        ],\n        \"semantic_type\": \"\",\n        \"description\": \"\"\n      }\n    },\n    {\n      \"column\": \"Title\",\n      \"properties\": {\n        \"dtype\": \"string\",\n        \"num_unique_values\": 15499,\n        \"samples\": [\n          \"The God Engines\",\n          \"Nightjohn\",\n          \"Azincourt\"\n        ],\n        \"semantic_type\": \"\",\n        \"description\": \"\"\n      }\n    },\n    {\n      \"column\": \"Description\",\n      \"properties\": {\n        \"dtype\": \"string\",\n        \"num_unique_values\": 15761,\n        \"samples\": [\n          \" In County Durham, the 1984-85 coal miners' strike is just beginning (\\\"The Stars Look Down\\\"). Motherless eleven-year-old Billy is required to stay behind after his boxing class and finds his way into a ballet class run by Mrs. Wilkinson. He is the only boy, but becomes attracted to the grace of the dance (\\\"Shine\\\"). The secret is at first easily kept, as the only person home at the time is his grandmother. She reveals her abusive relationship with her dead husband and that she too loved to dance, which made everything all right (\\\"Grandma's song\\\"). While his brother, father, and neighbours are on strike and clash with riot police, Billy continues to take dance lessons, keeping it a secret from his family (\\\"Solidarity\\\"), a number which intersperses the violent reality of the strike with the peaceful practise of ballet. Eventually, Mr. Elliot discovers Billy in the ballet class and forbids him from attending the lessons. Mrs. Wilkinson, who recognizes Billy's talent, privately suggests that he should audition for the Royal Ballet School in London. To prepare for the audition, she offers free private lessons. Billy is not sure what he wants to do so he visits his best friend Michael for advice. He finds Michael wearing a dress. He persuades Billy to have fun with him by dressing up in woman's clothing and disdaining the restrictive inhibitions of their working class community (\\\"Expressing Yourself\\\"). Billy arrives for his first private ballet lesson bringing with him things to inspire a special dance for the audition (\\\"Dear Billy (Mum's Letter)\\\"). He begins learning from and bonding with Mrs. Wilkinson while he develops an impressive routine for his audition (\\\"Born to Boogie\\\"). Mrs. Wilkinson's daughter Debbie tries to discourage Billy because she has a crush on him. Meanwhile, Billy's father and brother Tony are engaged in daily battles with riot police that often turn bloody. They struggle to support the family with very little in strike and union pay, a difficult task that goes on for nearly a year. When the day of the Royal Ballet School audition comes, police are coming through the village and Tony has been injured by the police. Because Billy had not come to the miner's hall to get picked up by Mrs. Wilkinson for the audition, she goes to the Elliot home. There, Billy's family and some members of the community have gathered. She is forced to reveal that she has been teaching Billy ballet in preparation for this very day. This news upsets Billy\\u2019s father and Tony, who gets in an argument with Mrs. Wilkinson. Tony tries to force Billy to dance on the table in front of everyone. The police approach and, as everyone escapes, Billy calls out to his father saying that his mother would have let him dance, but his father refuses to accept that, saying that, \\\"Your Mam's dead!\\\". Billy goes into a rage (\\\"Angry Dance\\\"), and for nearly a year, stays away from anything related to ballet. Six months later at the miner's annual Christmas show, the children put on a show disparaging Prime Minister Margaret Thatcher, who is seen as the antagonist by the coal miners (\\\"Merry Christmas, Maggie Thatcher\\\"). Billy's father gets drunk and sings an old folk song that elicits memories of his deceased wife and the usually stoic man leaves in tears (\\\"Deep Into the Ground\\\"). Left alone with Billy in the Community Centre, Michael reveals he has feelings for him, but Billy explains that the fact that he likes ballet does not mean that he is gay. Michael gives him a kiss on the cheek. Michael tries to get Billy to show him some dancing, but Billy is sad and just tells him to leave. Michael departs, but leaves a music player running. Billy feels like dancing for the first time since the day of the aborted audition and dances while dreaming of being a grown-up dancer (\\\"Swan Lake\\\"). Unknown to Billy, his father arrives and watches him dance. Overcome with emotion, his father goes to Mrs. Wilkinson\\u2019s house to discuss Billy\\u2019s prospects as a dancer. She confirms Billy's talent, but is not sure whether or not he would get into the Royal Ballet School. Mrs. Wilkinson offers to help pay for the trip to London for the audition, but Mr. Elliot refuses. He leaves questioning his working-class pride and the future mining has for his boys. Mr. Elliot decides the only way to help Billy is to return to work. When Tony sees his father cross the picket line, he becomes infuriated and the two argue over what is more important: unity of the miners or helping Billy achieve his dream (\\\"He Could Be A Star\\\"). The argument eventually comes to blows and Billy is hit accidentally. One of the miners chastises them for fighting and says that the important thing is looking after the child. One by one, the miners give money to help pay for the trip to the audition, but Billy still does not have enough for the bus fare to London. A strike-breaker arrives and offers him hundreds of pounds. An enraged Tony attempts to shun his donation, but no one else speaks up in his support. Now drained of hope, Tony dismally ponders whether there's a point for anything anymore, and runs off. Billy and his father arrive at the Royal Ballet School for the audition. While Mr. Elliot waits outside, an upper-crust Londoner highlights the contrast between the Elliots and the families of the other applicants. Mr. Elliot meets a dancer with a thick Northern accent. The dancer confesses that his father does not support his ballet career. He sharply advises Mr. Elliot to \\\"get behind\\\" his boy. Billy nervously finishes the audition with a sinking feeling that he did not do well. As he packs his gear, he lets that emotion overwhelm him and he punches another dancer who was trying to comfort him. The audition committee reminds Billy of the strict standards of the school. They have received an enthusiastic letter from Mrs. Wilkinson explaining Billy's background and situation, and they ask him to describe what it feels like when he dances. Billy responds with a heartfelt declaration of his passion (\\\"Electricity\\\"). Back in Durham, the Elliots resume life, but times are tough and the miners are running a soup kitchen to ensure everyone is fed. Eventually, Billy receives a letter from the school and, overwhelmed and fearful, knowing that it heralds the end of the life he has known, informs his family that he wasn't accepted. Tony retrieves the letter from the waste bin and discovers that his brother was accepted. At the same time, the miners' union has caved in; they lost the strike. Billy visits Mrs. Wilkinson at the dance class to thank her for everything she did to help him. Debbie is sad that Billy will be leaving. Billy packs his things for the trip to the school and says goodbye to the miners who are returning to work (\\\"Once We Were Kings\\\"). Billy says goodbye to his dead mother, who often visits him in his imagination (\\\"Dear Billy (Billy's Reply)\\\"). Michael arrives to say goodbye and Billy gives him a kiss on the cheek. Billy takes his suitcase and walks out to his future alone. The entire cast comes out on stage and calls Billy back to celebrate the bright future ahead of him (\\\"Finale\\\").\",\n          \" The Drell Imnulate is a powerful object lost somewhere on the Polar Express, a powerful train traversing the hostile world of 'Tempest'. Factions on the train want to the Imnulate and are willing to kill innocent people to get to it. It is up to Bernice to save the day.\",\n          \" The satirical comedy focuses on the effect talking pictures have on the entertainment industry. When the New York City vaudevillean team of Jerry Hyland, May Daniels, and George Lewis find themselves in a faltering vaudeville act, they decide to head west and present themselves as elocution experts in the hope someone will hire them to train actors unaccustomed to speaking on screen. On the train they meet gossip columnist Helen Hobart, who introduces them to megalomaniac film mogul Herman Glogauer when they arrive in Hollywood. The trio's misadventures include encounters with Lawrence Vail, a New York City playwright driven to distraction and eventually a sanatorium by studio bureaucracy and a lack of work to keep him busy; silent screen beauties Phyllis Fontaine and Florabel Leigh, whose voices sound like nails on a blackboard; two pages in 18th century dress who periodically arrive carrying placards with announcements about Glogauer's latest doings; a ditzy receptionist who wears an evening gown to work; and aspiring actress (and proverbial dumb blonde) Susan Walker and her chaperoning stage mother. Dimwitted George becomes a director who shoots the wrong script, forgets to turn on the soundstage lights, and audibly cracks nuts during filming, yet his movie is called a masterpiece and he's declared a genius by trend-conscious journalists who believe he's ahead of his time.\"\n        ],\n        \"semantic_type\": \"\",\n        \"description\": \"\"\n      }\n    },\n    {\n      \"column\": \"len_of_Description\",\n      \"properties\": {\n        \"dtype\": \"number\",\n        \"std\": 2925,\n        \"min\": 251,\n        \"max\": 58019,\n        \"num_unique_values\": 5851,\n        \"samples\": [\n          1029,\n          3440,\n          546\n        ],\n        \"semantic_type\": \"\",\n        \"description\": \"\"\n      }\n    }\n  ]\n}"
            }
          },
          "metadata": {},
          "execution_count": 2
        }
      ]
    },
    {
      "cell_type": "code",
      "source": [
        "data=data_frame_cleaned.iloc[15]['Description']\n",
        "data"
      ],
      "metadata": {
        "colab": {
          "base_uri": "https://localhost:8080/",
          "height": 140
        },
        "id": "xgGdDv1yHso7",
        "outputId": "4ea3a90c-3aab-42c5-f5bf-4e29f3ca88fc"
      },
      "execution_count": null,
      "outputs": [
        {
          "output_type": "execute_result",
          "data": {
            "text/plain": [
              "' The book of Job tells the story of an extremely righteous man named Job, who is very prosperous and has seven sons and three daughters. Constantly fearing that his sons may have sinned and \"cursed God in their hearts\", he habitually offers burnt offerings as a pardon for their sins. The \"sons of God\" and Satan (literally \"the Adversary\") present themselves to God, and God asks Satan his opinion on Job. Satan answers that Job is pious only because God has put a \"wall around\" him and \"blessed\" his favourite servant with prosperity, but if God were to stretch out his hand and strike everything that Job had, then he would surely curse God. God gives Satan permission to test Job\\'s righteousness. All Job\\'s possessions are destroyed: 500 yoke of oxen and 500 donkeys carried off by Sabeans; 7,000 sheep burned up by \\'The fire of God which fell from the sky\\'; 3,000 camels stolen by the Chaldeans; and the house of the firstborn destroyed by a mighty wind, killing Job\\'s ten children. Still Job does not curse God, but instead shaves his head, tears his clothes, and says, \"Naked I came out of my mother\\'s womb, and naked shall I return: Lord has given, and Lord has taken away; blessed be the name of Lord.\" As Job endures these calamities without reproaching God, Satan solicits permission to afflict his person as well, and God says, \"Behold, he is in your hand, but don\\'t touch his life.\" Satan, therefore, smites him with dreadful boils, and Job, seated in ashes, scrapes his skin with broken pottery. His wife prompts him to \"curse God, and die,\" but Job answers, \"You speak as one of the foolish speaks. Moreover, shall we receive good from God and shall not receive evil?\" Three friends of Job, Eliphaz the Temanite, Bildad the Shuhite and Zophar the Naamathite, come to console him. (A fourth, Elihu the Buzite (Heb: Alieua ben Barakal the Buzite), begins talking in Chapter 32 and plays a significant role in the dialogue, but his arrival is not described.) The friends spend seven days sitting on the ground with Job, without saying anything to him because they see that he is suffering and in much pain. Job at last breaks his silence and \"curses the day he was born.\" God responds saying that there are so many things Job does not know about how this world was formed or how nature works, that Job should consider God as being greater than the thunderstorm and strong enough to pull in the leviathan with a fish-hook. God then rebukes the three friends and says, \"I am angry with you... you have not spoken of me what is right.\" The story ends with Job restored to health, with a new family and twice as much livestock.'"
            ],
            "application/vnd.google.colaboratory.intrinsic+json": {
              "type": "string"
            }
          },
          "metadata": {},
          "execution_count": 2
        }
      ]
    },
    {
      "cell_type": "markdown",
      "source": [
        "#TEXT SUMMARIZATION USING THE FREQUENCY METHOD"
      ],
      "metadata": {
        "id": "BVuQOHitOT0Y"
      }
    },
    {
      "cell_type": "code",
      "source": [
        "import nltk\n",
        "nltk.download('stopwords')\n",
        "nltk.download('punkt')\n",
        "import numpy as np\n",
        "from nltk.tokenize import word_tokenize, sent_tokenize\n",
        "from nltk.corpus import stopwords"
      ],
      "metadata": {
        "colab": {
          "base_uri": "https://localhost:8080/"
        },
        "id": "OWfg1IKXHhUz",
        "outputId": "43bf9547-aa91-4b91-c007-014d7aa3d509"
      },
      "execution_count": null,
      "outputs": [
        {
          "output_type": "stream",
          "name": "stderr",
          "text": [
            "[nltk_data] Downloading package stopwords to /root/nltk_data...\n",
            "[nltk_data]   Package stopwords is already up-to-date!\n",
            "[nltk_data] Downloading package punkt to /root/nltk_data...\n",
            "[nltk_data]   Unzipping tokenizers/punkt.zip.\n"
          ]
        }
      ]
    },
    {
      "cell_type": "code",
      "source": [
        "stopwords1 = set(stopwords.words(\"english\"))\n",
        "words = word_tokenize(data)"
      ],
      "metadata": {
        "id": "9QMhILw3IDnG"
      },
      "execution_count": null,
      "outputs": []
    },
    {
      "cell_type": "code",
      "source": [
        "freqTable = {}\n",
        "for word in words:\n",
        "  word = word.lower()\n",
        "\n",
        "  if word in stopwords1:\n",
        "      print(word)\n",
        "  elif word in freqTable:\n",
        "    freqTable[word] += 1\n",
        "  else:\n",
        "    freqTable[word] = 1"
      ],
      "metadata": {
        "id": "eNR3Nzw_Ilkr"
      },
      "execution_count": null,
      "outputs": []
    },
    {
      "cell_type": "code",
      "source": [
        "sentences = sent_tokenize(data)"
      ],
      "metadata": {
        "id": "vn8V9cuhJtGH"
      },
      "execution_count": null,
      "outputs": []
    },
    {
      "cell_type": "code",
      "source": [
        "sentenceValue = {}\n",
        "for sentence in sentences:\n",
        "  for word, freq in freqTable.items():\n",
        "    if word in sentence.lower():\n",
        "      if sentence in sentenceValue:\n",
        "          sentenceValue[sentence] += freq\n",
        "      else:\n",
        "          sentenceValue[sentence] = freq\n",
        "\n",
        "\n",
        "sumValues = 0\n",
        "for sentence in sentenceValue:\n",
        "  sumValues += sentenceValue[sentence]\n",
        "average = int(sumValues / len(sentenceValue))"
      ],
      "metadata": {
        "id": "nRNwI1xUJzam"
      },
      "execution_count": null,
      "outputs": []
    },
    {
      "cell_type": "code",
      "source": [
        "summary = ''\n",
        "for sentence in sentences:\n",
        "  if (sentence in sentenceValue) and(sentenceValue[sentence] > (1.2 * average)):\n",
        "    summary += \"\" + sentence\n",
        "\n",
        "print(summary)"
      ],
      "metadata": {
        "id": "rh72FPXWKcx_"
      },
      "execution_count": null,
      "outputs": []
    },
    {
      "cell_type": "markdown",
      "source": [
        "#Sumy\n"
      ],
      "metadata": {
        "id": "ewrZBubGOYxX"
      }
    },
    {
      "cell_type": "code",
      "source": [
        "!pip install sumy"
      ],
      "metadata": {
        "id": "64c8APPGOu7-"
      },
      "execution_count": null,
      "outputs": []
    },
    {
      "cell_type": "code",
      "source": [
        "from sumy.parsers.plaintext import PlaintextParser\n",
        "from sumy.nlp.tokenizers import Tokenizer\n",
        "from sumy.summarizers.text_rank import TextRankSummarizer"
      ],
      "metadata": {
        "id": "kpBmMavrOem9"
      },
      "execution_count": null,
      "outputs": []
    },
    {
      "cell_type": "code",
      "source": [
        "# Creating text parser using tokenization\n",
        "parser = PlaintextParser.from_string(data, Tokenizer(\"english\"))"
      ],
      "metadata": {
        "id": "uhk-CSdCO9TE"
      },
      "execution_count": null,
      "outputs": []
    },
    {
      "cell_type": "code",
      "source": [
        "# Summarize using sumy TextRank\n",
        "summarizer = TextRankSummarizer()\n",
        "summary = summarizer(parser.document, 12)"
      ],
      "metadata": {
        "id": "fEWGjkJVPJlH"
      },
      "execution_count": null,
      "outputs": []
    },
    {
      "cell_type": "code",
      "source": [
        "text_summary = \"\"\n",
        "for sentence in summary:\n",
        "  text_summary += str(sentence)\n",
        "\n",
        "print(text_summary)"
      ],
      "metadata": {
        "colab": {
          "base_uri": "https://localhost:8080/"
        },
        "id": "u998UA4iPBs-",
        "outputId": "2bce001c-ea6b-4fb7-c773-5c9e0be0803b"
      },
      "execution_count": null,
      "outputs": [
        {
          "output_type": "stream",
          "name": "stdout",
          "text": [
            "The book of Job tells the story of an extremely righteous man named Job, who is very prosperous and has seven sons and three daughters.The \"sons of God\" and Satan (literally \"the Adversary\") present themselves to God, and God asks Satan his opinion on Job.Satan answers that Job is pious only because God has put a \"wall around\" him and \"blessed\" his favourite servant with prosperity, but if God were to stretch out his hand and strike everything that Job had, then he would surely curse God.All Job's possessions are destroyed: 500 yoke of oxen and 500 donkeys carried off by Sabeans; 7,000 sheep burned up by 'The fire of God which fell from the sky'; 3,000 camels stolen by the Chaldeans; and the house of the firstborn destroyed by a mighty wind, killing Job's ten children.Still Job does not curse God, but instead shaves his head, tears his clothes, and says, \"Naked I came out of my mother's womb, and naked shall I return: Lord has given, and Lord has taken away; blessed be the name of Lord.\"As Job endures these calamities without reproaching God, Satan solicits permission to afflict his person as well, and God says, \"Behold, he is in your hand, but don't touch his life.\"His wife prompts him to \"curse God, and die,\" but Job answers, \"You speak as one of the foolish speaks.Three friends of Job, Eliphaz the Temanite, Bildad the Shuhite and Zophar the Naamathite, come to console him.(A fourth, Elihu the Buzite (Heb: Alieua ben Barakal the Buzite), begins talking in Chapter 32 and plays a significant role in the dialogue, but his arrival is not described.)The friends spend seven days sitting on the ground with Job, without saying anything to him because they see that he is suffering and in much pain.God responds saying that there are so many things Job does not know about how this world was formed or how nature works, that Job should consider God as being greater than the thunderstorm and strong enough to pull in the leviathan with a fish-hook.God then rebukes the three friends and says, \"I am angry with you... you have not spoken of me what is right.\"\n"
          ]
        }
      ]
    },
    {
      "cell_type": "markdown",
      "source": [
        "#Lex Rank\n"
      ],
      "metadata": {
        "id": "hzAHj879R95J"
      }
    },
    {
      "cell_type": "code",
      "source": [
        "from sumy.parsers.plaintext import PlaintextParser\n",
        "from sumy.nlp.tokenizers import Tokenizer\n",
        "from sumy.summarizers.lex_rank import LexRankSummarizer"
      ],
      "metadata": {
        "id": "-E9W0CW6R_DJ"
      },
      "execution_count": null,
      "outputs": []
    },
    {
      "cell_type": "code",
      "source": [
        "parser = PlaintextParser.from_string(data, Tokenizer(\"english\"))\n",
        "summarizer = LexRankSummarizer()\n",
        "summary = summarizer(parser.document, 2)"
      ],
      "metadata": {
        "id": "cKOHAW0USFR4"
      },
      "execution_count": null,
      "outputs": []
    },
    {
      "cell_type": "code",
      "source": [
        "dp = []\n",
        "for i in summary:\n",
        "  lp = str(i)\n",
        "  dp.append(lp)\n",
        "  final_sentence = ' '.join(dp)\n",
        "\n",
        "print(final_sentence)"
      ],
      "metadata": {
        "colab": {
          "base_uri": "https://localhost:8080/"
        },
        "id": "_4akcwUASQs0",
        "outputId": "960e4396-e9af-47d4-c977-d3a1b11d3c8e"
      },
      "execution_count": null,
      "outputs": [
        {
          "output_type": "stream",
          "name": "stdout",
          "text": [
            "They adopt Seven Commandments of Animal-ism, the most important of which is, \"All animals are equal\". The changed commandments are as follows, with the changes bolded: * 4 No animal shall sleep in a bed with sheets.\n"
          ]
        }
      ]
    },
    {
      "cell_type": "markdown",
      "source": [
        "#Luhn"
      ],
      "metadata": {
        "id": "pgIRcbNHSb1w"
      }
    },
    {
      "cell_type": "code",
      "source": [
        "from sumy.summarizers.luhn import LuhnSummarizer"
      ],
      "metadata": {
        "id": "4N2meYT5SgHJ"
      },
      "execution_count": null,
      "outputs": []
    },
    {
      "cell_type": "code",
      "source": [
        "parser = PlaintextParser.from_string(data, Tokenizer(\"english\"))\n",
        "summarizer_luhn = LuhnSummarizer()\n",
        "summary_1 = summarizer_luhn(parser.document, 2)"
      ],
      "metadata": {
        "id": "FBUgaG1XSneK"
      },
      "execution_count": null,
      "outputs": []
    },
    {
      "cell_type": "code",
      "source": [
        "dp = []\n",
        "for i in summary_1:\n",
        "  lp = str(i)\n",
        "  dp.append(lp)\n",
        "  final_sentence = ' '.join(dp)\n",
        "\n",
        "\n",
        "\n",
        "print(final_sentence)"
      ],
      "metadata": {
        "colab": {
          "base_uri": "https://localhost:8080/"
        },
        "id": "v4I0jV5_Swcm",
        "outputId": "14e8f9b6-9b02-41a6-effe-454c9dd22d83"
      },
      "execution_count": null,
      "outputs": [
        {
          "output_type": "stream",
          "name": "stdout",
          "text": [
            "Later, Napoleon and his pigs secretly revise some commandments to clear them of accusations of law-breaking (such as \"No animal shall drink alcohol\" having \"to excess\" appended to it and \"No animal shall sleep in a bed\" with \"with sheets\" added to it). Eventually these are replaced with the maxims, \"All animals are equal, but some animals are more equal than others\", and \"Four legs good, two legs better!\"\n"
          ]
        }
      ]
    },
    {
      "cell_type": "markdown",
      "source": [
        "#LSA"
      ],
      "metadata": {
        "id": "M1GQ68MtTKWV"
      }
    },
    {
      "cell_type": "code",
      "source": [
        "from sumy.summarizers.lsa import LsaSummarizer"
      ],
      "metadata": {
        "id": "5V2NgbEMTMUf"
      },
      "execution_count": null,
      "outputs": []
    },
    {
      "cell_type": "code",
      "source": [
        "parser = PlaintextParser.from_string(data, Tokenizer(\"english\"))\n",
        "summarizer_lsa = LsaSummarizer()\n",
        "summary_2 = summarizer_lsa(parser.document, 2)"
      ],
      "metadata": {
        "id": "R0bD22ywTQW3"
      },
      "execution_count": null,
      "outputs": []
    },
    {
      "cell_type": "code",
      "source": [
        "for i in summary_2:\n",
        "  lp = str(i)\n",
        "  dp.append(lp)\n",
        "  final_sentence = ' '.join(dp)\n",
        "\n",
        "print(final_sentence)"
      ],
      "metadata": {
        "colab": {
          "base_uri": "https://localhost:8080/"
        },
        "id": "pzqKavYNTQjX",
        "outputId": "26928a4b-3e5a-4409-e4a9-8a6e2b1fce4f"
      },
      "execution_count": null,
      "outputs": [
        {
          "output_type": "stream",
          "name": "stdout",
          "text": [
            "Later, Napoleon and his pigs secretly revise some commandments to clear them of accusations of law-breaking (such as \"No animal shall drink alcohol\" having \"to excess\" appended to it and \"No animal shall sleep in a bed\" with \"with sheets\" added to it). Eventually these are replaced with the maxims, \"All animals are equal, but some animals are more equal than others\", and \"Four legs good, two legs better!\" The pigs elevate themselves to positions of leadership and set aside special food items, ostensibly for their personal health. The pigs Snowball, Napoleon, and Squealer adapt Old Major's ideas into an actual philosophy, which they formally name Animalism.\n"
          ]
        }
      ]
    },
    {
      "cell_type": "markdown",
      "source": [
        "#score sentence based on cosine distance of sentence\n"
      ],
      "metadata": {
        "id": "ygPFokAt3HgG"
      }
    },
    {
      "cell_type": "code",
      "source": [
        "import numpy as np\n",
        "import networkx as nx\n",
        "import nltk, re\n",
        "from nltk.corpus import stopwords\n",
        "from nltk.cluster.util import cosine_distance\n",
        "from nltk.tokenize import sent_tokenize\n",
        "nltk.download('punkt')"
      ],
      "metadata": {
        "colab": {
          "base_uri": "https://localhost:8080/"
        },
        "id": "kD0o6px33Npq",
        "outputId": "4d471802-ba7d-49f7-9036-0b2af4c96876"
      },
      "execution_count": null,
      "outputs": [
        {
          "output_type": "stream",
          "name": "stderr",
          "text": [
            "[nltk_data] Downloading package punkt to /root/nltk_data...\n",
            "[nltk_data]   Unzipping tokenizers/punkt.zip.\n"
          ]
        },
        {
          "output_type": "execute_result",
          "data": {
            "text/plain": [
              "True"
            ]
          },
          "metadata": {},
          "execution_count": 6
        }
      ]
    },
    {
      "cell_type": "code",
      "source": [
        "def read_text(txt: str = \"\"):\n",
        "  sentences = []\n",
        "  sentences = sent_tokenize(txt)\n",
        "  for sentence in sentences:\n",
        "    sentence.replace(\"[^a-zA-Z0-9]\", \" \")\n",
        "  return sentences\n",
        "\n",
        "\n",
        "\n",
        "def sentence_similarity(sentence1, sentence2, stopwords = []):\n",
        "  sentence1 = [word.lower() for word in sentence1]\n",
        "  sentence2 = [word.lower() for word in sentence2]\n",
        "  all_words = list(set(sentence1 + sentence2))\n",
        "  vector1 = [0] * len(all_words)\n",
        "  vector2 = [0] * len(all_words)\n",
        "  # First sentence vector\n",
        "  for word in sentence1:\n",
        "    if not word in stopwords:\n",
        "      vector1[all_words.index(word)] += 1\n",
        "  # Second sentence vector\n",
        "  for word in sentence2:\n",
        "    if not word in stopwords:\n",
        "      vector2[all_words.index(word)] += 1\n",
        "  # Vectors cosine similarity\n",
        "  return 1 - cosine_distance(vector1, vector2)\n",
        "\n",
        "\n",
        "def sentences_similarity_matrix(sentences, stopwords_):\n",
        "  similarity_matrix = np.zeros((len(sentences), len(sentences))) # N on N\n",
        "  for i in range(len(sentences)):\n",
        "      for j in range(len(sentences)):\n",
        "        if i != j:\n",
        "          similarity_matrix[i][j] = sentence_similarity(sentences[i], sentences[j], stopwords_)\n",
        "  return similarity_matrix"
      ],
      "metadata": {
        "id": "qZDudU2a3x-i"
      },
      "execution_count": null,
      "outputs": []
    },
    {
      "cell_type": "code",
      "source": [
        "\n",
        "def summarize(txt, top_n):\n",
        "\n",
        "\n",
        "  nltk.download('stopwords')\n",
        "  nltk.download('punkt')\n",
        "  final_stopwords = stopwords.words('english')\n",
        "\n",
        "\n",
        "\n",
        "  summarized_text = []\n",
        "  # Read and tokenize txt\n",
        "  sentences = read_text(txt)\n",
        "\n",
        "  # Get similarity matrix\n",
        "  sentence_similarity_matrix = sentences_similarity_matrix(sentences, final_stopwords)\n",
        "  # Rank sentences in the given similarity matrix\n",
        "  sentence_similarity_graph = nx.from_numpy_array(sentence_similarity_matrix)\n",
        "  scores = nx.pagerank(sentence_similarity_graph)\n",
        "  # Sort the rank of top sentences\n",
        "  ranked_sentences = sorted(((scores[i], s) for i, s in enumerate(sentences)), reverse = True)\n",
        "  # Get the top n number of sentences based on rank\n",
        "  for i in range(top_n):\n",
        "     summarized_text.append(ranked_sentences[i][1])\n",
        "  # Output the summarized version\n",
        "  summary = \" \".join(summarized_text)\n",
        "  return summary, len(sentences)"
      ],
      "metadata": {
        "id": "jc3Fo8yU5cwn"
      },
      "execution_count": null,
      "outputs": []
    },
    {
      "cell_type": "markdown",
      "source": [
        "#score sentence based on frequency"
      ],
      "metadata": {
        "id": "k5i6Yym19Iul"
      }
    },
    {
      "cell_type": "code",
      "source": [
        "import re # For extra cleaning\n",
        "import nltk\n",
        "nltk.download('punkt')\n",
        "nltk.download('stopwords')\n",
        "from nltk.tokenize import sent_tokenize,word_tokenize\n",
        "from nltk.corpus import stopwords\n",
        "import heapq"
      ],
      "metadata": {
        "colab": {
          "base_uri": "https://localhost:8080/"
        },
        "id": "acn-4OYq9IEp",
        "outputId": "47018194-bce3-4807-f61e-ee2a8ea76ef1"
      },
      "execution_count": null,
      "outputs": [
        {
          "output_type": "stream",
          "name": "stderr",
          "text": [
            "[nltk_data] Downloading package punkt to /root/nltk_data...\n",
            "[nltk_data]   Package punkt is already up-to-date!\n",
            "[nltk_data] Downloading package stopwords to /root/nltk_data...\n",
            "[nltk_data]   Package stopwords is already up-to-date!\n"
          ]
        }
      ]
    },
    {
      "cell_type": "code",
      "source": [
        "def clean_text(txt):\n",
        "  text = re.sub(r\"\\[[0-9]*\\]\", \" \", txt)\n",
        "  text = text.lower()\n",
        "  text = re.sub(r'\\s+',\" \", text)\n",
        "  text = re.sub(r\",\",\" \", text)\n",
        "  return text"
      ],
      "metadata": {
        "id": "GAbSqCDi9UbS"
      },
      "execution_count": null,
      "outputs": []
    },
    {
      "cell_type": "code",
      "source": [
        "cleaned_text = clean_text(data)"
      ],
      "metadata": {
        "id": "y7Zpot3x9Utt"
      },
      "execution_count": null,
      "outputs": []
    },
    {
      "cell_type": "code",
      "source": [
        "words_frequency = {}\n",
        "word_tokens = word_tokenize(cleaned_text)\n",
        "stopwords =  set(stopwords.words(\"english\"))\n",
        "for word in word_tokens:\n",
        "    if word not in stopwords:\n",
        "        if word not in words_frequency.keys():\n",
        "            words_frequency[word]=1\n",
        "        else:\n",
        "            words_frequency[word] +=1\n",
        "maximum_frequency = max(words_frequency.values())\n",
        "for word in words_frequency.keys():\n",
        "    words_frequency[word] = (words_frequency[word] / maximum_frequency)"
      ],
      "metadata": {
        "id": "R7VDF95Q_Cs_"
      },
      "execution_count": null,
      "outputs": []
    },
    {
      "cell_type": "code",
      "source": [
        "sentences_score = {}\n",
        "sentences_tokens = sent_tokenize(cleaned_text)\n",
        "for sentence in sentences_tokens:\n",
        "    for word in word_tokenize(sentence):\n",
        "        if word in words_frequency.keys():\n",
        "            if (len(sentence.split(\" \"))) < 30:\n",
        "                if sentence not in sentences_score.keys():\n",
        "                    sentences_score[sentence] = words_frequency[word]\n",
        "                else:\n",
        "                    sentences_score[sentence] += words_frequency[word]"
      ],
      "metadata": {
        "id": "-dUi21qY_D0E"
      },
      "execution_count": null,
      "outputs": []
    },
    {
      "cell_type": "code",
      "source": [
        "def get_key(desired_value):\n",
        "    for key, value in sentences_score.items():\n",
        "        if desired_value == value:\n",
        "            return key\n",
        "key = get_key(max(sentences_score.values()))\n",
        "print(max(sentences_score.values()),key)"
      ],
      "metadata": {
        "colab": {
          "base_uri": "https://localhost:8080/"
        },
        "id": "S1OrHjAzAP8M",
        "outputId": "80213791-f5ea-4279-f9e8-1bb0863ce1b4"
      },
      "execution_count": null,
      "outputs": [
        {
          "output_type": "stream",
          "name": "stdout",
          "text": [
            "8.666666666666666 the \"sons of god\" and satan (literally \"the adversary\") present themselves to god  and god asks satan his opinion on job.\n"
          ]
        }
      ]
    },
    {
      "cell_type": "code",
      "source": [
        "def get_key(desired_value):\n",
        "    for key, value in sentences_score.items():\n",
        "        if desired_value == value:\n",
        "            return key\n",
        "key = get_key(max(sentences_score.values()))\n",
        "N = 5\n",
        "summary = heapq.nlargest(N, sentences_score, key = sentences_score.get)\n",
        "print(\" \".join(summary))"
      ],
      "metadata": {
        "colab": {
          "base_uri": "https://localhost:8080/"
        },
        "id": "qr_hE9Cq_sHK",
        "outputId": "d85f0e42-26b8-4733-c4a6-3b4ce32f7ded"
      },
      "execution_count": null,
      "outputs": [
        {
          "output_type": "stream",
          "name": "stdout",
          "text": [
            "the \"sons of god\" and satan (literally \"the adversary\") present themselves to god  and god asks satan his opinion on job. his wife prompts him to \"curse god  and die \" but job answers  \"you speak as one of the foolish speaks.  the book of job tells the story of an extremely righteous man named job  who is very prosperous and has seven sons and three daughters. constantly fearing that his sons may have sinned and \"cursed god in their hearts\"  he habitually offers burnt offerings as a pardon for their sins. god then rebukes the three friends and says  \"i am angry with you... you have not spoken of me what is right.\"\n"
          ]
        }
      ]
    },
    {
      "cell_type": "markdown",
      "source": [
        "#Extractive Approach 3"
      ],
      "metadata": {
        "id": "SGu_9JbwGyyy"
      }
    },
    {
      "cell_type": "code",
      "source": [
        "!pip install spacy\n",
        "!python -m spacy download en_core_web_lg\n",
        "!pip install pytextrank"
      ],
      "metadata": {
        "id": "5Sql9HhKG8Q0"
      },
      "execution_count": null,
      "outputs": []
    },
    {
      "cell_type": "code",
      "source": [
        "import spacy\n",
        "import pytextrank"
      ],
      "metadata": {
        "id": "7pZABhh9G0LT"
      },
      "execution_count": null,
      "outputs": []
    },
    {
      "cell_type": "code",
      "source": [
        "nlp = spacy.load(\"en_core_web_lg\")\n",
        "nlp.add_pipe(\"textrank\")"
      ],
      "metadata": {
        "colab": {
          "base_uri": "https://localhost:8080/"
        },
        "id": "RFcwRBVsG2nk",
        "outputId": "b68d499a-2e56-4c80-a950-18a40eec3c63"
      },
      "execution_count": null,
      "outputs": [
        {
          "output_type": "execute_result",
          "data": {
            "text/plain": [
              "<pytextrank.base.BaseTextRankFactory at 0x7edb9463bd00>"
            ]
          },
          "metadata": {},
          "execution_count": 62
        }
      ]
    },
    {
      "cell_type": "code",
      "source": [
        "doc = nlp(data)"
      ],
      "metadata": {
        "id": "WcFfuwcmG2qT"
      },
      "execution_count": null,
      "outputs": []
    },
    {
      "cell_type": "code",
      "source": [
        "n_phrases, n_sentences = 2, 4\n",
        "for sent in doc._.textrank.summary(limit_phrases = n_phrases, limit_sentences = n_sentences):\n",
        "  print(sent)"
      ],
      "metadata": {
        "id": "R76TIcw1G2s4"
      },
      "execution_count": null,
      "outputs": []
    },
    {
      "cell_type": "markdown",
      "source": [
        "#transforemer"
      ],
      "metadata": {
        "id": "Na6VlSwjIU7W"
      }
    },
    {
      "cell_type": "code",
      "source": [
        "from transformers import PegasusForConditionalGeneration\n",
        "from transformers import PegasusTokenizer\n",
        "from transformers import pipeline"
      ],
      "metadata": {
        "id": "ZRx-2wiPG2wX"
      },
      "execution_count": null,
      "outputs": []
    },
    {
      "cell_type": "code",
      "source": [
        "len(data)"
      ],
      "metadata": {
        "colab": {
          "base_uri": "https://localhost:8080/"
        },
        "id": "2dPyK7VvI_-f",
        "outputId": "2ef2825d-23a6-4cbd-d3c0-5e54444d6737"
      },
      "execution_count": null,
      "outputs": [
        {
          "output_type": "execute_result",
          "data": {
            "text/plain": [
              "2635"
            ]
          },
          "metadata": {},
          "execution_count": 67
        }
      ]
    },
    {
      "cell_type": "code",
      "source": [
        "# Pick model\n",
        "model_name = \"google/pegasus-xsum\"\n",
        "# Load pretrained tokenizer\n",
        "pegasus_tokenizer = PegasusTokenizer.from_pretrained(model_name)\n",
        "# Define PEGASUS model\n",
        "pegasus_model = PegasusForConditionalGeneration.from_pretrained(model_name)\n",
        "# Create tokens\n",
        "tokens = pegasus_tokenizer(data, truncation = True, padding = \"longest\", return_tensors = \"pt\")"
      ],
      "metadata": {
        "colab": {
          "base_uri": "https://localhost:8080/",
          "height": 400,
          "referenced_widgets": [
            "7056865b66a44f8e913709096ef2c101",
            "3eedd714029c4fd8b3155c3eaddbc098",
            "a86df9bf40cd4541827b2c04fee9d85e",
            "27c5f6ffa92246c29b718adf5406b6f3",
            "d9b46e7f38f345d0a63ee805567f5822",
            "6fb6d3a2a9024042bdb24e6968c642a1",
            "549b1dfe75b44464af17d64185e75ead",
            "4f66d77f6e8e417f8e5c4df1b72509dd",
            "77b5fcecd5b1444fb9c32f6ca60d555d",
            "2674daa129c045a5b08fea36155c6e89",
            "b61d3144b0f6429f8081f83d9e21dd54",
            "ab617a7807c443419cf62988ee048bcc",
            "4d219a5e91a7436dafe54e15bd603b1a",
            "bcf4262113e742168527847e1b3a9800",
            "973cfaf1122946af93ca325f0a0b5c08",
            "671b6abc608c403093ebaf573f5429ca",
            "57757c9b8a724fe6a7113a3137073523",
            "ad1e10a3675f458295a22c0e72e43fad",
            "f2aa3e909fed494eb6b28bf89221209d",
            "a3dfa38d2dd54280a7abe362bd2e0322",
            "8d1c178d358d4369ac46a7f0a650b676",
            "f96e6d99631040f598baea6549b86752",
            "ba4b0f41b2584ef49d3e5c577fd9d851",
            "796ea37dc41c4dcaba390c76cbc14d37",
            "50e4b1ea72b2494d971ffbaedbafcac9",
            "155c9abd7d3541e9a92fc8dd1fb474c2",
            "7dfd066351fb44d2934e063b474b9a98",
            "166f240a82f8402787e94b6965b6e1c9",
            "b7bad49d1ede4a5ab82f002d1feea82c",
            "5b986eb50c644347b871a0442118a825",
            "b39f608629fc4e11a4ce5490a0cc36cd",
            "52f3db2daa44425c98a2a35edeb61978",
            "ca6b2255b37f49aa93cb701d19aecf34",
            "d3f4d50f37004229bcf93309ef1a34bb",
            "87012ee10ce8439eb44a0077f033708f",
            "02732a36281a4c57af7b1e488affd0e1",
            "0319b8dce045491e9957063de6c709c6",
            "1f8c7147d3f648679fae01ceff50208a",
            "4d2e92ffc55143fea5e9a90969f55c9a",
            "48e5e075e4924a43951f641b4b730693",
            "f9ad26c7a43e42cc8b069ff01a832610",
            "30d03038acd74a55bb98be2362bde30b",
            "1233b0b6f9b249509d9ccd0a21fb8a73",
            "38424d80c2dc461989ff9573e79ba6d2",
            "abc25230ebe34e1b9fbe2f8fd45d2b72",
            "3ff828b99dc54c968f87d202c07a3aab",
            "99f504c2dba7440eb61e70e4a78fbe34",
            "50d386b6a9b24ac3af995a9fa416c46d",
            "cb73dece947a4bb3acab6a2ae1060153",
            "0994150b29bd453d9db7603e89447c79",
            "d01629e4a1a345ba8dd41d1a0c04a23e",
            "37589ab9482a487080c04e1769e8b2de",
            "80382ce6ef0c4e10bda2ce849ec97d1e",
            "a0456f452cf34d61905189f555f2edeb",
            "0c1aaaa872d94685bc75e980952b71f4",
            "b538da93778e41f4a2ab9cb3e5607d69",
            "3ffcb8ad2004467d84d2df859b30851b",
            "93be6615aee44da78fddab74a9c2d7c1",
            "824647714fcd44d88446fc2fc0360025",
            "2b5241aab997408ea8a25281d3af8379",
            "dbe516c005464cf6b1cdec06aae862f5",
            "291c07865ef8420e847b8795b451b2c2",
            "76fde55e8dca4cc1af91a438e160c28c",
            "8b0f47909d2b4d6dae209aae88fcada4",
            "affb8d79ce244590b9316a541182ff3d",
            "9bf91a0d78c0414c974fd8290d5e8ba8",
            "55c3002f8d4846cb9b64ebf2aafc1880",
            "f703539aefc34f9c98429d09d5f5df35",
            "42016dbd71f14a59a4136013d8fb6c53",
            "f374b76f86d647aba2a564c3df10a2d0",
            "f26e2160edf84f389a15be9f9ba7ad9f",
            "a3c90e7261204a5cade5b082d190ecc6",
            "427560518ae740688f616109f1f2a97b",
            "3cbbe06bfbdd44fdbe53f671aa5659e0",
            "519b755f125948f7a4f4ecc1d9c2a083",
            "701578fc124a4825a4d4e7293a5b3861",
            "940013b3d8c74971b2acedbb58b113e0"
          ]
        },
        "id": "sYThpbfbIqa7",
        "outputId": "bc19024a-6dc0-4dc4-a2ac-8cf66a338f83"
      },
      "execution_count": null,
      "outputs": [
        {
          "output_type": "stream",
          "name": "stderr",
          "text": [
            "/usr/local/lib/python3.10/dist-packages/huggingface_hub/utils/_token.py:88: UserWarning: \n",
            "The secret `HF_TOKEN` does not exist in your Colab secrets.\n",
            "To authenticate with the Hugging Face Hub, create a token in your settings tab (https://huggingface.co/settings/tokens), set it as secret in your Google Colab and restart your session.\n",
            "You will be able to reuse this secret in all of your notebooks.\n",
            "Please note that authentication is recommended but still optional to access public models or datasets.\n",
            "  warnings.warn(\n"
          ]
        },
        {
          "output_type": "display_data",
          "data": {
            "text/plain": [
              "tokenizer_config.json:   0%|          | 0.00/87.0 [00:00<?, ?B/s]"
            ],
            "application/vnd.jupyter.widget-view+json": {
              "version_major": 2,
              "version_minor": 0,
              "model_id": "7056865b66a44f8e913709096ef2c101"
            }
          },
          "metadata": {}
        },
        {
          "output_type": "display_data",
          "data": {
            "text/plain": [
              "spiece.model:   0%|          | 0.00/1.91M [00:00<?, ?B/s]"
            ],
            "application/vnd.jupyter.widget-view+json": {
              "version_major": 2,
              "version_minor": 0,
              "model_id": "ab617a7807c443419cf62988ee048bcc"
            }
          },
          "metadata": {}
        },
        {
          "output_type": "display_data",
          "data": {
            "text/plain": [
              "special_tokens_map.json:   0%|          | 0.00/65.0 [00:00<?, ?B/s]"
            ],
            "application/vnd.jupyter.widget-view+json": {
              "version_major": 2,
              "version_minor": 0,
              "model_id": "ba4b0f41b2584ef49d3e5c577fd9d851"
            }
          },
          "metadata": {}
        },
        {
          "output_type": "display_data",
          "data": {
            "text/plain": [
              "tokenizer.json:   0%|          | 0.00/3.52M [00:00<?, ?B/s]"
            ],
            "application/vnd.jupyter.widget-view+json": {
              "version_major": 2,
              "version_minor": 0,
              "model_id": "d3f4d50f37004229bcf93309ef1a34bb"
            }
          },
          "metadata": {}
        },
        {
          "output_type": "display_data",
          "data": {
            "text/plain": [
              "config.json:   0%|          | 0.00/1.39k [00:00<?, ?B/s]"
            ],
            "application/vnd.jupyter.widget-view+json": {
              "version_major": 2,
              "version_minor": 0,
              "model_id": "abc25230ebe34e1b9fbe2f8fd45d2b72"
            }
          },
          "metadata": {}
        },
        {
          "output_type": "display_data",
          "data": {
            "text/plain": [
              "pytorch_model.bin:   0%|          | 0.00/2.28G [00:00<?, ?B/s]"
            ],
            "application/vnd.jupyter.widget-view+json": {
              "version_major": 2,
              "version_minor": 0,
              "model_id": "b538da93778e41f4a2ab9cb3e5607d69"
            }
          },
          "metadata": {}
        },
        {
          "output_type": "stream",
          "name": "stderr",
          "text": [
            "Some weights of PegasusForConditionalGeneration were not initialized from the model checkpoint at google/pegasus-xsum and are newly initialized: ['model.decoder.embed_positions.weight', 'model.encoder.embed_positions.weight']\n",
            "You should probably TRAIN this model on a down-stream task to be able to use it for predictions and inference.\n"
          ]
        },
        {
          "output_type": "display_data",
          "data": {
            "text/plain": [
              "generation_config.json:   0%|          | 0.00/259 [00:00<?, ?B/s]"
            ],
            "application/vnd.jupyter.widget-view+json": {
              "version_major": 2,
              "version_minor": 0,
              "model_id": "55c3002f8d4846cb9b64ebf2aafc1880"
            }
          },
          "metadata": {}
        }
      ]
    },
    {
      "cell_type": "code",
      "source": [
        "# Summarize the desired text\n",
        "encoded_summary = pegasus_model.generate(**tokens)\n",
        "# Decode the summarized text\n",
        "decoded_summary = pegasus_tokenizer.decode(encoded_summary[0], skip_special_tokens = True)"
      ],
      "metadata": {
        "id": "9VrnxrhrIqdT"
      },
      "execution_count": null,
      "outputs": []
    },
    {
      "cell_type": "code",
      "source": [
        "decoded_summary"
      ],
      "metadata": {
        "colab": {
          "base_uri": "https://localhost:8080/",
          "height": 53
        },
        "id": "UBbWdHI0JcLR",
        "outputId": "86f4179b-d684-4bfc-c15c-fd5635dbaceb"
      },
      "execution_count": null,
      "outputs": [
        {
          "output_type": "execute_result",
          "data": {
            "text/plain": [
              "'In our series of letters from African journalists, film-maker and columnist Ahmed Rashid looks at one of the most famous curses in the Bible.'"
            ],
            "application/vnd.google.colaboratory.intrinsic+json": {
              "type": "string"
            }
          },
          "metadata": {},
          "execution_count": 70
        }
      ]
    },
    {
      "cell_type": "code",
      "source": [
        "summarizer = pipeline(\"summarization\", model = model_name, tokenizer = pegasus_tokenizer, framework = \"pt\")\n",
        "# Create summary\n",
        "summary = summarizer(data, min_length = 200, max_length = 800, truncation = True)\n",
        "print(summary[0][\"summary_text\"])"
      ],
      "metadata": {
        "colab": {
          "base_uri": "https://localhost:8080/"
        },
        "id": "Viti4ozQIqgx",
        "outputId": "3e53a117-537d-4c34-9690-4a070dd4a947"
      },
      "execution_count": null,
      "outputs": [
        {
          "output_type": "stream",
          "name": "stderr",
          "text": [
            "Some weights of PegasusForConditionalGeneration were not initialized from the model checkpoint at google/pegasus-xsum and are newly initialized: ['model.decoder.embed_positions.weight', 'model.encoder.embed_positions.weight']\n",
            "You should probably TRAIN this model on a down-stream task to be able to use it for predictions and inference.\n",
            "Your max_length is set to 800, but your input_length is only 512. Since this is a summarization task, where outputs shorter than the input are typically wanted, you might consider decreasing max_length manually, e.g. summarizer('...', max_length=256)\n"
          ]
        },
        {
          "output_type": "stream",
          "name": "stdout",
          "text": [
            "In our series of letters from African journalists, film-maker and columnist Farai Sevenzo looks at the story of Job, one of the most famous biblical stories of all time, and examines why it is so important for us to know that there is no such thing as a \"curse\" or \"cursed day\" when it comes to God and God's people, and why it is so important for us to know that there is no such thing as a \"curse\" or \"cursed day\" when it comes to God and God's people, and why it is so important for us to know that there is no such thing as a \"curse\" or \"cursed day\" when it comes to God and God's people, and why it is so important for us to know that there is no such thing as a \"curse\" or \"cursed day\" when it comes to God and God's people, and why it is so important for us to know that there is no such thing as a \"curse\" or \"cursed day\" when it comes to God and God's people, and why it is so important for us to know that there is no such thing as a \"curse\" or \"cursed day\" when it comes to God and God's people, and why it is so important for us to know that there is no such thing as a \"curse\" or \"cursed day\".\n"
          ]
        }
      ]
    },
    {
      "cell_type": "code",
      "source": [
        "data"
      ],
      "metadata": {
        "id": "2B4__z-mKt0D",
        "outputId": "331374bf-8df7-4272-9547-797e94065ee5",
        "colab": {
          "base_uri": "https://localhost:8080/",
          "height": 348
        }
      },
      "execution_count": null,
      "outputs": [
        {
          "output_type": "execute_result",
          "data": {
            "text/plain": [
              "' The book of Job tells the story of an extremely righteous man named Job, who is very prosperous and has seven sons and three daughters. Constantly fearing that his sons may have sinned and \"cursed God in their hearts\", he habitually offers burnt offerings as a pardon for their sins. The \"sons of God\" and Satan (literally \"the Adversary\") present themselves to God, and God asks Satan his opinion on Job. Satan answers that Job is pious only because God has put a \"wall around\" him and \"blessed\" his favourite servant with prosperity, but if God were to stretch out his hand and strike everything that Job had, then he would surely curse God. God gives Satan permission to test Job\\'s righteousness. All Job\\'s possessions are destroyed: 500 yoke of oxen and 500 donkeys carried off by Sabeans; 7,000 sheep burned up by \\'The fire of God which fell from the sky\\'; 3,000 camels stolen by the Chaldeans; and the house of the firstborn destroyed by a mighty wind, killing Job\\'s ten children. Still Job does not curse God, but instead shaves his head, tears his clothes, and says, \"Naked I came out of my mother\\'s womb, and naked shall I return: Lord has given, and Lord has taken away; blessed be the name of Lord.\" As Job endures these calamities without reproaching God, Satan solicits permission to afflict his person as well, and God says, \"Behold, he is in your hand, but don\\'t touch his life.\" Satan, therefore, smites him with dreadful boils, and Job, seated in ashes, scrapes his skin with broken pottery. His wife prompts him to \"curse God, and die,\" but Job answers, \"You speak as one of the foolish speaks. Moreover, shall we receive good from God and shall not receive evil?\" Three friends of Job, Eliphaz the Temanite, Bildad the Shuhite and Zophar the Naamathite, come to console him. (A fourth, Elihu the Buzite (Heb: Alieua ben Barakal the Buzite), begins talking in Chapter 32 and plays a significant role in the dialogue, but his arrival is not described.) The friends spend seven days sitting on the ground with Job, without saying anything to him because they see that he is suffering and in much pain. Job at last breaks his silence and \"curses the day he was born.\" God responds saying that there are so many things Job does not know about how this world was formed or how nature works, that Job should consider God as being greater than the thunderstorm and strong enough to pull in the leviathan with a fish-hook. God then rebukes the three friends and says, \"I am angry with you... you have not spoken of me what is right.\" The story ends with Job restored to health, with a new family and twice as much livestock.'"
            ],
            "application/vnd.google.colaboratory.intrinsic+json": {
              "type": "string"
            }
          },
          "metadata": {},
          "execution_count": 72
        }
      ]
    }
  ]
}